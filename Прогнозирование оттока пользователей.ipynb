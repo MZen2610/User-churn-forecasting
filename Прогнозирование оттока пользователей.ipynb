{
 "cells": [
  {
   "cell_type": "markdown",
   "metadata": {
    "colab_type": "text",
    "id": "BBv-oIFLVYRz"
   },
   "source": [
    "# Курсовая работа. Блок ML Beginner\n",
    "<br>\n",
    "\n",
    "**NB!** Код должен быть с комментариями к каждому логическому блоку кода. В противном случае работа **не** будет принята. <br><br>\n",
    "Выполнение курсовой работы может потребовать использование дополнительных библиотек. Может потребоваться предварительная обработка данных.\n",
    "\n",
    "<br><br>\n",
    "**Описание работы:**\n",
    "&nbsp;&nbsp;&nbsp;&nbsp;\n",
    "<br><br>\n",
    "&nbsp;&nbsp;&nbsp;&nbsp; Любой бизнес хочет максимизировать количество клиентов. Для достижения этой цели важно не только пытаться привлечь новых, но и удерживать уже существующих. Удержать клиента обойдется компании дешевле, чем привлечь нового. Кроме того, новый клиент может оказаться слабо заинтересованным в услугах бизнеса и с ним будет сложно работать, тогда как о старых клиентах уже есть необходимые данные по взаимодействию с сервисом. \n",
    " <br>\n",
    "\n",
    "&nbsp;&nbsp;&nbsp;&nbsp; Соответственно, прогнозируя отток, мы можем вовремя среагировать и попытаться удержать клиента, который хочет уйти. Опираясь на данные об услугах, которыми пользуется клиент, мы можем сделать ему специальное предложение, пытаясь изменить его решение об уходе от оператора. Благодаря этому задача удержания будет легче в реализации, чем задача привлечения новых пользователей, о которых мы еще ничего не знаем.<br>\n",
    "\n",
    "&nbsp;&nbsp;&nbsp;&nbsp; Вам предоставлен набор данных от телекоммуникационной компании. В данных содержится информация о почти шести тысячах пользователей, их демографических характеристиках, услугах, которыми они пользуются, длительности пользования услугами оператора, методе оплаты, размере оплаты. \n",
    "<br>\n",
    "\n",
    "&nbsp;&nbsp;&nbsp;&nbsp; Cтоит задача проанализировать данные и спрогнозировать отток пользователей (выявить людей, которые продлят контракт и которые не продлят). Работа должна включать в себя следующие обязательные пункты: \n",
    "1. Описание данных *(с расчетом базовых статистик)*, \n",
    "2. Исследование зависимостей и формулирование гипотез, \n",
    "3. Построение моделей для прогнозирования оттока *(с обоснованием выбора той или иной модели)* на основе проверенных гипотез и выявленных взаимосвязей, \n",
    "4. Сравнение качества полученных моделей. \n",
    "\n",
    "Во втором разделе обязательно должно присутствовать обоснование гипотез, подробное описание выявленных взаимосвязей, а также их визуализация. \n",
    "<br>В четвертом дополнительно должны быть сформулированы общие выводы работы.\n",
    "\n",
    "<br><br>\n",
    "\n",
    "_________\n",
    "\n",
    "[Codebook](#Codebook) <br>\n",
    "[1. Описание данных](#1.-Описание-данных)<br>\n",
    "[2. Исследование зависимостей и формулирование гипотез](#2.-Исследование-зависимостей-и-формулирование-гипотез)<br>\n",
    "[3. Построение моделей для прогнозирования оттока](#3.-Построение-моделей-для-прогнозирования-оттока)<br>\n",
    "[4. Сравнение качества моделей](#4.-Сравнение-качества-моделей) <br>\n"
   ]
  },
  {
   "cell_type": "markdown",
   "metadata": {
    "colab_type": "text",
    "id": "uZY64JwzVYR6"
   },
   "source": [
    "## Codebook\n",
    "<br>\n",
    "\n",
    "[Ссылка для скачивания данных](https://drive.google.com/open?id=1dPCG76ST6NohYKtVMGv6HpFL-jD5p1eJ) \n",
    "<br><br>\n",
    "\n",
    "`telecom_users.csv` содержит следующие значения:<br><br>\n",
    "\n",
    "&nbsp;&nbsp;&nbsp;&nbsp; `customerID` – id клиента<br>\n",
    "&nbsp;&nbsp;&nbsp;&nbsp; `gender` – пол клиента (male/female)<br>\n",
    "&nbsp;&nbsp;&nbsp;&nbsp; `SeniorCitizen` – яляется ли клиент пенсионером (1, 0)<br>\n",
    "&nbsp;&nbsp;&nbsp;&nbsp; `Partner` – состоит ли клиент в браке (Yes, No)<br>\n",
    "&nbsp;&nbsp;&nbsp;&nbsp; `Dependents` – есть ли у клиента иждивенцы (Yes, No)<br>\n",
    "&nbsp;&nbsp;&nbsp;&nbsp; `tenure` – сколько месяцев человек являлся клиентом компании<br>\n",
    "&nbsp;&nbsp;&nbsp;&nbsp; `PhoneService` – подключена ли услуга телефонной связи (Yes, No)<br>\n",
    "&nbsp;&nbsp;&nbsp;&nbsp; `MultipleLines` – подключены ли несколько телефонных линий (Yes, No, No phone service)<br>\n",
    "&nbsp;&nbsp;&nbsp;&nbsp; `InternetService` – интернет-провайдер клиента (DSL, Fiber optic, No)<br>\n",
    "&nbsp;&nbsp;&nbsp;&nbsp; `OnlineSecurity` – подключена ли услуга онлайн-безопасности (Yes, No, No internet service)<br>\n",
    "&nbsp;&nbsp;&nbsp;&nbsp; `OnlineBackup` – подключена ли услуга online backup (Yes, No, No internet service)<br>\n",
    "&nbsp;&nbsp;&nbsp;&nbsp; `DeviceProtection` – есть ли у клиента страховка оборудования (Yes, No, No internet service)<br>\n",
    "&nbsp;&nbsp;&nbsp;&nbsp; `TechSupport` – подключена ли услуга технической поддержки (Yes, No, No internet service)<br>\n",
    "&nbsp;&nbsp;&nbsp;&nbsp; `StreamingTV` – подключена ли услуга стримингового телевидения (Yes, No, No internet service)<br>\n",
    "&nbsp;&nbsp;&nbsp;&nbsp; `StreamingMovies` – подключена ли услуга стримингового кинотеатра (Yes, No, No internet service)<br>\n",
    "&nbsp;&nbsp;&nbsp;&nbsp; `Contract` – тип контракта клиента (Month-to-month, One year, Two year)<br>\n",
    "&nbsp;&nbsp;&nbsp;&nbsp; `PaperlessBilling` – пользуется ли клиент безбумажным биллингом (Yes, No)<br>\n",
    "&nbsp;&nbsp;&nbsp;&nbsp; `PaymentMethod` – метод оплаты (Electronic check, Mailed check, Bank transfer (automatic), Credit card (automatic))<br>\n",
    "&nbsp;&nbsp;&nbsp;&nbsp; `MonthlyCharges` – месячный размер оплаты на настоящий момент<br>\n",
    "&nbsp;&nbsp;&nbsp;&nbsp; `TotalCharges` – общая сумма, которую клиент заплатил за услуги за все время<br>\n",
    "&nbsp;&nbsp;&nbsp;&nbsp; `Churn` – произошел ли отток (Yes or No)<br>"
   ]
  },
  {
   "cell_type": "markdown",
   "metadata": {
    "colab_type": "text",
    "id": "sIRCLuWGVYR9"
   },
   "source": [
    "# 1. Описание данных"
   ]
  },
  {
   "cell_type": "markdown",
   "metadata": {
    "colab_type": "text",
    "id": "C76HazzNuz36"
   },
   "source": [
    "Что бы описать данные нам нужно их загрузить, а что бы их загрузить нужно установить нужные библиотеки"
   ]
  },
  {
   "cell_type": "code",
   "execution_count": 15,
   "metadata": {
    "colab": {},
    "colab_type": "code",
    "id": "82RRqw9Uspow"
   },
   "outputs": [],
   "source": [
    "import pandas as pd\n",
    "import numpy as np"
   ]
  },
  {
   "cell_type": "markdown",
   "metadata": {
    "colab_type": "text",
    "id": "EP3uzc56vEFg"
   },
   "source": [
    "Выведу первые 20 строк и проанализирую данные: какие колонки присутствуют (более конкретная информация по ним есть выше), каким образом в них обозначены данные"
   ]
  },
  {
   "cell_type": "code",
   "execution_count": 16,
   "metadata": {
    "colab": {
     "base_uri": "https://localhost:8080/",
     "height": 566
    },
    "colab_type": "code",
    "id": "5SQBdRS0spr2",
    "outputId": "fc5867fe-a723-4d99-9e85-fbcdecac070d"
   },
   "outputs": [
    {
     "data": {
      "text/html": [
       "<div>\n",
       "<style scoped>\n",
       "    .dataframe tbody tr th:only-of-type {\n",
       "        vertical-align: middle;\n",
       "    }\n",
       "\n",
       "    .dataframe tbody tr th {\n",
       "        vertical-align: top;\n",
       "    }\n",
       "\n",
       "    .dataframe thead th {\n",
       "        text-align: right;\n",
       "    }\n",
       "</style>\n",
       "<table border=\"1\" class=\"dataframe\">\n",
       "  <thead>\n",
       "    <tr style=\"text-align: right;\">\n",
       "      <th></th>\n",
       "      <th>Unnamed: 0</th>\n",
       "      <th>customerID</th>\n",
       "      <th>gender</th>\n",
       "      <th>SeniorCitizen</th>\n",
       "      <th>Partner</th>\n",
       "      <th>Dependents</th>\n",
       "      <th>tenure</th>\n",
       "      <th>PhoneService</th>\n",
       "      <th>MultipleLines</th>\n",
       "      <th>InternetService</th>\n",
       "      <th>...</th>\n",
       "      <th>DeviceProtection</th>\n",
       "      <th>TechSupport</th>\n",
       "      <th>StreamingTV</th>\n",
       "      <th>StreamingMovies</th>\n",
       "      <th>Contract</th>\n",
       "      <th>PaperlessBilling</th>\n",
       "      <th>PaymentMethod</th>\n",
       "      <th>MonthlyCharges</th>\n",
       "      <th>TotalCharges</th>\n",
       "      <th>Churn</th>\n",
       "    </tr>\n",
       "  </thead>\n",
       "  <tbody>\n",
       "    <tr>\n",
       "      <th>0</th>\n",
       "      <td>1869</td>\n",
       "      <td>7010-BRBUU</td>\n",
       "      <td>Male</td>\n",
       "      <td>0</td>\n",
       "      <td>Yes</td>\n",
       "      <td>Yes</td>\n",
       "      <td>72</td>\n",
       "      <td>Yes</td>\n",
       "      <td>Yes</td>\n",
       "      <td>No</td>\n",
       "      <td>...</td>\n",
       "      <td>No internet service</td>\n",
       "      <td>No internet service</td>\n",
       "      <td>No internet service</td>\n",
       "      <td>No internet service</td>\n",
       "      <td>Two year</td>\n",
       "      <td>No</td>\n",
       "      <td>Credit card (automatic)</td>\n",
       "      <td>24.10</td>\n",
       "      <td>1734.65</td>\n",
       "      <td>No</td>\n",
       "    </tr>\n",
       "    <tr>\n",
       "      <th>1</th>\n",
       "      <td>4528</td>\n",
       "      <td>9688-YGXVR</td>\n",
       "      <td>Female</td>\n",
       "      <td>0</td>\n",
       "      <td>No</td>\n",
       "      <td>No</td>\n",
       "      <td>44</td>\n",
       "      <td>Yes</td>\n",
       "      <td>No</td>\n",
       "      <td>Fiber optic</td>\n",
       "      <td>...</td>\n",
       "      <td>Yes</td>\n",
       "      <td>No</td>\n",
       "      <td>Yes</td>\n",
       "      <td>No</td>\n",
       "      <td>Month-to-month</td>\n",
       "      <td>Yes</td>\n",
       "      <td>Credit card (automatic)</td>\n",
       "      <td>88.15</td>\n",
       "      <td>3973.2</td>\n",
       "      <td>No</td>\n",
       "    </tr>\n",
       "    <tr>\n",
       "      <th>2</th>\n",
       "      <td>6344</td>\n",
       "      <td>9286-DOJGF</td>\n",
       "      <td>Female</td>\n",
       "      <td>1</td>\n",
       "      <td>Yes</td>\n",
       "      <td>No</td>\n",
       "      <td>38</td>\n",
       "      <td>Yes</td>\n",
       "      <td>Yes</td>\n",
       "      <td>Fiber optic</td>\n",
       "      <td>...</td>\n",
       "      <td>No</td>\n",
       "      <td>No</td>\n",
       "      <td>No</td>\n",
       "      <td>No</td>\n",
       "      <td>Month-to-month</td>\n",
       "      <td>Yes</td>\n",
       "      <td>Bank transfer (automatic)</td>\n",
       "      <td>74.95</td>\n",
       "      <td>2869.85</td>\n",
       "      <td>Yes</td>\n",
       "    </tr>\n",
       "    <tr>\n",
       "      <th>3</th>\n",
       "      <td>6739</td>\n",
       "      <td>6994-KERXL</td>\n",
       "      <td>Male</td>\n",
       "      <td>0</td>\n",
       "      <td>No</td>\n",
       "      <td>No</td>\n",
       "      <td>4</td>\n",
       "      <td>Yes</td>\n",
       "      <td>No</td>\n",
       "      <td>DSL</td>\n",
       "      <td>...</td>\n",
       "      <td>No</td>\n",
       "      <td>No</td>\n",
       "      <td>No</td>\n",
       "      <td>Yes</td>\n",
       "      <td>Month-to-month</td>\n",
       "      <td>Yes</td>\n",
       "      <td>Electronic check</td>\n",
       "      <td>55.90</td>\n",
       "      <td>238.5</td>\n",
       "      <td>No</td>\n",
       "    </tr>\n",
       "    <tr>\n",
       "      <th>4</th>\n",
       "      <td>432</td>\n",
       "      <td>2181-UAESM</td>\n",
       "      <td>Male</td>\n",
       "      <td>0</td>\n",
       "      <td>No</td>\n",
       "      <td>No</td>\n",
       "      <td>2</td>\n",
       "      <td>Yes</td>\n",
       "      <td>No</td>\n",
       "      <td>DSL</td>\n",
       "      <td>...</td>\n",
       "      <td>Yes</td>\n",
       "      <td>No</td>\n",
       "      <td>No</td>\n",
       "      <td>No</td>\n",
       "      <td>Month-to-month</td>\n",
       "      <td>No</td>\n",
       "      <td>Electronic check</td>\n",
       "      <td>53.45</td>\n",
       "      <td>119.5</td>\n",
       "      <td>No</td>\n",
       "    </tr>\n",
       "    <tr>\n",
       "      <th>5</th>\n",
       "      <td>2215</td>\n",
       "      <td>4312-GVYNH</td>\n",
       "      <td>Female</td>\n",
       "      <td>0</td>\n",
       "      <td>Yes</td>\n",
       "      <td>No</td>\n",
       "      <td>70</td>\n",
       "      <td>No</td>\n",
       "      <td>No phone service</td>\n",
       "      <td>DSL</td>\n",
       "      <td>...</td>\n",
       "      <td>Yes</td>\n",
       "      <td>Yes</td>\n",
       "      <td>No</td>\n",
       "      <td>Yes</td>\n",
       "      <td>Two year</td>\n",
       "      <td>Yes</td>\n",
       "      <td>Bank transfer (automatic)</td>\n",
       "      <td>49.85</td>\n",
       "      <td>3370.2</td>\n",
       "      <td>No</td>\n",
       "    </tr>\n",
       "    <tr>\n",
       "      <th>6</th>\n",
       "      <td>5260</td>\n",
       "      <td>2495-KZNFB</td>\n",
       "      <td>Female</td>\n",
       "      <td>0</td>\n",
       "      <td>No</td>\n",
       "      <td>No</td>\n",
       "      <td>33</td>\n",
       "      <td>Yes</td>\n",
       "      <td>Yes</td>\n",
       "      <td>Fiber optic</td>\n",
       "      <td>...</td>\n",
       "      <td>No</td>\n",
       "      <td>No</td>\n",
       "      <td>No</td>\n",
       "      <td>Yes</td>\n",
       "      <td>Month-to-month</td>\n",
       "      <td>Yes</td>\n",
       "      <td>Electronic check</td>\n",
       "      <td>90.65</td>\n",
       "      <td>2989.6</td>\n",
       "      <td>No</td>\n",
       "    </tr>\n",
       "    <tr>\n",
       "      <th>7</th>\n",
       "      <td>6001</td>\n",
       "      <td>4367-NHWMM</td>\n",
       "      <td>Female</td>\n",
       "      <td>0</td>\n",
       "      <td>No</td>\n",
       "      <td>No</td>\n",
       "      <td>1</td>\n",
       "      <td>No</td>\n",
       "      <td>No phone service</td>\n",
       "      <td>DSL</td>\n",
       "      <td>...</td>\n",
       "      <td>No</td>\n",
       "      <td>No</td>\n",
       "      <td>No</td>\n",
       "      <td>No</td>\n",
       "      <td>Month-to-month</td>\n",
       "      <td>Yes</td>\n",
       "      <td>Mailed check</td>\n",
       "      <td>24.90</td>\n",
       "      <td>24.9</td>\n",
       "      <td>No</td>\n",
       "    </tr>\n",
       "    <tr>\n",
       "      <th>8</th>\n",
       "      <td>1480</td>\n",
       "      <td>8898-KASCD</td>\n",
       "      <td>Male</td>\n",
       "      <td>0</td>\n",
       "      <td>No</td>\n",
       "      <td>No</td>\n",
       "      <td>39</td>\n",
       "      <td>No</td>\n",
       "      <td>No phone service</td>\n",
       "      <td>DSL</td>\n",
       "      <td>...</td>\n",
       "      <td>Yes</td>\n",
       "      <td>Yes</td>\n",
       "      <td>No</td>\n",
       "      <td>No</td>\n",
       "      <td>One year</td>\n",
       "      <td>No</td>\n",
       "      <td>Mailed check</td>\n",
       "      <td>35.55</td>\n",
       "      <td>1309.15</td>\n",
       "      <td>No</td>\n",
       "    </tr>\n",
       "    <tr>\n",
       "      <th>9</th>\n",
       "      <td>5137</td>\n",
       "      <td>8016-NCFVO</td>\n",
       "      <td>Male</td>\n",
       "      <td>1</td>\n",
       "      <td>No</td>\n",
       "      <td>No</td>\n",
       "      <td>55</td>\n",
       "      <td>Yes</td>\n",
       "      <td>Yes</td>\n",
       "      <td>Fiber optic</td>\n",
       "      <td>...</td>\n",
       "      <td>Yes</td>\n",
       "      <td>Yes</td>\n",
       "      <td>Yes</td>\n",
       "      <td>Yes</td>\n",
       "      <td>Month-to-month</td>\n",
       "      <td>Yes</td>\n",
       "      <td>Electronic check</td>\n",
       "      <td>116.50</td>\n",
       "      <td>6382.55</td>\n",
       "      <td>No</td>\n",
       "    </tr>\n",
       "  </tbody>\n",
       "</table>\n",
       "<p>10 rows × 22 columns</p>\n",
       "</div>"
      ],
      "text/plain": [
       "   Unnamed: 0  customerID  gender  SeniorCitizen Partner Dependents  tenure  \\\n",
       "0        1869  7010-BRBUU    Male              0     Yes        Yes      72   \n",
       "1        4528  9688-YGXVR  Female              0      No         No      44   \n",
       "2        6344  9286-DOJGF  Female              1     Yes         No      38   \n",
       "3        6739  6994-KERXL    Male              0      No         No       4   \n",
       "4         432  2181-UAESM    Male              0      No         No       2   \n",
       "5        2215  4312-GVYNH  Female              0     Yes         No      70   \n",
       "6        5260  2495-KZNFB  Female              0      No         No      33   \n",
       "7        6001  4367-NHWMM  Female              0      No         No       1   \n",
       "8        1480  8898-KASCD    Male              0      No         No      39   \n",
       "9        5137  8016-NCFVO    Male              1      No         No      55   \n",
       "\n",
       "  PhoneService     MultipleLines InternetService  ...     DeviceProtection  \\\n",
       "0          Yes               Yes              No  ...  No internet service   \n",
       "1          Yes                No     Fiber optic  ...                  Yes   \n",
       "2          Yes               Yes     Fiber optic  ...                   No   \n",
       "3          Yes                No             DSL  ...                   No   \n",
       "4          Yes                No             DSL  ...                  Yes   \n",
       "5           No  No phone service             DSL  ...                  Yes   \n",
       "6          Yes               Yes     Fiber optic  ...                   No   \n",
       "7           No  No phone service             DSL  ...                   No   \n",
       "8           No  No phone service             DSL  ...                  Yes   \n",
       "9          Yes               Yes     Fiber optic  ...                  Yes   \n",
       "\n",
       "           TechSupport          StreamingTV      StreamingMovies  \\\n",
       "0  No internet service  No internet service  No internet service   \n",
       "1                   No                  Yes                   No   \n",
       "2                   No                   No                   No   \n",
       "3                   No                   No                  Yes   \n",
       "4                   No                   No                   No   \n",
       "5                  Yes                   No                  Yes   \n",
       "6                   No                   No                  Yes   \n",
       "7                   No                   No                   No   \n",
       "8                  Yes                   No                   No   \n",
       "9                  Yes                  Yes                  Yes   \n",
       "\n",
       "         Contract PaperlessBilling              PaymentMethod MonthlyCharges  \\\n",
       "0        Two year               No    Credit card (automatic)          24.10   \n",
       "1  Month-to-month              Yes    Credit card (automatic)          88.15   \n",
       "2  Month-to-month              Yes  Bank transfer (automatic)          74.95   \n",
       "3  Month-to-month              Yes           Electronic check          55.90   \n",
       "4  Month-to-month               No           Electronic check          53.45   \n",
       "5        Two year              Yes  Bank transfer (automatic)          49.85   \n",
       "6  Month-to-month              Yes           Electronic check          90.65   \n",
       "7  Month-to-month              Yes               Mailed check          24.90   \n",
       "8        One year               No               Mailed check          35.55   \n",
       "9  Month-to-month              Yes           Electronic check         116.50   \n",
       "\n",
       "  TotalCharges  Churn  \n",
       "0      1734.65     No  \n",
       "1       3973.2     No  \n",
       "2      2869.85    Yes  \n",
       "3        238.5     No  \n",
       "4        119.5     No  \n",
       "5       3370.2     No  \n",
       "6       2989.6     No  \n",
       "7         24.9     No  \n",
       "8      1309.15     No  \n",
       "9      6382.55     No  \n",
       "\n",
       "[10 rows x 22 columns]"
      ]
     },
     "execution_count": 16,
     "metadata": {},
     "output_type": "execute_result"
    }
   ],
   "source": [
    "df = pd.read_csv('./telecom_users.csv')\n",
    "df.head(10)"
   ]
  },
  {
   "cell_type": "markdown",
   "metadata": {
    "colab_type": "text",
    "id": "1W9R2GIaugA_"
   },
   "source": [
    "Узнаю какие типы данных используются"
   ]
  },
  {
   "cell_type": "code",
   "execution_count": 17,
   "metadata": {
    "colab": {
     "base_uri": "https://localhost:8080/",
     "height": 408
    },
    "colab_type": "code",
    "id": "HkzNXA92ugA_",
    "outputId": "5cb6fad3-1fb7-44ee-9726-1371ed3caafe"
   },
   "outputs": [
    {
     "data": {
      "text/plain": [
       "Unnamed: 0            int64\n",
       "customerID           object\n",
       "gender               object\n",
       "SeniorCitizen         int64\n",
       "Partner              object\n",
       "Dependents           object\n",
       "tenure                int64\n",
       "PhoneService         object\n",
       "MultipleLines        object\n",
       "InternetService      object\n",
       "OnlineSecurity       object\n",
       "OnlineBackup         object\n",
       "DeviceProtection     object\n",
       "TechSupport          object\n",
       "StreamingTV          object\n",
       "StreamingMovies      object\n",
       "Contract             object\n",
       "PaperlessBilling     object\n",
       "PaymentMethod        object\n",
       "MonthlyCharges      float64\n",
       "TotalCharges         object\n",
       "Churn                object\n",
       "dtype: object"
      ]
     },
     "execution_count": 17,
     "metadata": {},
     "output_type": "execute_result"
    }
   ],
   "source": [
    "df.dtypes"
   ]
  },
  {
   "cell_type": "markdown",
   "metadata": {
    "colab_type": "text",
    "id": "_7RTqMCEugBG"
   },
   "source": [
    "Проверю, имеются ли пропущенные значения в колонках, и выведу сумму всех пропущенных значений в каждой из колонок."
   ]
  },
  {
   "cell_type": "code",
   "execution_count": 18,
   "metadata": {
    "colab": {
     "base_uri": "https://localhost:8080/",
     "height": 408
    },
    "colab_type": "code",
    "id": "7bRI9P0gugBI",
    "outputId": "6d2745eb-16cf-43f6-bc7a-8716eceb313a"
   },
   "outputs": [
    {
     "data": {
      "text/plain": [
       "Unnamed: 0          0\n",
       "customerID          0\n",
       "gender              0\n",
       "SeniorCitizen       0\n",
       "Partner             0\n",
       "Dependents          0\n",
       "tenure              0\n",
       "PhoneService        0\n",
       "MultipleLines       0\n",
       "InternetService     0\n",
       "OnlineSecurity      0\n",
       "OnlineBackup        0\n",
       "DeviceProtection    0\n",
       "TechSupport         0\n",
       "StreamingTV         0\n",
       "StreamingMovies     0\n",
       "Contract            0\n",
       "PaperlessBilling    0\n",
       "PaymentMethod       0\n",
       "MonthlyCharges      0\n",
       "TotalCharges        0\n",
       "Churn               0\n",
       "dtype: int64"
      ]
     },
     "execution_count": 18,
     "metadata": {},
     "output_type": "execute_result"
    }
   ],
   "source": [
    "df.isnull().sum()"
   ]
  },
  {
   "cell_type": "markdown",
   "metadata": {
    "colab_type": "text",
    "id": "axQERKahugBO"
   },
   "source": [
    "Да ладно, не одного пропущенного значения, прямо не интересно (= <br>\n",
    "Следующим шагом преобразую значения в колонках к рабочему виду и отсортирую данные"
   ]
  },
  {
   "cell_type": "code",
   "execution_count": 19,
   "metadata": {
    "colab": {
     "base_uri": "https://localhost:8080/",
     "height": 566
    },
    "colab_type": "code",
    "id": "j34nr3HyugBR",
    "outputId": "3ed2b5b4-519c-4b2b-e762-a69a17353227"
   },
   "outputs": [
    {
     "data": {
      "text/html": [
       "<div>\n",
       "<style scoped>\n",
       "    .dataframe tbody tr th:only-of-type {\n",
       "        vertical-align: middle;\n",
       "    }\n",
       "\n",
       "    .dataframe tbody tr th {\n",
       "        vertical-align: top;\n",
       "    }\n",
       "\n",
       "    .dataframe thead th {\n",
       "        text-align: right;\n",
       "    }\n",
       "</style>\n",
       "<table border=\"1\" class=\"dataframe\">\n",
       "  <thead>\n",
       "    <tr style=\"text-align: right;\">\n",
       "      <th></th>\n",
       "      <th>Unnamed: 0</th>\n",
       "      <th>customerID</th>\n",
       "      <th>gender</th>\n",
       "      <th>SeniorCitizen</th>\n",
       "      <th>Partner</th>\n",
       "      <th>Dependents</th>\n",
       "      <th>tenure</th>\n",
       "      <th>PhoneService</th>\n",
       "      <th>MultipleLines</th>\n",
       "      <th>InternetService</th>\n",
       "      <th>...</th>\n",
       "      <th>DeviceProtection</th>\n",
       "      <th>TechSupport</th>\n",
       "      <th>StreamingTV</th>\n",
       "      <th>StreamingMovies</th>\n",
       "      <th>Contract</th>\n",
       "      <th>PaperlessBilling</th>\n",
       "      <th>PaymentMethod</th>\n",
       "      <th>MonthlyCharges</th>\n",
       "      <th>TotalCharges</th>\n",
       "      <th>Churn</th>\n",
       "    </tr>\n",
       "  </thead>\n",
       "  <tbody>\n",
       "    <tr>\n",
       "      <th>0</th>\n",
       "      <td>1869</td>\n",
       "      <td>7010-BRBUU</td>\n",
       "      <td>1</td>\n",
       "      <td>0</td>\n",
       "      <td>1</td>\n",
       "      <td>1</td>\n",
       "      <td>72</td>\n",
       "      <td>1</td>\n",
       "      <td>1</td>\n",
       "      <td>0</td>\n",
       "      <td>...</td>\n",
       "      <td>2</td>\n",
       "      <td>2</td>\n",
       "      <td>2</td>\n",
       "      <td>2</td>\n",
       "      <td>2</td>\n",
       "      <td>0</td>\n",
       "      <td>3</td>\n",
       "      <td>24.10</td>\n",
       "      <td>1734.65</td>\n",
       "      <td>0</td>\n",
       "    </tr>\n",
       "    <tr>\n",
       "      <th>1</th>\n",
       "      <td>4528</td>\n",
       "      <td>9688-YGXVR</td>\n",
       "      <td>0</td>\n",
       "      <td>0</td>\n",
       "      <td>0</td>\n",
       "      <td>0</td>\n",
       "      <td>44</td>\n",
       "      <td>1</td>\n",
       "      <td>0</td>\n",
       "      <td>2</td>\n",
       "      <td>...</td>\n",
       "      <td>1</td>\n",
       "      <td>0</td>\n",
       "      <td>1</td>\n",
       "      <td>0</td>\n",
       "      <td>0</td>\n",
       "      <td>1</td>\n",
       "      <td>3</td>\n",
       "      <td>88.15</td>\n",
       "      <td>3973.20</td>\n",
       "      <td>0</td>\n",
       "    </tr>\n",
       "    <tr>\n",
       "      <th>2</th>\n",
       "      <td>6344</td>\n",
       "      <td>9286-DOJGF</td>\n",
       "      <td>0</td>\n",
       "      <td>1</td>\n",
       "      <td>1</td>\n",
       "      <td>0</td>\n",
       "      <td>38</td>\n",
       "      <td>1</td>\n",
       "      <td>1</td>\n",
       "      <td>2</td>\n",
       "      <td>...</td>\n",
       "      <td>0</td>\n",
       "      <td>0</td>\n",
       "      <td>0</td>\n",
       "      <td>0</td>\n",
       "      <td>0</td>\n",
       "      <td>1</td>\n",
       "      <td>2</td>\n",
       "      <td>74.95</td>\n",
       "      <td>2869.85</td>\n",
       "      <td>1</td>\n",
       "    </tr>\n",
       "    <tr>\n",
       "      <th>3</th>\n",
       "      <td>6739</td>\n",
       "      <td>6994-KERXL</td>\n",
       "      <td>1</td>\n",
       "      <td>0</td>\n",
       "      <td>0</td>\n",
       "      <td>0</td>\n",
       "      <td>4</td>\n",
       "      <td>1</td>\n",
       "      <td>0</td>\n",
       "      <td>1</td>\n",
       "      <td>...</td>\n",
       "      <td>0</td>\n",
       "      <td>0</td>\n",
       "      <td>0</td>\n",
       "      <td>1</td>\n",
       "      <td>0</td>\n",
       "      <td>1</td>\n",
       "      <td>0</td>\n",
       "      <td>55.90</td>\n",
       "      <td>238.50</td>\n",
       "      <td>0</td>\n",
       "    </tr>\n",
       "    <tr>\n",
       "      <th>4</th>\n",
       "      <td>432</td>\n",
       "      <td>2181-UAESM</td>\n",
       "      <td>1</td>\n",
       "      <td>0</td>\n",
       "      <td>0</td>\n",
       "      <td>0</td>\n",
       "      <td>2</td>\n",
       "      <td>1</td>\n",
       "      <td>0</td>\n",
       "      <td>1</td>\n",
       "      <td>...</td>\n",
       "      <td>1</td>\n",
       "      <td>0</td>\n",
       "      <td>0</td>\n",
       "      <td>0</td>\n",
       "      <td>0</td>\n",
       "      <td>0</td>\n",
       "      <td>0</td>\n",
       "      <td>53.45</td>\n",
       "      <td>119.50</td>\n",
       "      <td>0</td>\n",
       "    </tr>\n",
       "    <tr>\n",
       "      <th>5</th>\n",
       "      <td>2215</td>\n",
       "      <td>4312-GVYNH</td>\n",
       "      <td>0</td>\n",
       "      <td>0</td>\n",
       "      <td>1</td>\n",
       "      <td>0</td>\n",
       "      <td>70</td>\n",
       "      <td>0</td>\n",
       "      <td>2</td>\n",
       "      <td>1</td>\n",
       "      <td>...</td>\n",
       "      <td>1</td>\n",
       "      <td>1</td>\n",
       "      <td>0</td>\n",
       "      <td>1</td>\n",
       "      <td>2</td>\n",
       "      <td>1</td>\n",
       "      <td>2</td>\n",
       "      <td>49.85</td>\n",
       "      <td>3370.20</td>\n",
       "      <td>0</td>\n",
       "    </tr>\n",
       "    <tr>\n",
       "      <th>6</th>\n",
       "      <td>5260</td>\n",
       "      <td>2495-KZNFB</td>\n",
       "      <td>0</td>\n",
       "      <td>0</td>\n",
       "      <td>0</td>\n",
       "      <td>0</td>\n",
       "      <td>33</td>\n",
       "      <td>1</td>\n",
       "      <td>1</td>\n",
       "      <td>2</td>\n",
       "      <td>...</td>\n",
       "      <td>0</td>\n",
       "      <td>0</td>\n",
       "      <td>0</td>\n",
       "      <td>1</td>\n",
       "      <td>0</td>\n",
       "      <td>1</td>\n",
       "      <td>0</td>\n",
       "      <td>90.65</td>\n",
       "      <td>2989.60</td>\n",
       "      <td>0</td>\n",
       "    </tr>\n",
       "    <tr>\n",
       "      <th>7</th>\n",
       "      <td>6001</td>\n",
       "      <td>4367-NHWMM</td>\n",
       "      <td>0</td>\n",
       "      <td>0</td>\n",
       "      <td>0</td>\n",
       "      <td>0</td>\n",
       "      <td>1</td>\n",
       "      <td>0</td>\n",
       "      <td>2</td>\n",
       "      <td>1</td>\n",
       "      <td>...</td>\n",
       "      <td>0</td>\n",
       "      <td>0</td>\n",
       "      <td>0</td>\n",
       "      <td>0</td>\n",
       "      <td>0</td>\n",
       "      <td>1</td>\n",
       "      <td>1</td>\n",
       "      <td>24.90</td>\n",
       "      <td>24.90</td>\n",
       "      <td>0</td>\n",
       "    </tr>\n",
       "    <tr>\n",
       "      <th>8</th>\n",
       "      <td>1480</td>\n",
       "      <td>8898-KASCD</td>\n",
       "      <td>1</td>\n",
       "      <td>0</td>\n",
       "      <td>0</td>\n",
       "      <td>0</td>\n",
       "      <td>39</td>\n",
       "      <td>0</td>\n",
       "      <td>2</td>\n",
       "      <td>1</td>\n",
       "      <td>...</td>\n",
       "      <td>1</td>\n",
       "      <td>1</td>\n",
       "      <td>0</td>\n",
       "      <td>0</td>\n",
       "      <td>1</td>\n",
       "      <td>0</td>\n",
       "      <td>1</td>\n",
       "      <td>35.55</td>\n",
       "      <td>1309.15</td>\n",
       "      <td>0</td>\n",
       "    </tr>\n",
       "    <tr>\n",
       "      <th>9</th>\n",
       "      <td>5137</td>\n",
       "      <td>8016-NCFVO</td>\n",
       "      <td>1</td>\n",
       "      <td>1</td>\n",
       "      <td>0</td>\n",
       "      <td>0</td>\n",
       "      <td>55</td>\n",
       "      <td>1</td>\n",
       "      <td>1</td>\n",
       "      <td>2</td>\n",
       "      <td>...</td>\n",
       "      <td>1</td>\n",
       "      <td>1</td>\n",
       "      <td>1</td>\n",
       "      <td>1</td>\n",
       "      <td>0</td>\n",
       "      <td>1</td>\n",
       "      <td>0</td>\n",
       "      <td>116.50</td>\n",
       "      <td>6382.55</td>\n",
       "      <td>0</td>\n",
       "    </tr>\n",
       "  </tbody>\n",
       "</table>\n",
       "<p>10 rows × 22 columns</p>\n",
       "</div>"
      ],
      "text/plain": [
       "   Unnamed: 0  customerID  gender  SeniorCitizen  Partner  Dependents  tenure  \\\n",
       "0        1869  7010-BRBUU       1              0        1           1      72   \n",
       "1        4528  9688-YGXVR       0              0        0           0      44   \n",
       "2        6344  9286-DOJGF       0              1        1           0      38   \n",
       "3        6739  6994-KERXL       1              0        0           0       4   \n",
       "4         432  2181-UAESM       1              0        0           0       2   \n",
       "5        2215  4312-GVYNH       0              0        1           0      70   \n",
       "6        5260  2495-KZNFB       0              0        0           0      33   \n",
       "7        6001  4367-NHWMM       0              0        0           0       1   \n",
       "8        1480  8898-KASCD       1              0        0           0      39   \n",
       "9        5137  8016-NCFVO       1              1        0           0      55   \n",
       "\n",
       "   PhoneService  MultipleLines  InternetService  ...  DeviceProtection  \\\n",
       "0             1              1                0  ...                 2   \n",
       "1             1              0                2  ...                 1   \n",
       "2             1              1                2  ...                 0   \n",
       "3             1              0                1  ...                 0   \n",
       "4             1              0                1  ...                 1   \n",
       "5             0              2                1  ...                 1   \n",
       "6             1              1                2  ...                 0   \n",
       "7             0              2                1  ...                 0   \n",
       "8             0              2                1  ...                 1   \n",
       "9             1              1                2  ...                 1   \n",
       "\n",
       "   TechSupport  StreamingTV  StreamingMovies  Contract  PaperlessBilling  \\\n",
       "0            2            2                2         2                 0   \n",
       "1            0            1                0         0                 1   \n",
       "2            0            0                0         0                 1   \n",
       "3            0            0                1         0                 1   \n",
       "4            0            0                0         0                 0   \n",
       "5            1            0                1         2                 1   \n",
       "6            0            0                1         0                 1   \n",
       "7            0            0                0         0                 1   \n",
       "8            1            0                0         1                 0   \n",
       "9            1            1                1         0                 1   \n",
       "\n",
       "   PaymentMethod  MonthlyCharges  TotalCharges  Churn  \n",
       "0              3           24.10       1734.65      0  \n",
       "1              3           88.15       3973.20      0  \n",
       "2              2           74.95       2869.85      1  \n",
       "3              0           55.90        238.50      0  \n",
       "4              0           53.45        119.50      0  \n",
       "5              2           49.85       3370.20      0  \n",
       "6              0           90.65       2989.60      0  \n",
       "7              1           24.90         24.90      0  \n",
       "8              1           35.55       1309.15      0  \n",
       "9              0          116.50       6382.55      0  \n",
       "\n",
       "[10 rows x 22 columns]"
      ]
     },
     "execution_count": 19,
     "metadata": {},
     "output_type": "execute_result"
    }
   ],
   "source": [
    "# gender – пол клиента (male/female)\n",
    "df['gender'] = df['gender'].apply(lambda x: 0 if x == 'Female' else 1)\n",
    "\n",
    "# Partner – состоит ли клиент в браке (Yes, No)\n",
    "df['Partner'] = df['Partner'].apply(lambda x: 0 if x == 'No' else 1)\n",
    "\n",
    "# Dependents – есть ли у клиента иждивенцы (Yes, No)\n",
    "df['Dependents'] = df['Dependents'].apply(lambda x: 0 if x == 'No' else 1)\n",
    "\n",
    "# PhoneService – подключена ли услуга телефонной связи (Yes, No)\n",
    "df['PhoneService'] = df['PhoneService'].apply(lambda x: 0 if x == 'No' else 1)\n",
    "\n",
    "# MultipleLines – подключены ли несколько телефонных линий (Yes, No, No phone service)\n",
    "df['MultipleLines'] = df['MultipleLines'].apply(lambda x: 0 if x == 'No' else (1 if x == 'Yes' else 2))\n",
    "\n",
    "# InternetService – интернет-провайдер клиента (DSL, Fiber optic, No)\n",
    "df['InternetService'] = df['InternetService'].apply(lambda x: 0 if x == 'No' else (1 if x == 'DSL' else 2))\n",
    "\n",
    "# OnlineSecurity – подключена ли услуга онлайн-безопасности (Yes, No, No internet service)\n",
    "df['OnlineSecurity'] = df['OnlineSecurity'].apply(lambda x: 0 if x == 'No' else (1 if x == 'Yes' else 2))\n",
    "\n",
    "# OnlineBackup – подключена ли услуга online backup (Yes, No, No internet service)\n",
    "df['OnlineBackup'] = df['OnlineBackup'].apply(lambda x: 0 if x == 'No' else (1 if x == 'Yes' else 2))\n",
    "\n",
    "# DeviceProtection – есть ли у клиента страховка оборудования (Yes, No, No internet service)\n",
    "df['DeviceProtection'] = df['DeviceProtection'].apply(lambda x: 0 if x == 'No' else (1 if x == 'Yes' else 2))\n",
    "\n",
    "# TechSupport – подключена ли услуга технической поддержки (Yes, No, No internet service)\n",
    "df['TechSupport'] = df['TechSupport'].apply(lambda x: 0 if x == 'No' else (1 if x == 'Yes' else 2))\n",
    "\n",
    "# StreamingTV – подключена ли услуга стримингового телевидения (Yes, No, No internet service)\n",
    "df['StreamingTV'] = df['StreamingTV'].apply(lambda x: 0 if x == 'No' else (1 if x == 'Yes' else 2))\n",
    "\n",
    "# StreamingMovies – подключена ли услуга стримингового кинотеатра (Yes, No, No internet service)\n",
    "df['StreamingMovies'] = df['StreamingMovies'].apply(lambda x: 0 if x == 'No' else (1 if x == 'Yes' else 2))\n",
    "\n",
    "# Contract – тип контракта клиента (Month-to-month, One year, Two year)\n",
    "df['Contract'] = df['Contract'].apply(lambda x: 0 if x == 'Month-to-month' else (1 if x == 'One year' else 2))\n",
    "\n",
    "# PaperlessBilling – пользуется ли клиент безбумажным биллингом (Yes, No)\n",
    "df['PaperlessBilling'] = df['PaperlessBilling'].apply(lambda x: 0 if x == 'No' else 1)\n",
    "\n",
    "# PaymentMethod – метод оплаты (Electronic check, Mailed check, Bank transfer (automatic), Credit card (automatic))\n",
    "def func_PaymentMethod(x):\n",
    "    if x == 'Electronic check':\n",
    "        return 0\n",
    "    elif x == 'Mailed check':\n",
    "        return 1\n",
    "    elif x == 'Bank transfer (automatic)':\n",
    "        return 2\n",
    "    else:\n",
    "        return 3\n",
    "        \n",
    "df['PaymentMethod'] = df['PaymentMethod'].apply(func_PaymentMethod)\n",
    "\n",
    "def f(x):\n",
    "    if x == \" \":\n",
    "        return float(0)\n",
    "    else:\n",
    "        return float(x)\n",
    "    \n",
    "df.TotalCharges = df.TotalCharges.apply(f)\n",
    "\n",
    "# Заменю нулевые значения в колонке TotalCharges на медианные значения по этой же колонке\n",
    "\n",
    "tc_median = df.TotalCharges.median()\n",
    "\n",
    "def f_tc(x):\n",
    "    if x == 0:\n",
    "        return tc_median\n",
    "    else:\n",
    "        return float(x)\n",
    "    \n",
    "df.TotalCharges = df.TotalCharges.apply(f_tc)\n",
    "\n",
    "# Churn – произошел ли отток (Yes or No)\n",
    "df['Churn'] = df['Churn'].apply(lambda x: 0 if x == 'No' else 1)\n",
    "\n",
    "df.head(10)"
   ]
  },
  {
   "cell_type": "code",
   "execution_count": 20,
   "metadata": {
    "colab": {
     "base_uri": "https://localhost:8080/",
     "height": 162
    },
    "colab_type": "code",
    "id": "IKEsQUlQugBX",
    "outputId": "076d9bf5-94d7-452e-f38b-423c541eb71c"
   },
   "outputs": [
    {
     "data": {
      "text/html": [
       "<div>\n",
       "<style scoped>\n",
       "    .dataframe tbody tr th:only-of-type {\n",
       "        vertical-align: middle;\n",
       "    }\n",
       "\n",
       "    .dataframe tbody tr th {\n",
       "        vertical-align: top;\n",
       "    }\n",
       "\n",
       "    .dataframe thead th {\n",
       "        text-align: right;\n",
       "    }\n",
       "</style>\n",
       "<table border=\"1\" class=\"dataframe\">\n",
       "  <thead>\n",
       "    <tr style=\"text-align: right;\">\n",
       "      <th></th>\n",
       "      <th>gender</th>\n",
       "      <th>SeniorCitizen</th>\n",
       "      <th>Partner</th>\n",
       "      <th>Dependents</th>\n",
       "      <th>tenure</th>\n",
       "      <th>PhoneService</th>\n",
       "      <th>MultipleLines</th>\n",
       "      <th>InternetService</th>\n",
       "      <th>OnlineSecurity</th>\n",
       "      <th>OnlineBackup</th>\n",
       "      <th>DeviceProtection</th>\n",
       "      <th>TechSupport</th>\n",
       "      <th>StreamingTV</th>\n",
       "      <th>StreamingMovies</th>\n",
       "      <th>Contract</th>\n",
       "      <th>PaperlessBilling</th>\n",
       "      <th>PaymentMethod</th>\n",
       "      <th>MonthlyCharges</th>\n",
       "      <th>TotalCharges</th>\n",
       "      <th>Churn</th>\n",
       "    </tr>\n",
       "  </thead>\n",
       "  <tbody>\n",
       "    <tr>\n",
       "      <th>0</th>\n",
       "      <td>1</td>\n",
       "      <td>0</td>\n",
       "      <td>1</td>\n",
       "      <td>1</td>\n",
       "      <td>72</td>\n",
       "      <td>1</td>\n",
       "      <td>1</td>\n",
       "      <td>0</td>\n",
       "      <td>2</td>\n",
       "      <td>2</td>\n",
       "      <td>2</td>\n",
       "      <td>2</td>\n",
       "      <td>2</td>\n",
       "      <td>2</td>\n",
       "      <td>2</td>\n",
       "      <td>0</td>\n",
       "      <td>3</td>\n",
       "      <td>24.10</td>\n",
       "      <td>1734.65</td>\n",
       "      <td>0</td>\n",
       "    </tr>\n",
       "    <tr>\n",
       "      <th>1</th>\n",
       "      <td>0</td>\n",
       "      <td>0</td>\n",
       "      <td>0</td>\n",
       "      <td>0</td>\n",
       "      <td>44</td>\n",
       "      <td>1</td>\n",
       "      <td>0</td>\n",
       "      <td>2</td>\n",
       "      <td>0</td>\n",
       "      <td>1</td>\n",
       "      <td>1</td>\n",
       "      <td>0</td>\n",
       "      <td>1</td>\n",
       "      <td>0</td>\n",
       "      <td>0</td>\n",
       "      <td>1</td>\n",
       "      <td>3</td>\n",
       "      <td>88.15</td>\n",
       "      <td>3973.20</td>\n",
       "      <td>0</td>\n",
       "    </tr>\n",
       "    <tr>\n",
       "      <th>2</th>\n",
       "      <td>0</td>\n",
       "      <td>1</td>\n",
       "      <td>1</td>\n",
       "      <td>0</td>\n",
       "      <td>38</td>\n",
       "      <td>1</td>\n",
       "      <td>1</td>\n",
       "      <td>2</td>\n",
       "      <td>0</td>\n",
       "      <td>0</td>\n",
       "      <td>0</td>\n",
       "      <td>0</td>\n",
       "      <td>0</td>\n",
       "      <td>0</td>\n",
       "      <td>0</td>\n",
       "      <td>1</td>\n",
       "      <td>2</td>\n",
       "      <td>74.95</td>\n",
       "      <td>2869.85</td>\n",
       "      <td>1</td>\n",
       "    </tr>\n",
       "  </tbody>\n",
       "</table>\n",
       "</div>"
      ],
      "text/plain": [
       "   gender  SeniorCitizen  Partner  Dependents  tenure  PhoneService  \\\n",
       "0       1              0        1           1      72             1   \n",
       "1       0              0        0           0      44             1   \n",
       "2       0              1        1           0      38             1   \n",
       "\n",
       "   MultipleLines  InternetService  OnlineSecurity  OnlineBackup  \\\n",
       "0              1                0               2             2   \n",
       "1              0                2               0             1   \n",
       "2              1                2               0             0   \n",
       "\n",
       "   DeviceProtection  TechSupport  StreamingTV  StreamingMovies  Contract  \\\n",
       "0                 2            2            2                2         2   \n",
       "1                 1            0            1                0         0   \n",
       "2                 0            0            0                0         0   \n",
       "\n",
       "   PaperlessBilling  PaymentMethod  MonthlyCharges  TotalCharges  Churn  \n",
       "0                 0              3           24.10       1734.65      0  \n",
       "1                 1              3           88.15       3973.20      0  \n",
       "2                 1              2           74.95       2869.85      1  "
      ]
     },
     "execution_count": 20,
     "metadata": {},
     "output_type": "execute_result"
    }
   ],
   "source": [
    "customerID = df['customerID']\n",
    "Churn = df['Churn']\n",
    "drop_elements = ['customerID', 'Unnamed: 0']\n",
    "df = df.drop(drop_elements, axis=1)\n",
    "df.head(3)"
   ]
  },
  {
   "cell_type": "markdown",
   "metadata": {
    "colab_type": "text",
    "id": "oq1377QFugBa"
   },
   "source": [
    "С помощью метода describe() получим некоторую сводную информацию по всей таблице. По умолчанию будет выдана информация только для количественных признаков. Это общее их количество (count), среднее значение (mean), стандартное отклонение (std), минимальное (min), макcимальное (max) значения, медиана (50%) и значения нижнего (25%) и верхнего (75%) квартилей:"
   ]
  },
  {
   "cell_type": "code",
   "execution_count": 21,
   "metadata": {
    "colab": {
     "base_uri": "https://localhost:8080/",
     "height": 317
    },
    "colab_type": "code",
    "id": "EBjK8wwTugBb",
    "outputId": "58494e09-5e2f-4074-e7e7-58f84ef9fd52",
    "scrolled": true
   },
   "outputs": [
    {
     "data": {
      "text/html": [
       "<div>\n",
       "<style scoped>\n",
       "    .dataframe tbody tr th:only-of-type {\n",
       "        vertical-align: middle;\n",
       "    }\n",
       "\n",
       "    .dataframe tbody tr th {\n",
       "        vertical-align: top;\n",
       "    }\n",
       "\n",
       "    .dataframe thead th {\n",
       "        text-align: right;\n",
       "    }\n",
       "</style>\n",
       "<table border=\"1\" class=\"dataframe\">\n",
       "  <thead>\n",
       "    <tr style=\"text-align: right;\">\n",
       "      <th></th>\n",
       "      <th>gender</th>\n",
       "      <th>SeniorCitizen</th>\n",
       "      <th>Partner</th>\n",
       "      <th>Dependents</th>\n",
       "      <th>tenure</th>\n",
       "      <th>PhoneService</th>\n",
       "      <th>MultipleLines</th>\n",
       "      <th>InternetService</th>\n",
       "      <th>OnlineSecurity</th>\n",
       "      <th>OnlineBackup</th>\n",
       "      <th>DeviceProtection</th>\n",
       "      <th>TechSupport</th>\n",
       "      <th>StreamingTV</th>\n",
       "      <th>StreamingMovies</th>\n",
       "      <th>Contract</th>\n",
       "      <th>PaperlessBilling</th>\n",
       "      <th>PaymentMethod</th>\n",
       "      <th>MonthlyCharges</th>\n",
       "      <th>TotalCharges</th>\n",
       "      <th>Churn</th>\n",
       "    </tr>\n",
       "  </thead>\n",
       "  <tbody>\n",
       "    <tr>\n",
       "      <th>count</th>\n",
       "      <td>5986.000000</td>\n",
       "      <td>5986.000000</td>\n",
       "      <td>5986.000000</td>\n",
       "      <td>5986.000000</td>\n",
       "      <td>5986.000000</td>\n",
       "      <td>5986.000000</td>\n",
       "      <td>5986.000000</td>\n",
       "      <td>5986.000000</td>\n",
       "      <td>5986.000000</td>\n",
       "      <td>5986.000000</td>\n",
       "      <td>5986.000000</td>\n",
       "      <td>5986.000000</td>\n",
       "      <td>5986.000000</td>\n",
       "      <td>5986.000000</td>\n",
       "      <td>5986.000000</td>\n",
       "      <td>5986.000000</td>\n",
       "      <td>5986.000000</td>\n",
       "      <td>5986.000000</td>\n",
       "      <td>5986.000000</td>\n",
       "      <td>5986.000000</td>\n",
       "    </tr>\n",
       "    <tr>\n",
       "      <th>mean</th>\n",
       "      <td>0.509522</td>\n",
       "      <td>0.161377</td>\n",
       "      <td>0.485132</td>\n",
       "      <td>0.299198</td>\n",
       "      <td>32.468760</td>\n",
       "      <td>0.901437</td>\n",
       "      <td>0.622787</td>\n",
       "      <td>1.223187</td>\n",
       "      <td>0.717508</td>\n",
       "      <td>0.780488</td>\n",
       "      <td>0.774641</td>\n",
       "      <td>0.721183</td>\n",
       "      <td>0.816572</td>\n",
       "      <td>0.822085</td>\n",
       "      <td>0.694621</td>\n",
       "      <td>0.589375</td>\n",
       "      <td>1.318744</td>\n",
       "      <td>64.802213</td>\n",
       "      <td>2296.574674</td>\n",
       "      <td>0.265119</td>\n",
       "    </tr>\n",
       "    <tr>\n",
       "      <th>std</th>\n",
       "      <td>0.499951</td>\n",
       "      <td>0.367909</td>\n",
       "      <td>0.499821</td>\n",
       "      <td>0.457945</td>\n",
       "      <td>24.516391</td>\n",
       "      <td>0.298100</td>\n",
       "      <td>0.657360</td>\n",
       "      <td>0.777699</td>\n",
       "      <td>0.796327</td>\n",
       "      <td>0.776381</td>\n",
       "      <td>0.778469</td>\n",
       "      <td>0.795314</td>\n",
       "      <td>0.762377</td>\n",
       "      <td>0.760064</td>\n",
       "      <td>0.832884</td>\n",
       "      <td>0.491988</td>\n",
       "      <td>1.150194</td>\n",
       "      <td>30.114702</td>\n",
       "      <td>2272.516903</td>\n",
       "      <td>0.441433</td>\n",
       "    </tr>\n",
       "    <tr>\n",
       "      <th>min</th>\n",
       "      <td>0.000000</td>\n",
       "      <td>0.000000</td>\n",
       "      <td>0.000000</td>\n",
       "      <td>0.000000</td>\n",
       "      <td>0.000000</td>\n",
       "      <td>0.000000</td>\n",
       "      <td>0.000000</td>\n",
       "      <td>0.000000</td>\n",
       "      <td>0.000000</td>\n",
       "      <td>0.000000</td>\n",
       "      <td>0.000000</td>\n",
       "      <td>0.000000</td>\n",
       "      <td>0.000000</td>\n",
       "      <td>0.000000</td>\n",
       "      <td>0.000000</td>\n",
       "      <td>0.000000</td>\n",
       "      <td>0.000000</td>\n",
       "      <td>18.250000</td>\n",
       "      <td>18.800000</td>\n",
       "      <td>0.000000</td>\n",
       "    </tr>\n",
       "    <tr>\n",
       "      <th>25%</th>\n",
       "      <td>0.000000</td>\n",
       "      <td>0.000000</td>\n",
       "      <td>0.000000</td>\n",
       "      <td>0.000000</td>\n",
       "      <td>9.000000</td>\n",
       "      <td>1.000000</td>\n",
       "      <td>0.000000</td>\n",
       "      <td>1.000000</td>\n",
       "      <td>0.000000</td>\n",
       "      <td>0.000000</td>\n",
       "      <td>0.000000</td>\n",
       "      <td>0.000000</td>\n",
       "      <td>0.000000</td>\n",
       "      <td>0.000000</td>\n",
       "      <td>0.000000</td>\n",
       "      <td>0.000000</td>\n",
       "      <td>0.000000</td>\n",
       "      <td>35.650000</td>\n",
       "      <td>406.275000</td>\n",
       "      <td>0.000000</td>\n",
       "    </tr>\n",
       "    <tr>\n",
       "      <th>50%</th>\n",
       "      <td>1.000000</td>\n",
       "      <td>0.000000</td>\n",
       "      <td>0.000000</td>\n",
       "      <td>0.000000</td>\n",
       "      <td>29.000000</td>\n",
       "      <td>1.000000</td>\n",
       "      <td>1.000000</td>\n",
       "      <td>1.000000</td>\n",
       "      <td>1.000000</td>\n",
       "      <td>1.000000</td>\n",
       "      <td>1.000000</td>\n",
       "      <td>1.000000</td>\n",
       "      <td>1.000000</td>\n",
       "      <td>1.000000</td>\n",
       "      <td>0.000000</td>\n",
       "      <td>1.000000</td>\n",
       "      <td>1.000000</td>\n",
       "      <td>70.400000</td>\n",
       "      <td>1409.412500</td>\n",
       "      <td>0.000000</td>\n",
       "    </tr>\n",
       "    <tr>\n",
       "      <th>75%</th>\n",
       "      <td>1.000000</td>\n",
       "      <td>0.000000</td>\n",
       "      <td>1.000000</td>\n",
       "      <td>1.000000</td>\n",
       "      <td>56.000000</td>\n",
       "      <td>1.000000</td>\n",
       "      <td>1.000000</td>\n",
       "      <td>2.000000</td>\n",
       "      <td>1.000000</td>\n",
       "      <td>1.000000</td>\n",
       "      <td>1.000000</td>\n",
       "      <td>1.000000</td>\n",
       "      <td>1.000000</td>\n",
       "      <td>1.000000</td>\n",
       "      <td>1.000000</td>\n",
       "      <td>1.000000</td>\n",
       "      <td>2.000000</td>\n",
       "      <td>89.900000</td>\n",
       "      <td>3841.500000</td>\n",
       "      <td>1.000000</td>\n",
       "    </tr>\n",
       "    <tr>\n",
       "      <th>max</th>\n",
       "      <td>1.000000</td>\n",
       "      <td>1.000000</td>\n",
       "      <td>1.000000</td>\n",
       "      <td>1.000000</td>\n",
       "      <td>72.000000</td>\n",
       "      <td>1.000000</td>\n",
       "      <td>2.000000</td>\n",
       "      <td>2.000000</td>\n",
       "      <td>2.000000</td>\n",
       "      <td>2.000000</td>\n",
       "      <td>2.000000</td>\n",
       "      <td>2.000000</td>\n",
       "      <td>2.000000</td>\n",
       "      <td>2.000000</td>\n",
       "      <td>2.000000</td>\n",
       "      <td>1.000000</td>\n",
       "      <td>3.000000</td>\n",
       "      <td>118.750000</td>\n",
       "      <td>8684.800000</td>\n",
       "      <td>1.000000</td>\n",
       "    </tr>\n",
       "  </tbody>\n",
       "</table>\n",
       "</div>"
      ],
      "text/plain": [
       "            gender  SeniorCitizen      Partner   Dependents       tenure  \\\n",
       "count  5986.000000    5986.000000  5986.000000  5986.000000  5986.000000   \n",
       "mean      0.509522       0.161377     0.485132     0.299198    32.468760   \n",
       "std       0.499951       0.367909     0.499821     0.457945    24.516391   \n",
       "min       0.000000       0.000000     0.000000     0.000000     0.000000   \n",
       "25%       0.000000       0.000000     0.000000     0.000000     9.000000   \n",
       "50%       1.000000       0.000000     0.000000     0.000000    29.000000   \n",
       "75%       1.000000       0.000000     1.000000     1.000000    56.000000   \n",
       "max       1.000000       1.000000     1.000000     1.000000    72.000000   \n",
       "\n",
       "       PhoneService  MultipleLines  InternetService  OnlineSecurity  \\\n",
       "count   5986.000000    5986.000000      5986.000000     5986.000000   \n",
       "mean       0.901437       0.622787         1.223187        0.717508   \n",
       "std        0.298100       0.657360         0.777699        0.796327   \n",
       "min        0.000000       0.000000         0.000000        0.000000   \n",
       "25%        1.000000       0.000000         1.000000        0.000000   \n",
       "50%        1.000000       1.000000         1.000000        1.000000   \n",
       "75%        1.000000       1.000000         2.000000        1.000000   \n",
       "max        1.000000       2.000000         2.000000        2.000000   \n",
       "\n",
       "       OnlineBackup  DeviceProtection  TechSupport  StreamingTV  \\\n",
       "count   5986.000000       5986.000000  5986.000000  5986.000000   \n",
       "mean       0.780488          0.774641     0.721183     0.816572   \n",
       "std        0.776381          0.778469     0.795314     0.762377   \n",
       "min        0.000000          0.000000     0.000000     0.000000   \n",
       "25%        0.000000          0.000000     0.000000     0.000000   \n",
       "50%        1.000000          1.000000     1.000000     1.000000   \n",
       "75%        1.000000          1.000000     1.000000     1.000000   \n",
       "max        2.000000          2.000000     2.000000     2.000000   \n",
       "\n",
       "       StreamingMovies     Contract  PaperlessBilling  PaymentMethod  \\\n",
       "count      5986.000000  5986.000000       5986.000000    5986.000000   \n",
       "mean          0.822085     0.694621          0.589375       1.318744   \n",
       "std           0.760064     0.832884          0.491988       1.150194   \n",
       "min           0.000000     0.000000          0.000000       0.000000   \n",
       "25%           0.000000     0.000000          0.000000       0.000000   \n",
       "50%           1.000000     0.000000          1.000000       1.000000   \n",
       "75%           1.000000     1.000000          1.000000       2.000000   \n",
       "max           2.000000     2.000000          1.000000       3.000000   \n",
       "\n",
       "       MonthlyCharges  TotalCharges        Churn  \n",
       "count     5986.000000   5986.000000  5986.000000  \n",
       "mean        64.802213   2296.574674     0.265119  \n",
       "std         30.114702   2272.516903     0.441433  \n",
       "min         18.250000     18.800000     0.000000  \n",
       "25%         35.650000    406.275000     0.000000  \n",
       "50%         70.400000   1409.412500     0.000000  \n",
       "75%         89.900000   3841.500000     1.000000  \n",
       "max        118.750000   8684.800000     1.000000  "
      ]
     },
     "execution_count": 21,
     "metadata": {},
     "output_type": "execute_result"
    }
   ],
   "source": [
    "df.describe()"
   ]
  },
  {
   "cell_type": "markdown",
   "metadata": {
    "colab_type": "text",
    "id": "vMg_xAyQmksd"
   },
   "source": [
    "Посмотрим на типы переменных и количество данных"
   ]
  },
  {
   "cell_type": "code",
   "execution_count": 22,
   "metadata": {
    "colab": {
     "base_uri": "https://localhost:8080/",
     "height": 476
    },
    "colab_type": "code",
    "id": "9HPd0QQ1mkse",
    "outputId": "5de7d828-4665-4d88-d364-b19afc53254b"
   },
   "outputs": [
    {
     "name": "stdout",
     "output_type": "stream",
     "text": [
      "<class 'pandas.core.frame.DataFrame'>\n",
      "RangeIndex: 5986 entries, 0 to 5985\n",
      "Data columns (total 20 columns):\n",
      "gender              5986 non-null int64\n",
      "SeniorCitizen       5986 non-null int64\n",
      "Partner             5986 non-null int64\n",
      "Dependents          5986 non-null int64\n",
      "tenure              5986 non-null int64\n",
      "PhoneService        5986 non-null int64\n",
      "MultipleLines       5986 non-null int64\n",
      "InternetService     5986 non-null int64\n",
      "OnlineSecurity      5986 non-null int64\n",
      "OnlineBackup        5986 non-null int64\n",
      "DeviceProtection    5986 non-null int64\n",
      "TechSupport         5986 non-null int64\n",
      "StreamingTV         5986 non-null int64\n",
      "StreamingMovies     5986 non-null int64\n",
      "Contract            5986 non-null int64\n",
      "PaperlessBilling    5986 non-null int64\n",
      "PaymentMethod       5986 non-null int64\n",
      "MonthlyCharges      5986 non-null float64\n",
      "TotalCharges        5986 non-null float64\n",
      "Churn               5986 non-null int64\n",
      "dtypes: float64(2), int64(18)\n",
      "memory usage: 935.4 KB\n"
     ]
    }
   ],
   "source": [
    "df.info()"
   ]
  },
  {
   "cell_type": "markdown",
   "metadata": {
    "colab_type": "text",
    "id": "TDUhZEKyVYSN"
   },
   "source": [
    "# 2. Исследование зависимостей и формулирование гипотез"
   ]
  },
  {
   "cell_type": "markdown",
   "metadata": {
    "colab_type": "text",
    "id": "p-UB9-Shmksg"
   },
   "source": [
    "Построю матрицу парных корреляций для отобранных данных при помощи метода corr() pandas"
   ]
  },
  {
   "cell_type": "code",
   "execution_count": 23,
   "metadata": {
    "colab": {
     "base_uri": "https://localhost:8080/",
     "height": 689
    },
    "colab_type": "code",
    "id": "UoFtKc7-mksh",
    "outputId": "ac04a19e-8a4b-4164-8296-544125a630ac"
   },
   "outputs": [
    {
     "data": {
      "text/html": [
       "<div>\n",
       "<style scoped>\n",
       "    .dataframe tbody tr th:only-of-type {\n",
       "        vertical-align: middle;\n",
       "    }\n",
       "\n",
       "    .dataframe tbody tr th {\n",
       "        vertical-align: top;\n",
       "    }\n",
       "\n",
       "    .dataframe thead th {\n",
       "        text-align: right;\n",
       "    }\n",
       "</style>\n",
       "<table border=\"1\" class=\"dataframe\">\n",
       "  <thead>\n",
       "    <tr style=\"text-align: right;\">\n",
       "      <th></th>\n",
       "      <th>gender</th>\n",
       "      <th>SeniorCitizen</th>\n",
       "      <th>Partner</th>\n",
       "      <th>Dependents</th>\n",
       "      <th>tenure</th>\n",
       "      <th>PhoneService</th>\n",
       "      <th>MultipleLines</th>\n",
       "      <th>InternetService</th>\n",
       "      <th>OnlineSecurity</th>\n",
       "      <th>OnlineBackup</th>\n",
       "      <th>DeviceProtection</th>\n",
       "      <th>TechSupport</th>\n",
       "      <th>StreamingTV</th>\n",
       "      <th>StreamingMovies</th>\n",
       "      <th>Contract</th>\n",
       "      <th>PaperlessBilling</th>\n",
       "      <th>PaymentMethod</th>\n",
       "      <th>MonthlyCharges</th>\n",
       "      <th>TotalCharges</th>\n",
       "      <th>Churn</th>\n",
       "    </tr>\n",
       "  </thead>\n",
       "  <tbody>\n",
       "    <tr>\n",
       "      <th>gender</th>\n",
       "      <td>1.000000</td>\n",
       "      <td>-0.007447</td>\n",
       "      <td>-0.007791</td>\n",
       "      <td>0.009083</td>\n",
       "      <td>0.003207</td>\n",
       "      <td>-0.004913</td>\n",
       "      <td>0.003814</td>\n",
       "      <td>-0.009764</td>\n",
       "      <td>-0.007302</td>\n",
       "      <td>-0.006236</td>\n",
       "      <td>0.002295</td>\n",
       "      <td>-0.000675</td>\n",
       "      <td>-0.000677</td>\n",
       "      <td>-0.000158</td>\n",
       "      <td>-0.001843</td>\n",
       "      <td>-0.013990</td>\n",
       "      <td>-0.007894</td>\n",
       "      <td>-0.014286</td>\n",
       "      <td>-0.003479</td>\n",
       "      <td>-0.009548</td>\n",
       "    </tr>\n",
       "    <tr>\n",
       "      <th>SeniorCitizen</th>\n",
       "      <td>-0.007447</td>\n",
       "      <td>1.000000</td>\n",
       "      <td>0.014867</td>\n",
       "      <td>-0.214233</td>\n",
       "      <td>0.005468</td>\n",
       "      <td>0.009464</td>\n",
       "      <td>0.091462</td>\n",
       "      <td>0.261265</td>\n",
       "      <td>-0.212216</td>\n",
       "      <td>-0.156739</td>\n",
       "      <td>-0.157691</td>\n",
       "      <td>-0.225934</td>\n",
       "      <td>-0.133918</td>\n",
       "      <td>-0.124960</td>\n",
       "      <td>-0.149406</td>\n",
       "      <td>0.155691</td>\n",
       "      <td>-0.095515</td>\n",
       "      <td>0.219387</td>\n",
       "      <td>0.093420</td>\n",
       "      <td>0.150097</td>\n",
       "    </tr>\n",
       "    <tr>\n",
       "      <th>Partner</th>\n",
       "      <td>-0.007791</td>\n",
       "      <td>0.014867</td>\n",
       "      <td>1.000000</td>\n",
       "      <td>0.449029</td>\n",
       "      <td>0.381976</td>\n",
       "      <td>0.024926</td>\n",
       "      <td>0.089719</td>\n",
       "      <td>0.002520</td>\n",
       "      <td>0.089145</td>\n",
       "      <td>0.094064</td>\n",
       "      <td>0.095521</td>\n",
       "      <td>0.073845</td>\n",
       "      <td>0.085361</td>\n",
       "      <td>0.079899</td>\n",
       "      <td>0.300549</td>\n",
       "      <td>-0.018037</td>\n",
       "      <td>0.141066</td>\n",
       "      <td>0.104006</td>\n",
       "      <td>0.322234</td>\n",
       "      <td>-0.146840</td>\n",
       "    </tr>\n",
       "    <tr>\n",
       "      <th>Dependents</th>\n",
       "      <td>0.009083</td>\n",
       "      <td>-0.214233</td>\n",
       "      <td>0.449029</td>\n",
       "      <td>1.000000</td>\n",
       "      <td>0.163710</td>\n",
       "      <td>-0.000579</td>\n",
       "      <td>-0.016324</td>\n",
       "      <td>-0.183310</td>\n",
       "      <td>0.196531</td>\n",
       "      <td>0.165490</td>\n",
       "      <td>0.157299</td>\n",
       "      <td>0.186881</td>\n",
       "      <td>0.142865</td>\n",
       "      <td>0.130399</td>\n",
       "      <td>0.246163</td>\n",
       "      <td>-0.112405</td>\n",
       "      <td>0.135491</td>\n",
       "      <td>-0.115803</td>\n",
       "      <td>0.064322</td>\n",
       "      <td>-0.160204</td>\n",
       "    </tr>\n",
       "    <tr>\n",
       "      <th>tenure</th>\n",
       "      <td>0.003207</td>\n",
       "      <td>0.005468</td>\n",
       "      <td>0.381976</td>\n",
       "      <td>0.163710</td>\n",
       "      <td>1.000000</td>\n",
       "      <td>0.010392</td>\n",
       "      <td>0.245716</td>\n",
       "      <td>0.040537</td>\n",
       "      <td>0.143400</td>\n",
       "      <td>0.173790</td>\n",
       "      <td>0.176015</td>\n",
       "      <td>0.142835</td>\n",
       "      <td>0.134884</td>\n",
       "      <td>0.143737</td>\n",
       "      <td>0.671551</td>\n",
       "      <td>0.006569</td>\n",
       "      <td>0.333857</td>\n",
       "      <td>0.256983</td>\n",
       "      <td>0.826984</td>\n",
       "      <td>-0.348469</td>\n",
       "    </tr>\n",
       "    <tr>\n",
       "      <th>PhoneService</th>\n",
       "      <td>-0.004913</td>\n",
       "      <td>0.009464</td>\n",
       "      <td>0.024926</td>\n",
       "      <td>-0.000579</td>\n",
       "      <td>0.010392</td>\n",
       "      <td>1.000000</td>\n",
       "      <td>-0.692826</td>\n",
       "      <td>0.094904</td>\n",
       "      <td>0.128333</td>\n",
       "      <td>0.153403</td>\n",
       "      <td>0.138988</td>\n",
       "      <td>0.127911</td>\n",
       "      <td>0.172608</td>\n",
       "      <td>0.168157</td>\n",
       "      <td>0.005267</td>\n",
       "      <td>0.021340</td>\n",
       "      <td>-0.008743</td>\n",
       "      <td>0.251029</td>\n",
       "      <td>0.116898</td>\n",
       "      <td>0.009421</td>\n",
       "    </tr>\n",
       "    <tr>\n",
       "      <th>MultipleLines</th>\n",
       "      <td>0.003814</td>\n",
       "      <td>0.091462</td>\n",
       "      <td>0.089719</td>\n",
       "      <td>-0.016324</td>\n",
       "      <td>0.245716</td>\n",
       "      <td>-0.692826</td>\n",
       "      <td>1.000000</td>\n",
       "      <td>0.175167</td>\n",
       "      <td>-0.235197</td>\n",
       "      <td>-0.209741</td>\n",
       "      <td>-0.199450</td>\n",
       "      <td>-0.234122</td>\n",
       "      <td>-0.205433</td>\n",
       "      <td>-0.196879</td>\n",
       "      <td>0.078568</td>\n",
       "      <td>0.107877</td>\n",
       "      <td>0.034633</td>\n",
       "      <td>0.144321</td>\n",
       "      <td>0.251507</td>\n",
       "      <td>0.018793</td>\n",
       "    </tr>\n",
       "    <tr>\n",
       "      <th>InternetService</th>\n",
       "      <td>-0.009764</td>\n",
       "      <td>0.261265</td>\n",
       "      <td>0.002520</td>\n",
       "      <td>-0.183310</td>\n",
       "      <td>0.040537</td>\n",
       "      <td>0.094904</td>\n",
       "      <td>0.175167</td>\n",
       "      <td>1.000000</td>\n",
       "      <td>-0.761789</td>\n",
       "      <td>-0.683992</td>\n",
       "      <td>-0.682209</td>\n",
       "      <td>-0.758143</td>\n",
       "      <td>-0.616862</td>\n",
       "      <td>-0.620256</td>\n",
       "      <td>-0.287621</td>\n",
       "      <td>0.381487</td>\n",
       "      <td>-0.174806</td>\n",
       "      <td>0.903960</td>\n",
       "      <td>0.432315</td>\n",
       "      <td>0.310417</td>\n",
       "    </tr>\n",
       "    <tr>\n",
       "      <th>OnlineSecurity</th>\n",
       "      <td>-0.007302</td>\n",
       "      <td>-0.212216</td>\n",
       "      <td>0.089145</td>\n",
       "      <td>0.196531</td>\n",
       "      <td>0.143400</td>\n",
       "      <td>0.128333</td>\n",
       "      <td>-0.235197</td>\n",
       "      <td>-0.761789</td>\n",
       "      <td>1.000000</td>\n",
       "      <td>0.751249</td>\n",
       "      <td>0.751691</td>\n",
       "      <td>0.790275</td>\n",
       "      <td>0.705607</td>\n",
       "      <td>0.708119</td>\n",
       "      <td>0.389114</td>\n",
       "      <td>-0.331098</td>\n",
       "      <td>0.206134</td>\n",
       "      <td>-0.614017</td>\n",
       "      <td>-0.151270</td>\n",
       "      <td>-0.330192</td>\n",
       "    </tr>\n",
       "    <tr>\n",
       "      <th>OnlineBackup</th>\n",
       "      <td>-0.006236</td>\n",
       "      <td>-0.156739</td>\n",
       "      <td>0.094064</td>\n",
       "      <td>0.165490</td>\n",
       "      <td>0.173790</td>\n",
       "      <td>0.153403</td>\n",
       "      <td>-0.209741</td>\n",
       "      <td>-0.683992</td>\n",
       "      <td>0.751249</td>\n",
       "      <td>1.000000</td>\n",
       "      <td>0.740582</td>\n",
       "      <td>0.750807</td>\n",
       "      <td>0.719261</td>\n",
       "      <td>0.717838</td>\n",
       "      <td>0.350825</td>\n",
       "      <td>-0.265764</td>\n",
       "      <td>0.177907</td>\n",
       "      <td>-0.532818</td>\n",
       "      <td>-0.087112</td>\n",
       "      <td>-0.287948</td>\n",
       "    </tr>\n",
       "    <tr>\n",
       "      <th>DeviceProtection</th>\n",
       "      <td>0.002295</td>\n",
       "      <td>-0.157691</td>\n",
       "      <td>0.095521</td>\n",
       "      <td>0.157299</td>\n",
       "      <td>0.176015</td>\n",
       "      <td>0.138988</td>\n",
       "      <td>-0.199450</td>\n",
       "      <td>-0.682209</td>\n",
       "      <td>0.751691</td>\n",
       "      <td>0.740582</td>\n",
       "      <td>1.000000</td>\n",
       "      <td>0.768019</td>\n",
       "      <td>0.761695</td>\n",
       "      <td>0.769220</td>\n",
       "      <td>0.392742</td>\n",
       "      <td>-0.276992</td>\n",
       "      <td>0.194626</td>\n",
       "      <td>-0.510517</td>\n",
       "      <td>-0.078772</td>\n",
       "      <td>-0.279261</td>\n",
       "    </tr>\n",
       "    <tr>\n",
       "      <th>TechSupport</th>\n",
       "      <td>-0.000675</td>\n",
       "      <td>-0.225934</td>\n",
       "      <td>0.073845</td>\n",
       "      <td>0.186881</td>\n",
       "      <td>0.142835</td>\n",
       "      <td>0.127911</td>\n",
       "      <td>-0.234122</td>\n",
       "      <td>-0.758143</td>\n",
       "      <td>0.790275</td>\n",
       "      <td>0.750807</td>\n",
       "      <td>0.768019</td>\n",
       "      <td>1.000000</td>\n",
       "      <td>0.738757</td>\n",
       "      <td>0.738020</td>\n",
       "      <td>0.420060</td>\n",
       "      <td>-0.312717</td>\n",
       "      <td>0.211509</td>\n",
       "      <td>-0.592467</td>\n",
       "      <td>-0.139457</td>\n",
       "      <td>-0.323871</td>\n",
       "    </tr>\n",
       "    <tr>\n",
       "      <th>StreamingTV</th>\n",
       "      <td>-0.000677</td>\n",
       "      <td>-0.133918</td>\n",
       "      <td>0.085361</td>\n",
       "      <td>0.142865</td>\n",
       "      <td>0.134884</td>\n",
       "      <td>0.172608</td>\n",
       "      <td>-0.205433</td>\n",
       "      <td>-0.616862</td>\n",
       "      <td>0.705607</td>\n",
       "      <td>0.719261</td>\n",
       "      <td>0.761695</td>\n",
       "      <td>0.738757</td>\n",
       "      <td>1.000000</td>\n",
       "      <td>0.809001</td>\n",
       "      <td>0.330156</td>\n",
       "      <td>-0.204408</td>\n",
       "      <td>0.113941</td>\n",
       "      <td>-0.420044</td>\n",
       "      <td>-0.075729</td>\n",
       "      <td>-0.203010</td>\n",
       "    </tr>\n",
       "    <tr>\n",
       "      <th>StreamingMovies</th>\n",
       "      <td>-0.000158</td>\n",
       "      <td>-0.124960</td>\n",
       "      <td>0.079899</td>\n",
       "      <td>0.130399</td>\n",
       "      <td>0.143737</td>\n",
       "      <td>0.168157</td>\n",
       "      <td>-0.196879</td>\n",
       "      <td>-0.620256</td>\n",
       "      <td>0.708119</td>\n",
       "      <td>0.717838</td>\n",
       "      <td>0.769220</td>\n",
       "      <td>0.738020</td>\n",
       "      <td>0.809001</td>\n",
       "      <td>1.000000</td>\n",
       "      <td>0.335140</td>\n",
       "      <td>-0.214167</td>\n",
       "      <td>0.122981</td>\n",
       "      <td>-0.420433</td>\n",
       "      <td>-0.068306</td>\n",
       "      <td>-0.204499</td>\n",
       "    </tr>\n",
       "    <tr>\n",
       "      <th>Contract</th>\n",
       "      <td>-0.001843</td>\n",
       "      <td>-0.149406</td>\n",
       "      <td>0.300549</td>\n",
       "      <td>0.246163</td>\n",
       "      <td>0.671551</td>\n",
       "      <td>0.005267</td>\n",
       "      <td>0.078568</td>\n",
       "      <td>-0.287621</td>\n",
       "      <td>0.389114</td>\n",
       "      <td>0.350825</td>\n",
       "      <td>0.392742</td>\n",
       "      <td>0.420060</td>\n",
       "      <td>0.330156</td>\n",
       "      <td>0.335140</td>\n",
       "      <td>1.000000</td>\n",
       "      <td>-0.183335</td>\n",
       "      <td>0.355919</td>\n",
       "      <td>-0.068429</td>\n",
       "      <td>0.450914</td>\n",
       "      <td>-0.396446</td>\n",
       "    </tr>\n",
       "    <tr>\n",
       "      <th>PaperlessBilling</th>\n",
       "      <td>-0.013990</td>\n",
       "      <td>0.155691</td>\n",
       "      <td>-0.018037</td>\n",
       "      <td>-0.112405</td>\n",
       "      <td>0.006569</td>\n",
       "      <td>0.021340</td>\n",
       "      <td>0.107877</td>\n",
       "      <td>0.381487</td>\n",
       "      <td>-0.331098</td>\n",
       "      <td>-0.265764</td>\n",
       "      <td>-0.276992</td>\n",
       "      <td>-0.312717</td>\n",
       "      <td>-0.204408</td>\n",
       "      <td>-0.214167</td>\n",
       "      <td>-0.183335</td>\n",
       "      <td>1.000000</td>\n",
       "      <td>-0.106746</td>\n",
       "      <td>0.355816</td>\n",
       "      <td>0.162312</td>\n",
       "      <td>0.188996</td>\n",
       "    </tr>\n",
       "    <tr>\n",
       "      <th>PaymentMethod</th>\n",
       "      <td>-0.007894</td>\n",
       "      <td>-0.095515</td>\n",
       "      <td>0.141066</td>\n",
       "      <td>0.135491</td>\n",
       "      <td>0.333857</td>\n",
       "      <td>-0.008743</td>\n",
       "      <td>0.034633</td>\n",
       "      <td>-0.174806</td>\n",
       "      <td>0.206134</td>\n",
       "      <td>0.177907</td>\n",
       "      <td>0.194626</td>\n",
       "      <td>0.211509</td>\n",
       "      <td>0.113941</td>\n",
       "      <td>0.122981</td>\n",
       "      <td>0.355919</td>\n",
       "      <td>-0.106746</td>\n",
       "      <td>1.000000</td>\n",
       "      <td>-0.072678</td>\n",
       "      <td>0.217878</td>\n",
       "      <td>-0.259263</td>\n",
       "    </tr>\n",
       "    <tr>\n",
       "      <th>MonthlyCharges</th>\n",
       "      <td>-0.014286</td>\n",
       "      <td>0.219387</td>\n",
       "      <td>0.104006</td>\n",
       "      <td>-0.115803</td>\n",
       "      <td>0.256983</td>\n",
       "      <td>0.251029</td>\n",
       "      <td>0.144321</td>\n",
       "      <td>0.903960</td>\n",
       "      <td>-0.614017</td>\n",
       "      <td>-0.532818</td>\n",
       "      <td>-0.510517</td>\n",
       "      <td>-0.592467</td>\n",
       "      <td>-0.420044</td>\n",
       "      <td>-0.420433</td>\n",
       "      <td>-0.068429</td>\n",
       "      <td>0.355816</td>\n",
       "      <td>-0.072678</td>\n",
       "      <td>1.000000</td>\n",
       "      <td>0.656324</td>\n",
       "      <td>0.186753</td>\n",
       "    </tr>\n",
       "    <tr>\n",
       "      <th>TotalCharges</th>\n",
       "      <td>-0.003479</td>\n",
       "      <td>0.093420</td>\n",
       "      <td>0.322234</td>\n",
       "      <td>0.064322</td>\n",
       "      <td>0.826984</td>\n",
       "      <td>0.116898</td>\n",
       "      <td>0.251507</td>\n",
       "      <td>0.432315</td>\n",
       "      <td>-0.151270</td>\n",
       "      <td>-0.087112</td>\n",
       "      <td>-0.078772</td>\n",
       "      <td>-0.139457</td>\n",
       "      <td>-0.075729</td>\n",
       "      <td>-0.068306</td>\n",
       "      <td>0.450914</td>\n",
       "      <td>0.162312</td>\n",
       "      <td>0.217878</td>\n",
       "      <td>0.656324</td>\n",
       "      <td>1.000000</td>\n",
       "      <td>-0.197154</td>\n",
       "    </tr>\n",
       "    <tr>\n",
       "      <th>Churn</th>\n",
       "      <td>-0.009548</td>\n",
       "      <td>0.150097</td>\n",
       "      <td>-0.146840</td>\n",
       "      <td>-0.160204</td>\n",
       "      <td>-0.348469</td>\n",
       "      <td>0.009421</td>\n",
       "      <td>0.018793</td>\n",
       "      <td>0.310417</td>\n",
       "      <td>-0.330192</td>\n",
       "      <td>-0.287948</td>\n",
       "      <td>-0.279261</td>\n",
       "      <td>-0.323871</td>\n",
       "      <td>-0.203010</td>\n",
       "      <td>-0.204499</td>\n",
       "      <td>-0.396446</td>\n",
       "      <td>0.188996</td>\n",
       "      <td>-0.259263</td>\n",
       "      <td>0.186753</td>\n",
       "      <td>-0.197154</td>\n",
       "      <td>1.000000</td>\n",
       "    </tr>\n",
       "  </tbody>\n",
       "</table>\n",
       "</div>"
      ],
      "text/plain": [
       "                    gender  SeniorCitizen   Partner  Dependents    tenure  \\\n",
       "gender            1.000000      -0.007447 -0.007791    0.009083  0.003207   \n",
       "SeniorCitizen    -0.007447       1.000000  0.014867   -0.214233  0.005468   \n",
       "Partner          -0.007791       0.014867  1.000000    0.449029  0.381976   \n",
       "Dependents        0.009083      -0.214233  0.449029    1.000000  0.163710   \n",
       "tenure            0.003207       0.005468  0.381976    0.163710  1.000000   \n",
       "PhoneService     -0.004913       0.009464  0.024926   -0.000579  0.010392   \n",
       "MultipleLines     0.003814       0.091462  0.089719   -0.016324  0.245716   \n",
       "InternetService  -0.009764       0.261265  0.002520   -0.183310  0.040537   \n",
       "OnlineSecurity   -0.007302      -0.212216  0.089145    0.196531  0.143400   \n",
       "OnlineBackup     -0.006236      -0.156739  0.094064    0.165490  0.173790   \n",
       "DeviceProtection  0.002295      -0.157691  0.095521    0.157299  0.176015   \n",
       "TechSupport      -0.000675      -0.225934  0.073845    0.186881  0.142835   \n",
       "StreamingTV      -0.000677      -0.133918  0.085361    0.142865  0.134884   \n",
       "StreamingMovies  -0.000158      -0.124960  0.079899    0.130399  0.143737   \n",
       "Contract         -0.001843      -0.149406  0.300549    0.246163  0.671551   \n",
       "PaperlessBilling -0.013990       0.155691 -0.018037   -0.112405  0.006569   \n",
       "PaymentMethod    -0.007894      -0.095515  0.141066    0.135491  0.333857   \n",
       "MonthlyCharges   -0.014286       0.219387  0.104006   -0.115803  0.256983   \n",
       "TotalCharges     -0.003479       0.093420  0.322234    0.064322  0.826984   \n",
       "Churn            -0.009548       0.150097 -0.146840   -0.160204 -0.348469   \n",
       "\n",
       "                  PhoneService  MultipleLines  InternetService  \\\n",
       "gender               -0.004913       0.003814        -0.009764   \n",
       "SeniorCitizen         0.009464       0.091462         0.261265   \n",
       "Partner               0.024926       0.089719         0.002520   \n",
       "Dependents           -0.000579      -0.016324        -0.183310   \n",
       "tenure                0.010392       0.245716         0.040537   \n",
       "PhoneService          1.000000      -0.692826         0.094904   \n",
       "MultipleLines        -0.692826       1.000000         0.175167   \n",
       "InternetService       0.094904       0.175167         1.000000   \n",
       "OnlineSecurity        0.128333      -0.235197        -0.761789   \n",
       "OnlineBackup          0.153403      -0.209741        -0.683992   \n",
       "DeviceProtection      0.138988      -0.199450        -0.682209   \n",
       "TechSupport           0.127911      -0.234122        -0.758143   \n",
       "StreamingTV           0.172608      -0.205433        -0.616862   \n",
       "StreamingMovies       0.168157      -0.196879        -0.620256   \n",
       "Contract              0.005267       0.078568        -0.287621   \n",
       "PaperlessBilling      0.021340       0.107877         0.381487   \n",
       "PaymentMethod        -0.008743       0.034633        -0.174806   \n",
       "MonthlyCharges        0.251029       0.144321         0.903960   \n",
       "TotalCharges          0.116898       0.251507         0.432315   \n",
       "Churn                 0.009421       0.018793         0.310417   \n",
       "\n",
       "                  OnlineSecurity  OnlineBackup  DeviceProtection  TechSupport  \\\n",
       "gender                 -0.007302     -0.006236          0.002295    -0.000675   \n",
       "SeniorCitizen          -0.212216     -0.156739         -0.157691    -0.225934   \n",
       "Partner                 0.089145      0.094064          0.095521     0.073845   \n",
       "Dependents              0.196531      0.165490          0.157299     0.186881   \n",
       "tenure                  0.143400      0.173790          0.176015     0.142835   \n",
       "PhoneService            0.128333      0.153403          0.138988     0.127911   \n",
       "MultipleLines          -0.235197     -0.209741         -0.199450    -0.234122   \n",
       "InternetService        -0.761789     -0.683992         -0.682209    -0.758143   \n",
       "OnlineSecurity          1.000000      0.751249          0.751691     0.790275   \n",
       "OnlineBackup            0.751249      1.000000          0.740582     0.750807   \n",
       "DeviceProtection        0.751691      0.740582          1.000000     0.768019   \n",
       "TechSupport             0.790275      0.750807          0.768019     1.000000   \n",
       "StreamingTV             0.705607      0.719261          0.761695     0.738757   \n",
       "StreamingMovies         0.708119      0.717838          0.769220     0.738020   \n",
       "Contract                0.389114      0.350825          0.392742     0.420060   \n",
       "PaperlessBilling       -0.331098     -0.265764         -0.276992    -0.312717   \n",
       "PaymentMethod           0.206134      0.177907          0.194626     0.211509   \n",
       "MonthlyCharges         -0.614017     -0.532818         -0.510517    -0.592467   \n",
       "TotalCharges           -0.151270     -0.087112         -0.078772    -0.139457   \n",
       "Churn                  -0.330192     -0.287948         -0.279261    -0.323871   \n",
       "\n",
       "                  StreamingTV  StreamingMovies  Contract  PaperlessBilling  \\\n",
       "gender              -0.000677        -0.000158 -0.001843         -0.013990   \n",
       "SeniorCitizen       -0.133918        -0.124960 -0.149406          0.155691   \n",
       "Partner              0.085361         0.079899  0.300549         -0.018037   \n",
       "Dependents           0.142865         0.130399  0.246163         -0.112405   \n",
       "tenure               0.134884         0.143737  0.671551          0.006569   \n",
       "PhoneService         0.172608         0.168157  0.005267          0.021340   \n",
       "MultipleLines       -0.205433        -0.196879  0.078568          0.107877   \n",
       "InternetService     -0.616862        -0.620256 -0.287621          0.381487   \n",
       "OnlineSecurity       0.705607         0.708119  0.389114         -0.331098   \n",
       "OnlineBackup         0.719261         0.717838  0.350825         -0.265764   \n",
       "DeviceProtection     0.761695         0.769220  0.392742         -0.276992   \n",
       "TechSupport          0.738757         0.738020  0.420060         -0.312717   \n",
       "StreamingTV          1.000000         0.809001  0.330156         -0.204408   \n",
       "StreamingMovies      0.809001         1.000000  0.335140         -0.214167   \n",
       "Contract             0.330156         0.335140  1.000000         -0.183335   \n",
       "PaperlessBilling    -0.204408        -0.214167 -0.183335          1.000000   \n",
       "PaymentMethod        0.113941         0.122981  0.355919         -0.106746   \n",
       "MonthlyCharges      -0.420044        -0.420433 -0.068429          0.355816   \n",
       "TotalCharges        -0.075729        -0.068306  0.450914          0.162312   \n",
       "Churn               -0.203010        -0.204499 -0.396446          0.188996   \n",
       "\n",
       "                  PaymentMethod  MonthlyCharges  TotalCharges     Churn  \n",
       "gender                -0.007894       -0.014286     -0.003479 -0.009548  \n",
       "SeniorCitizen         -0.095515        0.219387      0.093420  0.150097  \n",
       "Partner                0.141066        0.104006      0.322234 -0.146840  \n",
       "Dependents             0.135491       -0.115803      0.064322 -0.160204  \n",
       "tenure                 0.333857        0.256983      0.826984 -0.348469  \n",
       "PhoneService          -0.008743        0.251029      0.116898  0.009421  \n",
       "MultipleLines          0.034633        0.144321      0.251507  0.018793  \n",
       "InternetService       -0.174806        0.903960      0.432315  0.310417  \n",
       "OnlineSecurity         0.206134       -0.614017     -0.151270 -0.330192  \n",
       "OnlineBackup           0.177907       -0.532818     -0.087112 -0.287948  \n",
       "DeviceProtection       0.194626       -0.510517     -0.078772 -0.279261  \n",
       "TechSupport            0.211509       -0.592467     -0.139457 -0.323871  \n",
       "StreamingTV            0.113941       -0.420044     -0.075729 -0.203010  \n",
       "StreamingMovies        0.122981       -0.420433     -0.068306 -0.204499  \n",
       "Contract               0.355919       -0.068429      0.450914 -0.396446  \n",
       "PaperlessBilling      -0.106746        0.355816      0.162312  0.188996  \n",
       "PaymentMethod          1.000000       -0.072678      0.217878 -0.259263  \n",
       "MonthlyCharges        -0.072678        1.000000      0.656324  0.186753  \n",
       "TotalCharges           0.217878        0.656324      1.000000 -0.197154  \n",
       "Churn                 -0.259263        0.186753     -0.197154  1.000000  "
      ]
     },
     "execution_count": 23,
     "metadata": {},
     "output_type": "execute_result"
    }
   ],
   "source": [
    "df.corr()"
   ]
  },
  {
   "cell_type": "markdown",
   "metadata": {
    "colab_type": "text",
    "id": "vTLBkTj4ugBf"
   },
   "source": [
    "Построю для каждой количественной переменной гистограмму, а для каждой пары таких переменных – диаграмму рассеяния:"
   ]
  },
  {
   "cell_type": "code",
   "execution_count": 24,
   "metadata": {
    "colab": {},
    "colab_type": "code",
    "id": "hg3UzxMOwD_2"
   },
   "outputs": [],
   "source": [
    "import seaborn as sns\n",
    "import matplotlib.pyplot as plt\n",
    "%matplotlib inline"
   ]
  },
  {
   "cell_type": "code",
   "execution_count": 25,
   "metadata": {
    "colab": {
     "base_uri": "https://localhost:8080/",
     "height": 815
    },
    "colab_type": "code",
    "id": "3KBs5I7gwEEb",
    "outputId": "08b904ab-71ea-4291-82be-c6649af8ffad"
   },
   "outputs": [
    {
     "data": {
      "text/plain": [
       "<matplotlib.axes._subplots.AxesSubplot at 0x1e6c4d26eb8>"
      ]
     },
     "execution_count": 25,
     "metadata": {},
     "output_type": "execute_result"
    },
    {
     "data": {
      "image/png": "[encoded data removed]",
      "text/plain": [
       "<Figure size 1008x864 with 2 Axes>"
      ]
     },
     "metadata": {
      "needs_background": "light"
     },
     "output_type": "display_data"
    }
   ],
   "source": [
    "colormap = plt.cm.RdBu\n",
    "plt.figure(figsize=(14,12))\n",
    "plt.title('Соотношение Пирсона', y=1.05, size=15)\n",
    "sns.heatmap(df.corr(), linewidths=0.1,vmax=1.0, \n",
    "            square=True, cmap=colormap, linecolor='white', annot=True)"
   ]
  },
  {
   "cell_type": "markdown",
   "metadata": {
    "colab_type": "text",
    "id": "AWzP4wMfY688"
   },
   "source": [
    "По графику выдны признаки которые сильно коррелированны, их еще называют коллинеарными, и достаточно оставить один из таких признаков. Следовательно из колонок 'OnlineSecurity', 'OnlineBackup', 'DeviceProtection', 'TechSupport', 'StreamingTV', 'StreamingMovies', оставим только одну пусть это будет 'StreamingMovies'."
   ]
  },
  {
   "cell_type": "code",
   "execution_count": 27,
   "metadata": {
    "colab": {
     "base_uri": "https://localhost:8080/",
     "height": 142
    },
    "colab_type": "code",
    "id": "s5vstz-2Z4q5",
    "outputId": "fc5a8aed-1cb9-4a3b-ca7e-c6d2905cf4b7"
   },
   "outputs": [
    {
     "data": {
      "text/html": [
       "<div>\n",
       "<style scoped>\n",
       "    .dataframe tbody tr th:only-of-type {\n",
       "        vertical-align: middle;\n",
       "    }\n",
       "\n",
       "    .dataframe tbody tr th {\n",
       "        vertical-align: top;\n",
       "    }\n",
       "\n",
       "    .dataframe thead th {\n",
       "        text-align: right;\n",
       "    }\n",
       "</style>\n",
       "<table border=\"1\" class=\"dataframe\">\n",
       "  <thead>\n",
       "    <tr style=\"text-align: right;\">\n",
       "      <th></th>\n",
       "      <th>gender</th>\n",
       "      <th>SeniorCitizen</th>\n",
       "      <th>Partner</th>\n",
       "      <th>Dependents</th>\n",
       "      <th>tenure</th>\n",
       "      <th>PhoneService</th>\n",
       "      <th>MultipleLines</th>\n",
       "      <th>InternetService</th>\n",
       "      <th>StreamingMovies</th>\n",
       "      <th>Contract</th>\n",
       "      <th>PaperlessBilling</th>\n",
       "      <th>PaymentMethod</th>\n",
       "      <th>MonthlyCharges</th>\n",
       "      <th>TotalCharges</th>\n",
       "      <th>Churn</th>\n",
       "    </tr>\n",
       "  </thead>\n",
       "  <tbody>\n",
       "    <tr>\n",
       "      <th>0</th>\n",
       "      <td>1</td>\n",
       "      <td>0</td>\n",
       "      <td>1</td>\n",
       "      <td>1</td>\n",
       "      <td>72</td>\n",
       "      <td>1</td>\n",
       "      <td>1</td>\n",
       "      <td>0</td>\n",
       "      <td>2</td>\n",
       "      <td>2</td>\n",
       "      <td>0</td>\n",
       "      <td>3</td>\n",
       "      <td>24.10</td>\n",
       "      <td>1734.65</td>\n",
       "      <td>0</td>\n",
       "    </tr>\n",
       "    <tr>\n",
       "      <th>1</th>\n",
       "      <td>0</td>\n",
       "      <td>0</td>\n",
       "      <td>0</td>\n",
       "      <td>0</td>\n",
       "      <td>44</td>\n",
       "      <td>1</td>\n",
       "      <td>0</td>\n",
       "      <td>2</td>\n",
       "      <td>0</td>\n",
       "      <td>0</td>\n",
       "      <td>1</td>\n",
       "      <td>3</td>\n",
       "      <td>88.15</td>\n",
       "      <td>3973.20</td>\n",
       "      <td>0</td>\n",
       "    </tr>\n",
       "    <tr>\n",
       "      <th>2</th>\n",
       "      <td>0</td>\n",
       "      <td>1</td>\n",
       "      <td>1</td>\n",
       "      <td>0</td>\n",
       "      <td>38</td>\n",
       "      <td>1</td>\n",
       "      <td>1</td>\n",
       "      <td>2</td>\n",
       "      <td>0</td>\n",
       "      <td>0</td>\n",
       "      <td>1</td>\n",
       "      <td>2</td>\n",
       "      <td>74.95</td>\n",
       "      <td>2869.85</td>\n",
       "      <td>1</td>\n",
       "    </tr>\n",
       "  </tbody>\n",
       "</table>\n",
       "</div>"
      ],
      "text/plain": [
       "   gender  SeniorCitizen  Partner  Dependents  tenure  PhoneService  \\\n",
       "0       1              0        1           1      72             1   \n",
       "1       0              0        0           0      44             1   \n",
       "2       0              1        1           0      38             1   \n",
       "\n",
       "   MultipleLines  InternetService  StreamingMovies  Contract  \\\n",
       "0              1                0                2         2   \n",
       "1              0                2                0         0   \n",
       "2              1                2                0         0   \n",
       "\n",
       "   PaperlessBilling  PaymentMethod  MonthlyCharges  TotalCharges  Churn  \n",
       "0                 0              3           24.10       1734.65      0  \n",
       "1                 1              3           88.15       3973.20      0  \n",
       "2                 1              2           74.95       2869.85      1  "
      ]
     },
     "execution_count": 27,
     "metadata": {},
     "output_type": "execute_result"
    }
   ],
   "source": [
    "drop_elements = ['OnlineSecurity', 'OnlineBackup', 'DeviceProtection', 'TechSupport', 'StreamingTV']\n",
    "df = df.drop(drop_elements, axis=1)\n",
    "df.head(3)"
   ]
  },
  {
   "cell_type": "markdown",
   "metadata": {
    "colab_type": "text",
    "id": "UdDi6Z0dxRDY"
   },
   "source": [
    "Сгенерирую несколько парных графиков для наблюдения за распределением данных от одного объекта к другому."
   ]
  },
  {
   "cell_type": "code",
   "execution_count": 28,
   "metadata": {
    "colab": {
     "base_uri": "https://localhost:8080/",
     "height": 1000
    },
    "colab_type": "code",
    "id": "HGpO-avfwEIC",
    "outputId": "08521b4b-2d25-4bf8-9b81-08cf66c5d7fd",
    "scrolled": true
   },
   "outputs": [
    {
     "name": "stderr",
     "output_type": "stream",
     "text": [
      "C:\\Anaconda\\lib\\site-packages\\seaborn\\axisgrid.py:2065: UserWarning: The `size` parameter has been renamed to `height`; pleaes update your code.\n",
      "  warnings.warn(msg, UserWarning)\n",
      "C:\\Anaconda\\lib\\site-packages\\statsmodels\\nonparametric\\kde.py:487: RuntimeWarning: invalid value encountered in true_divide\n",
      "  binned = fast_linbin(X, a, b, gridsize) / (delta * nobs)\n",
      "C:\\Anaconda\\lib\\site-packages\\statsmodels\\nonparametric\\kdetools.py:34: RuntimeWarning: invalid value encountered in double_scalars\n",
      "  FAC1 = 2*(np.pi*bw/RANGE)**2\n"
     ]
    },
    {
     "data": {
      "text/plain": [
       "<seaborn.axisgrid.PairGrid at 0x1e6c84af9b0>"
      ]
     },
     "execution_count": 28,
     "metadata": {},
     "output_type": "execute_result"
    },
    {
     "data": {
      "image/png": "[encoded data removed]",
      "text/plain": [
       "<Figure size 1338.38x1296 with 240 Axes>"
      ]
     },
     "metadata": {
      "needs_background": "light"
     },
     "output_type": "display_data"
    }
   ],
   "source": [
    "g = sns.pairplot(df[[u'gender', \n",
    "                     u'SeniorCitizen', \n",
    "                     u'Partner', \n",
    "                     u'Dependents', \n",
    "                     u'tenure', \n",
    "                     u'PhoneService', \n",
    "                     u'MultipleLines',\n",
    "                     u'InternetService', \n",
    "                     u'StreamingMovies', \n",
    "                     u'Contract', \n",
    "                     u'PaperlessBilling', \n",
    "                     u'PaymentMethod', \n",
    "                     u'MonthlyCharges', \n",
    "                     u'TotalCharges',\n",
    "                     u'Churn'\n",
    "                     ]], hue='Churn', palette = 'seismic',size=1.2,diag_kind = 'kde',diag_kws=dict(shade=True),plot_kws=dict(s=10) )\n",
    "g.set(xticklabels=[])"
   ]
  },
  {
   "cell_type": "code",
   "execution_count": 29,
   "metadata": {
    "colab": {
     "base_uri": "https://localhost:8080/",
     "height": 102
    },
    "colab_type": "code",
    "id": "X0kmib1Dmkst",
    "outputId": "8cf7cc27-122f-40ed-ee19-52037d6d8b6e"
   },
   "outputs": [
    {
     "data": {
      "text/plain": [
       "Index(['gender', 'SeniorCitizen', 'Partner', 'Dependents', 'tenure',\n",
       "       'PhoneService', 'MultipleLines', 'InternetService', 'StreamingMovies',\n",
       "       'Contract', 'PaperlessBilling', 'PaymentMethod', 'MonthlyCharges',\n",
       "       'TotalCharges', 'Churn'],\n",
       "      dtype='object')"
      ]
     },
     "execution_count": 29,
     "metadata": {},
     "output_type": "execute_result"
    }
   ],
   "source": [
    "df.columns"
   ]
  },
  {
   "cell_type": "markdown",
   "metadata": {
    "colab_type": "text",
    "id": "cugmSzPumksw"
   },
   "source": [
    "Проанализирую колонку **gender** – пол клиента (male/female) - (1 / 0)"
   ]
  },
  {
   "cell_type": "markdown",
   "metadata": {
    "colab_type": "text",
    "id": "jlDk4YMSmksw"
   },
   "source": [
    "Посмотрим количество по половой принадлежности, того или иного вида"
   ]
  },
  {
   "cell_type": "code",
   "execution_count": 30,
   "metadata": {
    "colab": {
     "base_uri": "https://localhost:8080/",
     "height": 242
    },
    "colab_type": "code",
    "id": "kn7JcxLXmksw",
    "outputId": "d3ac7441-4517-42af-b35a-758337d33b32"
   },
   "outputs": [
    {
     "data": {
      "text/plain": [
       "<matplotlib.axes._subplots.AxesSubplot at 0x1e6d0b04470>"
      ]
     },
     "execution_count": 30,
     "metadata": {},
     "output_type": "execute_result"
    },
    {
     "data": {
      "image/png": "[encoded data removed]",
      "text/plain": [
       "<Figure size 504x216 with 1 Axes>"
      ]
     },
     "metadata": {},
     "output_type": "display_data"
    }
   ],
   "source": [
    "import seaborn as sns\n",
    "sns.set_style('whitegrid')\n",
    "\n",
    "f, ax = plt.subplots(figsize=(7, 3))\n",
    "sns.countplot(y='gender', data=df, color='c')"
   ]
  },
  {
   "cell_type": "markdown",
   "metadata": {
    "colab_type": "text",
    "id": "mSm3gLl7mksy"
   },
   "source": [
    "Посмотрим сколько клиентов ушло и какого пола"
   ]
  },
  {
   "cell_type": "code",
   "execution_count": 31,
   "metadata": {
    "colab": {
     "base_uri": "https://localhost:8080/",
     "height": 294
    },
    "colab_type": "code",
    "id": "7HdXJDAbmksz",
    "outputId": "bea60d07-c5cb-4f17-cf85-cdf67739a646",
    "scrolled": true
   },
   "outputs": [
    {
     "name": "stderr",
     "output_type": "stream",
     "text": [
      "C:\\Anaconda\\lib\\site-packages\\seaborn\\categorical.py:3666: UserWarning: The `factorplot` function has been renamed to `catplot`. The original name will be removed in a future release. Please update your code. Note that the default `kind` in `factorplot` (`'point'`) has changed `'strip'` in `catplot`.\n",
      "  warnings.warn(msg)\n",
      "C:\\Anaconda\\lib\\site-packages\\seaborn\\categorical.py:3672: UserWarning: The `size` paramter has been renamed to `height`; please update your code.\n",
      "  warnings.warn(msg, UserWarning)\n"
     ]
    },
    {
     "data": {
      "text/plain": [
       "<seaborn.axisgrid.FacetGrid at 0x1e6d0d09048>"
      ]
     },
     "execution_count": 31,
     "metadata": {},
     "output_type": "execute_result"
    },
    {
     "data": {
      "image/png": "[encoded data removed]",
      "text/plain": [
       "<Figure size 576x180 with 2 Axes>"
      ]
     },
     "metadata": {},
     "output_type": "display_data"
    }
   ],
   "source": [
    "# Посмотрим по каким категориям больше ушло\n",
    "sns.factorplot('Churn', col='gender', col_wrap=4, data=df[df.Churn == 0 ], kind='count', size=2.5, aspect=.8)"
   ]
  },
  {
   "cell_type": "markdown",
   "metadata": {
    "colab_type": "text",
    "id": "qCnvP-iqmks1"
   },
   "source": [
    "Как видно по полам нельзя сказать что мужчины уходят больше чем женщины или наоборот, а значит смотрим по другим колонкам"
   ]
  },
  {
   "cell_type": "markdown",
   "metadata": {
    "colab_type": "text",
    "id": "2qd1XcAwmks1"
   },
   "source": [
    "Проанализирую колонку **SeniorCitizen** – яляется ли клиент пенсионером (1, 0)"
   ]
  },
  {
   "cell_type": "code",
   "execution_count": 32,
   "metadata": {
    "colab": {
     "base_uri": "https://localhost:8080/",
     "height": 242
    },
    "colab_type": "code",
    "id": "5SQ12Je7mks2",
    "outputId": "aa98ce33-65aa-4cc4-e1fd-f6490f37981d"
   },
   "outputs": [
    {
     "data": {
      "text/plain": [
       "<matplotlib.axes._subplots.AxesSubplot at 0x1e6d0e6b710>"
      ]
     },
     "execution_count": 32,
     "metadata": {},
     "output_type": "execute_result"
    },
    {
     "data": {
      "image/png": "[encoded data removed]",
      "text/plain": [
       "<Figure size 504x216 with 1 Axes>"
      ]
     },
     "metadata": {},
     "output_type": "display_data"
    }
   ],
   "source": [
    "# Посморим количество по классам\n",
    "f, ax = plt.subplots(figsize=(7, 3))\n",
    "sns.countplot(y='SeniorCitizen', data=df, color='c')"
   ]
  },
  {
   "cell_type": "code",
   "execution_count": 33,
   "metadata": {
    "colab": {
     "base_uri": "https://localhost:8080/",
     "height": 294
    },
    "colab_type": "code",
    "id": "bmET47-Lmks4",
    "outputId": "84670b45-d9ab-4499-88e9-b8aa19fe5951"
   },
   "outputs": [
    {
     "data": {
      "text/plain": [
       "<seaborn.axisgrid.FacetGrid at 0x1e6d0e8fb38>"
      ]
     },
     "execution_count": 33,
     "metadata": {},
     "output_type": "execute_result"
    },
    {
     "data": {
      "image/png": "[encoded data removed]",
      "text/plain": [
       "<Figure size 576x180 with 2 Axes>"
      ]
     },
     "metadata": {},
     "output_type": "display_data"
    }
   ],
   "source": [
    "# Посмотрим по каким категориям больше ушло\n",
    "sns.factorplot('Churn', col='SeniorCitizen', col_wrap=4, data=df[df.Churn == 0 ], kind='count', size=2.5, aspect=.8)"
   ]
  },
  {
   "cell_type": "markdown",
   "metadata": {
    "colab_type": "text",
    "id": "waa9LQsXmks6"
   },
   "source": [
    "Как видно из графика пенсионеры уходят намного меньше, и продолжаем смотреть другие колонки"
   ]
  },
  {
   "cell_type": "markdown",
   "metadata": {
    "colab_type": "text",
    "id": "Icw2LLUhmks7"
   },
   "source": [
    "Проанализируем колонку **Partner** – состоит ли клиент в браке (Yes, No)(1, 0)"
   ]
  },
  {
   "cell_type": "code",
   "execution_count": 34,
   "metadata": {
    "colab": {
     "base_uri": "https://localhost:8080/",
     "height": 242
    },
    "colab_type": "code",
    "id": "7eiKpUwumks7",
    "outputId": "790c9058-ffcb-4bf5-b2d4-7cd03df8aaae"
   },
   "outputs": [
    {
     "data": {
      "text/plain": [
       "<matplotlib.axes._subplots.AxesSubplot at 0x1e6d0ef7b70>"
      ]
     },
     "execution_count": 34,
     "metadata": {},
     "output_type": "execute_result"
    },
    {
     "data": {
      "image/png": "[encoded data removed]",
      "text/plain": [
       "<Figure size 504x216 with 1 Axes>"
      ]
     },
     "metadata": {},
     "output_type": "display_data"
    }
   ],
   "source": [
    "# Посморим количество по классам\n",
    "f, ax = plt.subplots(figsize=(7, 3))\n",
    "sns.countplot(y='Partner', data=df, color='c')"
   ]
  },
  {
   "cell_type": "code",
   "execution_count": 35,
   "metadata": {
    "colab": {
     "base_uri": "https://localhost:8080/",
     "height": 294
    },
    "colab_type": "code",
    "id": "6gBF4G5Wmks9",
    "outputId": "7a82511c-e680-4ba2-a222-bb76ae0c7326"
   },
   "outputs": [
    {
     "data": {
      "text/plain": [
       "<seaborn.axisgrid.FacetGrid at 0x1e6d0e8fb00>"
      ]
     },
     "execution_count": 35,
     "metadata": {},
     "output_type": "execute_result"
    },
    {
     "data": {
      "image/png": "[encoded data removed]",
      "text/plain": [
       "<Figure size 576x180 with 2 Axes>"
      ]
     },
     "metadata": {},
     "output_type": "display_data"
    }
   ],
   "source": [
    "# Посмотрим по каким категориям больше ушло\n",
    "sns.factorplot('Churn', col='Partner', col_wrap=4, data=df[df.Churn == 0 ], kind='count', size=2.5, aspect=.8)"
   ]
  },
  {
   "cell_type": "code",
   "execution_count": 36,
   "metadata": {
    "colab": {
     "base_uri": "https://localhost:8080/",
     "height": 34
    },
    "colab_type": "code",
    "id": "kgp__9QRmks_",
    "outputId": "faa45c25-1185-42be-90a6-9712e0e2be4e"
   },
   "outputs": [
    {
     "name": "stdout",
     "output_type": "stream",
     "text": [
      "Partner (Yes) == 2328\n"
     ]
    }
   ],
   "source": [
    "print('Partner (Yes) ==' , df[(df['Churn']==0) & (df['Partner']==1)].loc[:, 'Partner'].count())"
   ]
  },
  {
   "cell_type": "code",
   "execution_count": 37,
   "metadata": {
    "colab": {
     "base_uri": "https://localhost:8080/",
     "height": 34
    },
    "colab_type": "code",
    "id": "FqvLRT93mktC",
    "outputId": "e50c7161-ec5c-4764-bbcd-97712e69eaf9"
   },
   "outputs": [
    {
     "name": "stdout",
     "output_type": "stream",
     "text": [
      "Partner (No) == 2071\n"
     ]
    }
   ],
   "source": [
    "print('Partner (No) ==' , df[(df['Churn']==0) & (df['Partner']==0)].loc[:, 'Partner'].count())"
   ]
  },
  {
   "cell_type": "markdown",
   "metadata": {
    "colab_type": "text",
    "id": "kwf_I0-_mktE"
   },
   "source": [
    "Вывод как видно из графика те кто состоит в браке или нет разница не велика"
   ]
  },
  {
   "cell_type": "markdown",
   "metadata": {
    "colab_type": "text",
    "id": "7Y-7y_I9mktF"
   },
   "source": [
    "Проанализируем колонку **Dependents** – есть ли у клиента иждивенцы (Yes, No)- (1, 0)"
   ]
  },
  {
   "cell_type": "code",
   "execution_count": 38,
   "metadata": {
    "colab": {
     "base_uri": "https://localhost:8080/",
     "height": 242
    },
    "colab_type": "code",
    "id": "p6P2DuJRmktF",
    "outputId": "db526893-3c98-4abc-9cc1-593cf045becb"
   },
   "outputs": [
    {
     "data": {
      "text/plain": [
       "<matplotlib.axes._subplots.AxesSubplot at 0x1e6d0f61748>"
      ]
     },
     "execution_count": 38,
     "metadata": {},
     "output_type": "execute_result"
    },
    {
     "data": {
      "image/png": "[encoded data removed]",
      "text/plain": [
       "<Figure size 504x216 with 1 Axes>"
      ]
     },
     "metadata": {},
     "output_type": "display_data"
    }
   ],
   "source": [
    "# Посморим количество по классам\n",
    "f, ax = plt.subplots(figsize=(7, 3))\n",
    "sns.countplot(y='Dependents', data=df, color='c')"
   ]
  },
  {
   "cell_type": "code",
   "execution_count": 39,
   "metadata": {
    "colab": {
     "base_uri": "https://localhost:8080/",
     "height": 294
    },
    "colab_type": "code",
    "id": "hX_xuoLBmktI",
    "outputId": "1eab3c7c-50ba-489e-beb3-26c69359162e"
   },
   "outputs": [
    {
     "data": {
      "text/plain": [
       "<seaborn.axisgrid.FacetGrid at 0x1e6d0fedd30>"
      ]
     },
     "execution_count": 39,
     "metadata": {},
     "output_type": "execute_result"
    },
    {
     "data": {
      "image/png": "[encoded data removed]",
      "text/plain": [
       "<Figure size 576x180 with 2 Axes>"
      ]
     },
     "metadata": {},
     "output_type": "display_data"
    }
   ],
   "source": [
    "# Посмотрим по каким категориям больше ушло\n",
    "sns.factorplot('Churn', col='Dependents', col_wrap=4, data=df[df.Churn == 0 ], kind='count', size=2.5, aspect=.8)"
   ]
  },
  {
   "cell_type": "code",
   "execution_count": 40,
   "metadata": {
    "colab": {
     "base_uri": "https://localhost:8080/",
     "height": 34
    },
    "colab_type": "code",
    "id": "m6SdAWZTmktK",
    "outputId": "aa678243-731e-4ecb-950f-0f7c18487e0d"
   },
   "outputs": [
    {
     "name": "stdout",
     "output_type": "stream",
     "text": [
      "Dependents (Yes) == 1510\n"
     ]
    }
   ],
   "source": [
    "print('Dependents (Yes) ==' , df[(df['Churn']==0) & (df['Dependents']==1)].loc[:, 'Dependents'].count())"
   ]
  },
  {
   "cell_type": "code",
   "execution_count": 41,
   "metadata": {
    "colab": {
     "base_uri": "https://localhost:8080/",
     "height": 34
    },
    "colab_type": "code",
    "id": "ulqrgncvmktM",
    "outputId": "e176c6e4-7f5f-4496-cc6e-246f0290ce7f"
   },
   "outputs": [
    {
     "name": "stdout",
     "output_type": "stream",
     "text": [
      "Dependents (No) == 2889\n"
     ]
    }
   ],
   "source": [
    "print('Dependents (No) ==' , df[(df['Churn']==0) & (df['Dependents']==0)].loc[:, 'Dependents'].count())"
   ]
  },
  {
   "cell_type": "markdown",
   "metadata": {
    "colab_type": "text",
    "id": "JNgg5auYmktO"
   },
   "source": [
    "А вот по колонке есть ли у клиента иждивенцы, разница чувствуется"
   ]
  },
  {
   "cell_type": "markdown",
   "metadata": {
    "colab_type": "text",
    "id": "OE7vicU-mktO"
   },
   "source": [
    "Проанализируем колонку **tenure** – сколько месяцев человек являлся клиентом компании"
   ]
  },
  {
   "cell_type": "code",
   "execution_count": 42,
   "metadata": {
    "colab": {
     "base_uri": "https://localhost:8080/",
     "height": 245
    },
    "colab_type": "code",
    "id": "zkNGuVAUmktO",
    "outputId": "c17ac947-e151-46aa-9881-62d81cb86c75",
    "scrolled": true
   },
   "outputs": [
    {
     "data": {
      "text/plain": [
       "<matplotlib.axes._subplots.AxesSubplot at 0x1e6d10db128>"
      ]
     },
     "execution_count": 42,
     "metadata": {},
     "output_type": "execute_result"
    },
    {
     "data": {
      "image/png": "[encoded data removed]",
      "text/plain": [
       "<Figure size 504x216 with 1 Axes>"
      ]
     },
     "metadata": {},
     "output_type": "display_data"
    }
   ],
   "source": [
    "# Посморим количество по классам\n",
    "f, ax = plt.subplots(figsize=(7, 3))\n",
    "sns.countplot(y='tenure', data=df, color='c')"
   ]
  },
  {
   "cell_type": "code",
   "execution_count": 43,
   "metadata": {
    "colab": {
     "base_uri": "https://localhost:8080/",
     "height": 1000
    },
    "colab_type": "code",
    "id": "m1lQJH71mktR",
    "outputId": "a95d81af-8bef-42a0-82c8-aca2354430a3"
   },
   "outputs": [
    {
     "data": {
      "text/plain": [
       "<seaborn.axisgrid.FacetGrid at 0x1e6d117f6d8>"
      ]
     },
     "execution_count": 43,
     "metadata": {},
     "output_type": "execute_result"
    },
    {
     "data": {
      "image/png": "[encoded data removed]",
      "text/plain": [
       "<Figure size 576x3420 with 73 Axes>"
      ]
     },
     "metadata": {},
     "output_type": "display_data"
    }
   ],
   "source": [
    "# Посмотрим по каким категориям больше ушло\n",
    "sns.factorplot('Churn', col='tenure', col_wrap=4, data=df[df.Churn == 0 ], kind='count', size=2.5, aspect=.8)"
   ]
  },
  {
   "cell_type": "code",
   "execution_count": 44,
   "metadata": {
    "colab": {
     "base_uri": "https://localhost:8080/",
     "height": 235
    },
    "colab_type": "code",
    "id": "xR0Mgs66mktY",
    "outputId": "82f0507d-ded0-4222-9866-71b8e362727b"
   },
   "outputs": [
    {
     "data": {
      "text/html": [
       "<div>\n",
       "<style scoped>\n",
       "    .dataframe tbody tr th:only-of-type {\n",
       "        vertical-align: middle;\n",
       "    }\n",
       "\n",
       "    .dataframe tbody tr th {\n",
       "        vertical-align: top;\n",
       "    }\n",
       "\n",
       "    .dataframe thead th {\n",
       "        text-align: right;\n",
       "    }\n",
       "</style>\n",
       "<table border=\"1\" class=\"dataframe\">\n",
       "  <thead>\n",
       "    <tr style=\"text-align: right;\">\n",
       "      <th></th>\n",
       "      <th>Churn</th>\n",
       "    </tr>\n",
       "    <tr>\n",
       "      <th>tenure</th>\n",
       "      <th></th>\n",
       "    </tr>\n",
       "  </thead>\n",
       "  <tbody>\n",
       "    <tr>\n",
       "      <th>72</th>\n",
       "      <td>304</td>\n",
       "    </tr>\n",
       "    <tr>\n",
       "      <th>1</th>\n",
       "      <td>192</td>\n",
       "    </tr>\n",
       "    <tr>\n",
       "      <th>71</th>\n",
       "      <td>147</td>\n",
       "    </tr>\n",
       "    <tr>\n",
       "      <th>2</th>\n",
       "      <td>90</td>\n",
       "    </tr>\n",
       "    <tr>\n",
       "      <th>3</th>\n",
       "      <td>87</td>\n",
       "    </tr>\n",
       "  </tbody>\n",
       "</table>\n",
       "</div>"
      ],
      "text/plain": [
       "        Churn\n",
       "tenure       \n",
       "72        304\n",
       "1         192\n",
       "71        147\n",
       "2          90\n",
       "3          87"
      ]
     },
     "execution_count": 44,
     "metadata": {},
     "output_type": "execute_result"
    }
   ],
   "source": [
    "# Посмотрим по каким категориям больше ушло\n",
    "df[df['Churn']==0].loc[:, ['tenure', 'Churn']].groupby('tenure').count().sort_values('Churn', ascending=False).head()"
   ]
  },
  {
   "cell_type": "markdown",
   "metadata": {
    "colab_type": "text",
    "id": "jQjNALHkmkta"
   },
   "source": [
    "**Вывод** как видно из таблицы, наблюдается уход клиентов пользующихся услугами в первые месяцы и тех кто пользуются услугами около 6 ти лет"
   ]
  },
  {
   "cell_type": "markdown",
   "metadata": {
    "colab_type": "text",
    "id": "Blou7VmHmktb"
   },
   "source": [
    "Проанализируем колонку **PhoneService** – подключена ли услуга телефонной связи (Yes, No) - (1. 0)"
   ]
  },
  {
   "cell_type": "code",
   "execution_count": 45,
   "metadata": {
    "colab": {
     "base_uri": "https://localhost:8080/",
     "height": 242
    },
    "colab_type": "code",
    "id": "4MddyeYqmktb",
    "outputId": "b4d0ef49-b18d-4a92-a7f0-5801a66a0752"
   },
   "outputs": [
    {
     "data": {
      "text/plain": [
       "<matplotlib.axes._subplots.AxesSubplot at 0x1e6d11de9b0>"
      ]
     },
     "execution_count": 45,
     "metadata": {},
     "output_type": "execute_result"
    },
    {
     "data": {
      "image/png": "[encoded data removed]",
      "text/plain": [
       "<Figure size 504x216 with 1 Axes>"
      ]
     },
     "metadata": {},
     "output_type": "display_data"
    }
   ],
   "source": [
    "# Посморим количество по классам\n",
    "f, ax = plt.subplots(figsize=(7, 3))\n",
    "sns.countplot(y='PhoneService', data=df, color='c')"
   ]
  },
  {
   "cell_type": "code",
   "execution_count": 46,
   "metadata": {
    "colab": {
     "base_uri": "https://localhost:8080/",
     "height": 294
    },
    "colab_type": "code",
    "id": "ohhexqJzmktd",
    "outputId": "3f0c4658-e001-4dbf-959f-1dac9c1fddf9"
   },
   "outputs": [
    {
     "name": "stderr",
     "output_type": "stream",
     "text": [
      "C:\\Anaconda\\lib\\site-packages\\seaborn\\categorical.py:3666: UserWarning: The `factorplot` function has been renamed to `catplot`. The original name will be removed in a future release. Please update your code. Note that the default `kind` in `factorplot` (`'point'`) has changed `'strip'` in `catplot`.\n",
      "  warnings.warn(msg)\n",
      "C:\\Anaconda\\lib\\site-packages\\seaborn\\categorical.py:3672: UserWarning: The `size` paramter has been renamed to `height`; please update your code.\n",
      "  warnings.warn(msg, UserWarning)\n"
     ]
    },
    {
     "data": {
      "text/plain": [
       "<seaborn.axisgrid.FacetGrid at 0x1e6d43247b8>"
      ]
     },
     "execution_count": 46,
     "metadata": {},
     "output_type": "execute_result"
    },
    {
     "data": {
      "image/png": "[encoded data removed]",
      "text/plain": [
       "<Figure size 576x180 with 2 Axes>"
      ]
     },
     "metadata": {},
     "output_type": "display_data"
    }
   ],
   "source": [
    "# Посмотрим по каким категориям больше ушло\n",
    "sns.factorplot('Churn', col='PhoneService', col_wrap=4, data=df[df.Churn == 0 ], kind='count', size=2.5, aspect=.8)"
   ]
  },
  {
   "cell_type": "code",
   "execution_count": 47,
   "metadata": {
    "colab": {
     "base_uri": "https://localhost:8080/",
     "height": 34
    },
    "colab_type": "code",
    "id": "UJiLMrDBmktg",
    "outputId": "2f2fffd9-32e8-45f8-cb1b-fcf5769e076a"
   },
   "outputs": [
    {
     "name": "stdout",
     "output_type": "stream",
     "text": [
      "PhoneService (Yes) == 3958\n"
     ]
    }
   ],
   "source": [
    "print('PhoneService (Yes) ==' , df[(df['Churn']==0) & (df['PhoneService']==1)].loc[:, 'PhoneService'].count())"
   ]
  },
  {
   "cell_type": "code",
   "execution_count": 48,
   "metadata": {
    "colab": {
     "base_uri": "https://localhost:8080/",
     "height": 34
    },
    "colab_type": "code",
    "id": "8Q7lifVMmktl",
    "outputId": "03b125e1-e59a-452a-dc78-10517617c116"
   },
   "outputs": [
    {
     "name": "stdout",
     "output_type": "stream",
     "text": [
      "PhoneService (No) == 441\n"
     ]
    }
   ],
   "source": [
    "print('PhoneService (No) ==' , df[(df['Churn']==0) & (df['PhoneService']==0)].loc[:, 'PhoneService'].count())"
   ]
  },
  {
   "cell_type": "code",
   "execution_count": 49,
   "metadata": {
    "colab": {
     "base_uri": "https://localhost:8080/",
     "height": 34
    },
    "colab_type": "code",
    "id": "rnC8PGLFQSGN",
    "outputId": "c1946220-0884-474e-eb58-691c7ae941ae"
   },
   "outputs": [
    {
     "name": "stdout",
     "output_type": "stream",
     "text": [
      "75 %\n"
     ]
    }
   ],
   "source": [
    "# Посмотрим процентное соотношение ушедших\n",
    "# узнаем процент ушедших у кого подключена услуга телефонной связи (Yes, No)\n",
    "total_0 = df[df['PhoneService'] == 0].loc[:, 'PhoneService'].count()\n",
    "gone_0 = df[(df['PhoneService'] == 0) & (df['Churn']==0)].loc[:, 'PhoneService'].count() # количество ушедших\n",
    "procent_0 = round((int(gone_0) / int(total_0)) * 100)\n",
    "print(f'{procent_0} %')"
   ]
  },
  {
   "cell_type": "code",
   "execution_count": 50,
   "metadata": {
    "colab": {
     "base_uri": "https://localhost:8080/",
     "height": 34
    },
    "colab_type": "code",
    "id": "S6mYMr5PQSGS",
    "outputId": "f32f13f8-6587-4545-8989-cf5b61abc49f"
   },
   "outputs": [
    {
     "name": "stdout",
     "output_type": "stream",
     "text": [
      "73 %\n"
     ]
    }
   ],
   "source": [
    "# узнаем процент ушедших у кого подключена услуга телефонной связи (Yes, No)\n",
    "total_1 = df[df['PhoneService'] == 1].loc[:, 'PhoneService'].count()\n",
    "gone_1 = df[(df['PhoneService'] == 1) & (df['Churn']==0)].loc[:, 'PhoneService'].count() # количество ушедших\n",
    "procent_1 = round((int(gone_1) / int(total_1)) * 100)\n",
    "print(f'{procent_1} %')"
   ]
  },
  {
   "cell_type": "markdown",
   "metadata": {
    "colab_type": "text",
    "id": "XxvkEWEGmktp"
   },
   "source": [
    "По ушедшим на графике видимость как будто те у кого подключена услуга ушло большо но если сравним в процентах по тому сколько было в обоих группах и сколько ушло оказывается что уходят то одинаково, значит эту колонку пропустим"
   ]
  },
  {
   "cell_type": "markdown",
   "metadata": {
    "colab_type": "text",
    "id": "fd1ctTQEmktq"
   },
   "source": [
    "Проанализируем колонку **MultipleLines** – подключены ли несколько телефонных линий (Yes, No, No phone service) - (1, 0, 2)"
   ]
  },
  {
   "cell_type": "code",
   "execution_count": 51,
   "metadata": {
    "colab": {
     "base_uri": "https://localhost:8080/",
     "height": 242
    },
    "colab_type": "code",
    "id": "jRZ7oCy3mktr",
    "outputId": "aa400654-17dc-4314-df92-2a53e00815ff"
   },
   "outputs": [
    {
     "data": {
      "text/plain": [
       "<matplotlib.axes._subplots.AxesSubplot at 0x1e6d4f3d1d0>"
      ]
     },
     "execution_count": 51,
     "metadata": {},
     "output_type": "execute_result"
    },
    {
     "data": {
      "image/png": "[encoded data removed]",
      "text/plain": [
       "<Figure size 504x216 with 1 Axes>"
      ]
     },
     "metadata": {},
     "output_type": "display_data"
    }
   ],
   "source": [
    "# Посморим количество по классам\n",
    "f, ax = plt.subplots(figsize=(7, 3))\n",
    "sns.countplot(y='MultipleLines', data=df, color='c')"
   ]
  },
  {
   "cell_type": "code",
   "execution_count": 52,
   "metadata": {
    "colab": {
     "base_uri": "https://localhost:8080/",
     "height": 294
    },
    "colab_type": "code",
    "id": "o9u3CgS0mktv",
    "outputId": "4b32aa0d-f4ad-4563-b692-f19ead583949"
   },
   "outputs": [
    {
     "data": {
      "text/plain": [
       "<seaborn.axisgrid.FacetGrid at 0x1e6d15b2908>"
      ]
     },
     "execution_count": 52,
     "metadata": {},
     "output_type": "execute_result"
    },
    {
     "data": {
      "image/png": "[encoded data removed]",
      "text/plain": [
       "<Figure size 576x180 with 3 Axes>"
      ]
     },
     "metadata": {},
     "output_type": "display_data"
    }
   ],
   "source": [
    "# Посмотрим по каким категориям больше ушло\n",
    "sns.factorplot('Churn', col='MultipleLines', col_wrap=4, data=df[df.Churn == 0 ], kind='count', size=2.5, aspect=.8)"
   ]
  },
  {
   "cell_type": "code",
   "execution_count": 53,
   "metadata": {
    "colab": {
     "base_uri": "https://localhost:8080/",
     "height": 34
    },
    "colab_type": "code",
    "id": "DKfhRFTMmktx",
    "outputId": "3cf81c4a-09cb-4593-8c4f-962578a89fab"
   },
   "outputs": [
    {
     "name": "stdout",
     "output_type": "stream",
     "text": [
      "75 %\n"
     ]
    }
   ],
   "source": [
    "# Посмотрим процентное соотношение ушедших\n",
    "# узнаем процент ушедших у кого не подключено несколько телефонных линий\n",
    "total_0 = df[df['MultipleLines'] == 0].loc[:, 'MultipleLines'].count()\n",
    "gone_0 = df[(df['MultipleLines'] == 0) & (df['Churn']==0)].loc[:, 'MultipleLines'].count() # количество ушедших\n",
    "procent_0 = round((int(gone_0) / int(total_0)) * 100)\n",
    "print(f'{procent_0} %')"
   ]
  },
  {
   "cell_type": "code",
   "execution_count": 54,
   "metadata": {
    "colab": {
     "base_uri": "https://localhost:8080/",
     "height": 34
    },
    "colab_type": "code",
    "id": "ViKl9lwzmktz",
    "outputId": "411d7d64-35d6-47e4-922f-410ec9fe0056"
   },
   "outputs": [
    {
     "name": "stdout",
     "output_type": "stream",
     "text": [
      "72 %\n"
     ]
    }
   ],
   "source": [
    "# узнаем процент ушедших у кого подключено несколько телефонных линий\n",
    "total_1 = df[df['MultipleLines'] == 1].loc[:, 'MultipleLines'].count()\n",
    "gone_1 = df[(df['MultipleLines'] == 1) & (df['Churn']==0)].loc[:, 'MultipleLines'].count() # количество ушедших\n",
    "procent_1 = round((int(gone_1) / int(total_1)) * 100)\n",
    "print(f'{procent_1} %')"
   ]
  },
  {
   "cell_type": "code",
   "execution_count": 55,
   "metadata": {
    "colab": {
     "base_uri": "https://localhost:8080/",
     "height": 34
    },
    "colab_type": "code",
    "id": "q0OY0tVkmkt1",
    "outputId": "ca8e4673-0aeb-4f5f-85db-993317e32908"
   },
   "outputs": [
    {
     "name": "stdout",
     "output_type": "stream",
     "text": [
      "75 %\n"
     ]
    }
   ],
   "source": [
    "# узнаем процент ушедших у кого нет такого сервиса\n",
    "total_2 = df[df['MultipleLines'] == 2].loc[:, 'MultipleLines'].count()\n",
    "gone_2 = df[(df['MultipleLines'] == 2) & (df['Churn']==0)].loc[:, 'MultipleLines'].count() # количество ушедших\n",
    "procent_2 = round((int(gone_2) / int(total_2)) * 100)\n",
    "print(f'{procent_2} %')"
   ]
  },
  {
   "cell_type": "markdown",
   "metadata": {
    "colab_type": "text",
    "id": "tQRMuXRWmkt3"
   },
   "source": [
    "Как видно процент ушедших не льзя отнести к какому то классу, типо подключено ли несколько линий или нет"
   ]
  },
  {
   "cell_type": "markdown",
   "metadata": {
    "colab_type": "text",
    "id": "eK-sjKkJmkt4"
   },
   "source": [
    "Проанализируем колонку **InternetService** – интернет-провайдер клиента (DSL, Fiber optic, No) - (1, 2, 0)"
   ]
  },
  {
   "cell_type": "code",
   "execution_count": 56,
   "metadata": {
    "colab": {
     "base_uri": "https://localhost:8080/",
     "height": 242
    },
    "colab_type": "code",
    "id": "ofU29nUrmkt4",
    "outputId": "66f2e569-ba11-42ca-8d17-19502b12f537"
   },
   "outputs": [
    {
     "data": {
      "text/plain": [
       "<matplotlib.axes._subplots.AxesSubplot at 0x1e6d605a080>"
      ]
     },
     "execution_count": 56,
     "metadata": {},
     "output_type": "execute_result"
    },
    {
     "data": {
      "image/png": "[encoded data removed]",
      "text/plain": [
       "<Figure size 504x216 with 1 Axes>"
      ]
     },
     "metadata": {},
     "output_type": "display_data"
    }
   ],
   "source": [
    "# Посморим количество по классам\n",
    "f, ax = plt.subplots(figsize=(7, 3))\n",
    "sns.countplot(y='InternetService', data=df, color='c')"
   ]
  },
  {
   "cell_type": "code",
   "execution_count": 57,
   "metadata": {
    "colab": {
     "base_uri": "https://localhost:8080/",
     "height": 294
    },
    "colab_type": "code",
    "id": "S3Rdygermkt6",
    "outputId": "442645d6-bd02-4922-af96-b12f747bdb32"
   },
   "outputs": [
    {
     "data": {
      "text/plain": [
       "<seaborn.axisgrid.FacetGrid at 0x1e6d5045da0>"
      ]
     },
     "execution_count": 57,
     "metadata": {},
     "output_type": "execute_result"
    },
    {
     "data": {
      "image/png": "[encoded data removed]",
      "text/plain": [
       "<Figure size 576x180 with 3 Axes>"
      ]
     },
     "metadata": {},
     "output_type": "display_data"
    }
   ],
   "source": [
    "# Посмотрим по каким категориям больше ушло\n",
    "sns.factorplot('Churn', col='InternetService', col_wrap=4, data=df[df.Churn == 0 ], kind='count', size=2.5, aspect=.8)"
   ]
  },
  {
   "cell_type": "code",
   "execution_count": 58,
   "metadata": {
    "colab": {
     "base_uri": "https://localhost:8080/",
     "height": 34
    },
    "colab_type": "code",
    "id": "H9Q06PN9mkt8",
    "outputId": "d2bf5462-1f3e-4f4a-cb75-2a111b5f87ef"
   },
   "outputs": [
    {
     "name": "stdout",
     "output_type": "stream",
     "text": [
      "92 %\n"
     ]
    }
   ],
   "source": [
    "# Посмотрим процентное соотношение ушедших\n",
    "# узнаем процент ушедших у кого интернет-провайдер клиента No\n",
    "total_0 = df[df['InternetService'] == 0].loc[:, 'InternetService'].count()\n",
    "gone_0 = df[(df['InternetService'] == 0) & (df['Churn']==0)].loc[:, 'InternetService'].count() # количество ушедших\n",
    "procent_0 = round((int(gone_0) / int(total_0)) * 100)\n",
    "print(f'{procent_0} %')"
   ]
  },
  {
   "cell_type": "code",
   "execution_count": 59,
   "metadata": {
    "colab": {
     "base_uri": "https://localhost:8080/",
     "height": 34
    },
    "colab_type": "code",
    "id": "xg-RMOEomkt-",
    "outputId": "502e0792-b190-4a5c-9d38-6d437cc560a4"
   },
   "outputs": [
    {
     "name": "stdout",
     "output_type": "stream",
     "text": [
      "81 %\n"
     ]
    }
   ],
   "source": [
    "# узнаем процент ушедших у кого интернет-провайдер клиента DSL\n",
    "total_1 = df[df['InternetService'] == 1].loc[:, 'InternetService'].count()\n",
    "gone_1 = df[(df['InternetService'] == 1) & (df['Churn']==0)].loc[:, 'InternetService'].count() # количество ушедших\n",
    "procent_1 = round((int(gone_1) / int(total_1)) * 100)\n",
    "print(f'{procent_1} %')"
   ]
  },
  {
   "cell_type": "code",
   "execution_count": 60,
   "metadata": {
    "colab": {
     "base_uri": "https://localhost:8080/",
     "height": 34
    },
    "colab_type": "code",
    "id": "F8rY2xZ0mkuB",
    "outputId": "71b22db4-ea88-4734-f8ef-66502878aafc"
   },
   "outputs": [
    {
     "name": "stdout",
     "output_type": "stream",
     "text": [
      "58 %\n"
     ]
    }
   ],
   "source": [
    "# узнаем процент ушедших у кого интернет-провайдер клиента Fiber optic\n",
    "total_2 = df[df['InternetService'] == 2].loc[:, 'InternetService'].count()\n",
    "gone_2 = df[(df['InternetService'] == 2) & (df['Churn']==0)].loc[:, 'InternetService'].count() # количество ушедших\n",
    "procent_2 = round((int(gone_2) / int(total_2)) * 100)\n",
    "print(f'{procent_2} %')"
   ]
  },
  {
   "cell_type": "markdown",
   "metadata": {
    "colab_type": "text",
    "id": "GJwDVH8RmkuD"
   },
   "source": [
    "В данном случае по графикам не понятно куда смотреть, но если посмотреть на проценты то видно что стоит обратить внимание на категории клиентов у кого нет вообще интернет провайдера и на тех у кого интернет провайдер DSL"
   ]
  },
  {
   "cell_type": "markdown",
   "metadata": {
    "colab_type": "text",
    "id": "mtWc0h7hmkuF"
   },
   "source": [
    "Проанализируем колонку **StreamingMovies** – подключена ли услуга стримингового кинотеатра (Yes, No, No internet service) - (1, 0, 2)"
   ]
  },
  {
   "cell_type": "code",
   "execution_count": 61,
   "metadata": {
    "colab": {
     "base_uri": "https://localhost:8080/",
     "height": 242
    },
    "colab_type": "code",
    "id": "Gsu1FVw8mkuF",
    "outputId": "44cf8e43-803d-4dcf-ff9f-9f3b83fdc49c"
   },
   "outputs": [
    {
     "data": {
      "text/plain": [
       "<matplotlib.axes._subplots.AxesSubplot at 0x1e6d616f780>"
      ]
     },
     "execution_count": 61,
     "metadata": {},
     "output_type": "execute_result"
    },
    {
     "data": {
      "image/png": "[encoded data removed]",
      "text/plain": [
       "<Figure size 504x216 with 1 Axes>"
      ]
     },
     "metadata": {},
     "output_type": "display_data"
    }
   ],
   "source": [
    "# Посморим количество по классам\n",
    "f, ax = plt.subplots(figsize=(7, 3))\n",
    "sns.countplot(y='StreamingMovies', data=df, color='c')"
   ]
  },
  {
   "cell_type": "code",
   "execution_count": 62,
   "metadata": {
    "colab": {
     "base_uri": "https://localhost:8080/",
     "height": 294
    },
    "colab_type": "code",
    "id": "1M4NoRtamkuH",
    "outputId": "433ea9d4-2484-40d8-f3b9-d6f74c659255"
   },
   "outputs": [
    {
     "data": {
      "text/plain": [
       "<seaborn.axisgrid.FacetGrid at 0x1e6d616f0b8>"
      ]
     },
     "execution_count": 62,
     "metadata": {},
     "output_type": "execute_result"
    },
    {
     "data": {
      "image/png": "[encoded data removed]",
      "text/plain": [
       "<Figure size 576x180 with 3 Axes>"
      ]
     },
     "metadata": {},
     "output_type": "display_data"
    }
   ],
   "source": [
    "# Посмотрим по каким категориям больше ушло\n",
    "sns.factorplot('Churn', col='StreamingMovies', col_wrap=4, data=df[df.Churn == 0 ], kind='count', size=2.5, aspect=.8)"
   ]
  },
  {
   "cell_type": "code",
   "execution_count": 63,
   "metadata": {
    "colab": {
     "base_uri": "https://localhost:8080/",
     "height": 34
    },
    "colab_type": "code",
    "id": "vkBe2AoGmkuM",
    "outputId": "0258a81b-8144-4145-aa04-bab974a4184a"
   },
   "outputs": [
    {
     "name": "stdout",
     "output_type": "stream",
     "text": [
      "66 %\n"
     ]
    }
   ],
   "source": [
    "# Посмотрим процентное соотношение ушедших\n",
    "# узнаем процент ушедших у кого подключена услуга стримингового кинотеатра (No)\n",
    "total_0 = df[df['StreamingMovies'] == 0].loc[:, 'StreamingMovies'].count()\n",
    "gone_0 = df[(df['StreamingMovies'] == 0) & (df['Churn']==0)].loc[:, 'StreamingMovies'].count() # количество ушедших\n",
    "procent_0 = round((int(gone_0) / int(total_0)) * 100)\n",
    "print(f'{procent_0} %')"
   ]
  },
  {
   "cell_type": "code",
   "execution_count": 64,
   "metadata": {
    "colab": {
     "base_uri": "https://localhost:8080/",
     "height": 34
    },
    "colab_type": "code",
    "id": "BcGYvNvzmkuP",
    "outputId": "8f28252f-607c-4c56-e489-6a961abb73f8"
   },
   "outputs": [
    {
     "name": "stdout",
     "output_type": "stream",
     "text": [
      "70 %\n"
     ]
    }
   ],
   "source": [
    "# узнаем процент ушедших у кого подключена услуга стримингового кинотеатра (Yes)\n",
    "total_1 = df[df['StreamingMovies'] == 1].loc[:, 'StreamingMovies'].count()\n",
    "gone_1 = df[(df['StreamingMovies'] == 1) & (df['Churn']==0)].loc[:, 'StreamingMovies'].count() # количество ушедших\n",
    "procent_1 = round((int(gone_1) / int(total_1)) * 100)\n",
    "print(f'{procent_1} %')"
   ]
  },
  {
   "cell_type": "code",
   "execution_count": 65,
   "metadata": {
    "colab": {
     "base_uri": "https://localhost:8080/",
     "height": 34
    },
    "colab_type": "code",
    "id": "mxjKGN4dmkuS",
    "outputId": "2dc4198f-801b-40c6-a1c1-2ece0d55009f"
   },
   "outputs": [
    {
     "name": "stdout",
     "output_type": "stream",
     "text": [
      "92 %\n"
     ]
    }
   ],
   "source": [
    "# узнаем процент ушедших у кого подключена услуга стримингового кинотеатра (No internet service)\n",
    "total_2 = df[df['StreamingMovies'] == 2].loc[:, 'StreamingMovies'].count()\n",
    "gone_2 = df[(df['StreamingMovies'] == 2) & (df['Churn']==0)].loc[:, 'StreamingMovies'].count() # количество ушедших\n",
    "procent_2 = round((int(gone_2) / int(total_2)) * 100)\n",
    "print(f'{procent_2} %')"
   ]
  },
  {
   "cell_type": "markdown",
   "metadata": {
    "colab_type": "text",
    "id": "EG7rZNZ0mkuV"
   },
   "source": [
    "Тут тоже по графикам понять что то мало можно, но выведя процент ушедших по категориям видно что стоит обращать внимание на тех у кого нет интернет сервиса"
   ]
  },
  {
   "cell_type": "markdown",
   "metadata": {
    "colab_type": "text",
    "id": "KMU1DcKGmkuV"
   },
   "source": [
    "Проанализируем колонку **Contract** – тип контракта клиента (Month-to-month, One year, Two year) - (0, 1, 2)"
   ]
  },
  {
   "cell_type": "code",
   "execution_count": 66,
   "metadata": {
    "colab": {
     "base_uri": "https://localhost:8080/",
     "height": 242
    },
    "colab_type": "code",
    "id": "dpDgGUJTmkuW",
    "outputId": "be6bac84-9958-46fd-e10c-c03c7ee9edec"
   },
   "outputs": [
    {
     "data": {
      "text/plain": [
       "<matplotlib.axes._subplots.AxesSubplot at 0x1e6d6296a90>"
      ]
     },
     "execution_count": 66,
     "metadata": {},
     "output_type": "execute_result"
    },
    {
     "data": {
      "image/png": "[encoded data removed]",
      "text/plain": [
       "<Figure size 504x216 with 1 Axes>"
      ]
     },
     "metadata": {},
     "output_type": "display_data"
    }
   ],
   "source": [
    "# Посморим количество по классам\n",
    "f, ax = plt.subplots(figsize=(7, 3))\n",
    "sns.countplot(y='Contract', data=df, color='c')"
   ]
  },
  {
   "cell_type": "code",
   "execution_count": 67,
   "metadata": {
    "colab": {
     "base_uri": "https://localhost:8080/",
     "height": 294
    },
    "colab_type": "code",
    "id": "-Gg6QVERmkuY",
    "outputId": "192f52b9-1dbb-4619-933d-bcb0422bc109"
   },
   "outputs": [
    {
     "data": {
      "text/plain": [
       "<seaborn.axisgrid.FacetGrid at 0x1e6d6287fd0>"
      ]
     },
     "execution_count": 67,
     "metadata": {},
     "output_type": "execute_result"
    },
    {
     "data": {
      "image/png": "[encoded data removed]",
      "text/plain": [
       "<Figure size 576x180 with 3 Axes>"
      ]
     },
     "metadata": {},
     "output_type": "display_data"
    }
   ],
   "source": [
    "# Посмотрим по каким категориям больше ушло\n",
    "sns.factorplot('Churn', col='Contract', col_wrap=4, data=df[df.Churn == 0 ], kind='count', size=2.5, aspect=.8)"
   ]
  },
  {
   "cell_type": "code",
   "execution_count": 68,
   "metadata": {
    "colab": {
     "base_uri": "https://localhost:8080/",
     "height": 34
    },
    "colab_type": "code",
    "id": "tFXNvDGJmkud",
    "outputId": "150f35e7-0ca0-4117-c3db-c9e3993f151c"
   },
   "outputs": [
    {
     "name": "stdout",
     "output_type": "stream",
     "text": [
      "57 %\n"
     ]
    }
   ],
   "source": [
    "# Посмотрим процентное соотношение ушедших\n",
    "# узнаем процент ушедших у кого тип контракта клиента (Month-to-month)\n",
    "total_0 = df[df['Contract'] == 0].loc[:, 'Contract'].count()\n",
    "gone_0 = df[(df['Contract'] == 0) & (df['Churn']==0)].loc[:, 'Contract'].count() # количество ушедших\n",
    "procent_0 = round((int(gone_0) / int(total_0)) * 100)\n",
    "print(f'{procent_0} %')"
   ]
  },
  {
   "cell_type": "code",
   "execution_count": 69,
   "metadata": {
    "colab": {
     "base_uri": "https://localhost:8080/",
     "height": 34
    },
    "colab_type": "code",
    "id": "LQa7JM5Fmkuf",
    "outputId": "379e0617-d0a3-4ed2-b23a-d8f3050f3315"
   },
   "outputs": [
    {
     "name": "stdout",
     "output_type": "stream",
     "text": [
      "88 %\n"
     ]
    }
   ],
   "source": [
    "# узнаем процент ушедших у кого тип контракта клиента (One year)\n",
    "total_1 = df[df['Contract'] == 1].loc[:, 'Contract'].count()\n",
    "gone_1 = df[(df['Contract'] == 1) & (df['Churn']==0)].loc[:, 'Contract'].count() # количество ушедших\n",
    "procent_1 = round((int(gone_1) / int(total_1)) * 100)\n",
    "print(f'{procent_1} %')"
   ]
  },
  {
   "cell_type": "code",
   "execution_count": 70,
   "metadata": {
    "colab": {
     "base_uri": "https://localhost:8080/",
     "height": 34
    },
    "colab_type": "code",
    "id": "L4XuxieitfWh",
    "outputId": "88fcc48c-2264-4c1a-d78d-3205d69d3515"
   },
   "outputs": [
    {
     "name": "stdout",
     "output_type": "stream",
     "text": [
      "97 %\n"
     ]
    }
   ],
   "source": [
    "# узнаем процент ушедших у кого тип контракта клиента (Two year)\n",
    "total_2 = df[df['Contract'] == 2].loc[:, 'Contract'].count()\n",
    "gone_2 = df[(df['Contract'] == 2) & (df['Churn']==0)].loc[:, 'Contract'].count() # количество ушедших\n",
    "procent_2 = round((int(gone_2) / int(total_2)) * 100)\n",
    "print(f'{procent_2} %')"
   ]
  },
  {
   "cell_type": "markdown",
   "metadata": {
    "colab_type": "text",
    "id": "spoA9GT6tfwH"
   },
   "source": [
    "По проценту ушедших видно что чаще уходят те у кого тип контракта на One year, Two year"
   ]
  },
  {
   "cell_type": "markdown",
   "metadata": {
    "colab_type": "text",
    "id": "xDNOd6Grmkui"
   },
   "source": [
    "Проанализируем колонку **PaperlessBilling** – пользуется ли клиент безбумажным биллингом (Yes, No) - (1, 0)"
   ]
  },
  {
   "cell_type": "code",
   "execution_count": 71,
   "metadata": {
    "colab": {
     "base_uri": "https://localhost:8080/",
     "height": 242
    },
    "colab_type": "code",
    "id": "yafIEbqnmkui",
    "outputId": "94a6ca68-bb1c-43fc-ea9c-6e2d04b9aa1d"
   },
   "outputs": [
    {
     "data": {
      "text/plain": [
       "<matplotlib.axes._subplots.AxesSubplot at 0x1e6d63e6eb8>"
      ]
     },
     "execution_count": 71,
     "metadata": {},
     "output_type": "execute_result"
    },
    {
     "data": {
      "image/png": "[encoded data removed]",
      "text/plain": [
       "<Figure size 504x216 with 1 Axes>"
      ]
     },
     "metadata": {},
     "output_type": "display_data"
    }
   ],
   "source": [
    "# Посморим количество по классам\n",
    "f, ax = plt.subplots(figsize=(7, 3))\n",
    "sns.countplot(y='PaperlessBilling', data=df, color='c')"
   ]
  },
  {
   "cell_type": "code",
   "execution_count": 72,
   "metadata": {
    "colab": {
     "base_uri": "https://localhost:8080/",
     "height": 294
    },
    "colab_type": "code",
    "id": "xku9JE4ymkuk",
    "outputId": "311e93ee-5bc6-43fb-92a5-d37e719a49a7"
   },
   "outputs": [
    {
     "data": {
      "text/plain": [
       "<seaborn.axisgrid.FacetGrid at 0x1e6d64207b8>"
      ]
     },
     "execution_count": 72,
     "metadata": {},
     "output_type": "execute_result"
    },
    {
     "data": {
      "image/png": "[encoded data removed]",
      "text/plain": [
       "<Figure size 576x180 with 2 Axes>"
      ]
     },
     "metadata": {},
     "output_type": "display_data"
    }
   ],
   "source": [
    "# Посмотрим по каким категориям больше ушло\n",
    "sns.factorplot('Churn', col='PaperlessBilling', col_wrap=4, data=df[df.Churn == 0 ], kind='count', size=2.5, aspect=.8)"
   ]
  },
  {
   "cell_type": "code",
   "execution_count": 73,
   "metadata": {
    "colab": {
     "base_uri": "https://localhost:8080/",
     "height": 34
    },
    "colab_type": "code",
    "id": "L9lJpsQDmkum",
    "outputId": "a3960313-6bae-415a-bc4a-9937f4f685f9"
   },
   "outputs": [
    {
     "name": "stdout",
     "output_type": "stream",
     "text": [
      "83 %\n"
     ]
    }
   ],
   "source": [
    "# Посмотрим процентное соотношение ушедших\n",
    "# узнаем процент ушедших пользуется ли клиент безбумажным биллингом - No\n",
    "total_0 = df[df['PaperlessBilling'] == 0].loc[:, 'PaperlessBilling'].count()\n",
    "gone_0 = df[(df['PaperlessBilling'] == 0) & (df['Churn']==0)].loc[:, 'PaperlessBilling'].count() # количество ушедших\n",
    "procent_0 = round((int(gone_0) / int(total_0)) * 100)\n",
    "print(f'{procent_0} %')"
   ]
  },
  {
   "cell_type": "code",
   "execution_count": 74,
   "metadata": {
    "colab": {
     "base_uri": "https://localhost:8080/",
     "height": 34
    },
    "colab_type": "code",
    "id": "fs5gVCb2mkun",
    "outputId": "49ea46ce-ba6f-4d24-a2b5-dd54eff84cf4"
   },
   "outputs": [
    {
     "name": "stdout",
     "output_type": "stream",
     "text": [
      "67 %\n"
     ]
    }
   ],
   "source": [
    "# узнаем процент ушедших пользуется ли клиент безбумажным биллингом Yes\n",
    "total_1 = df[df['PaperlessBilling'] == 1].loc[:, 'PaperlessBilling'].count()\n",
    "gone_1 = df[(df['PaperlessBilling'] == 1) & (df['Churn']==0)].loc[:, 'PaperlessBilling'].count() # количество ушедших\n",
    "procent_1 = round((int(gone_1) / int(total_1)) * 100)\n",
    "print(f'{procent_1} %')"
   ]
  },
  {
   "cell_type": "markdown",
   "metadata": {
    "colab_type": "text",
    "id": "AqeMLgaFw24w"
   },
   "source": [
    "По данным пользуется ли клиент безбумажным билингом или нет видно что большую часть ушедших заняли те кто не пользуется"
   ]
  },
  {
   "cell_type": "markdown",
   "metadata": {
    "colab_type": "text",
    "id": "WDLMf8a2mkuo"
   },
   "source": [
    "Проанализируем колонку **PaymentMethod** – метод оплаты (Electronic check, Mailed check, Bank transfer (automatic), Credit card (automatic)) - (0, 1, 2, 3)"
   ]
  },
  {
   "cell_type": "code",
   "execution_count": 75,
   "metadata": {
    "colab": {
     "base_uri": "https://localhost:8080/",
     "height": 242
    },
    "colab_type": "code",
    "id": "NwWozXQymkuo",
    "outputId": "88d34740-245c-42ba-e4a2-47155c21887e"
   },
   "outputs": [
    {
     "data": {
      "text/plain": [
       "<matplotlib.axes._subplots.AxesSubplot at 0x1e6d64ae0f0>"
      ]
     },
     "execution_count": 75,
     "metadata": {},
     "output_type": "execute_result"
    },
    {
     "data": {
      "image/png": "[encoded data removed]",
      "text/plain": [
       "<Figure size 504x216 with 1 Axes>"
      ]
     },
     "metadata": {},
     "output_type": "display_data"
    }
   ],
   "source": [
    "# Посморим количество по классам\n",
    "f, ax = plt.subplots(figsize=(7, 3))\n",
    "sns.countplot(y='PaymentMethod', data=df, color='c')"
   ]
  },
  {
   "cell_type": "code",
   "execution_count": 76,
   "metadata": {
    "colab": {
     "base_uri": "https://localhost:8080/",
     "height": 294
    },
    "colab_type": "code",
    "id": "NSdQuYbYmkuq",
    "outputId": "227e2a7c-c4e1-420e-8d2e-9a60edfa6bc9"
   },
   "outputs": [
    {
     "data": {
      "text/plain": [
       "<seaborn.axisgrid.FacetGrid at 0x1e6d62f8be0>"
      ]
     },
     "execution_count": 76,
     "metadata": {},
     "output_type": "execute_result"
    },
    {
     "data": {
      "image/png": "[encoded data removed]",
      "text/plain": [
       "<Figure size 576x180 with 4 Axes>"
      ]
     },
     "metadata": {},
     "output_type": "display_data"
    }
   ],
   "source": [
    "# Посмотрим по каким категориям больше ушло\n",
    "sns.factorplot('Churn', col='PaymentMethod', col_wrap=4, data=df[df.Churn == 0 ], kind='count', size=2.5, aspect=.8)"
   ]
  },
  {
   "cell_type": "code",
   "execution_count": 77,
   "metadata": {
    "colab": {
     "base_uri": "https://localhost:8080/",
     "height": 34
    },
    "colab_type": "code",
    "id": "O3SKH6RQmkur",
    "outputId": "2fd75cdc-242c-465f-858e-e2a606d8c925"
   },
   "outputs": [
    {
     "name": "stdout",
     "output_type": "stream",
     "text": [
      "55 %\n"
     ]
    }
   ],
   "source": [
    "# Посмотрим процентное соотношение ушедших\n",
    "# узнаем процент по методу оплаты\n",
    "total_0 = df[df['PaymentMethod'] == 0].loc[:, 'PaymentMethod'].count()\n",
    "gone_0 = df[(df['PaymentMethod'] == 0) & (df['Churn']==0)].loc[:, 'PaymentMethod'].count() # количество ушедших\n",
    "procent_0 = round((int(gone_0) / int(total_0)) * 100)\n",
    "print(f'{procent_0} %')"
   ]
  },
  {
   "cell_type": "code",
   "execution_count": 78,
   "metadata": {
    "colab": {
     "base_uri": "https://localhost:8080/",
     "height": 34
    },
    "colab_type": "code",
    "id": "vOmS8Eeimkus",
    "outputId": "397aa01a-1cc3-4d68-ad31-0292060c75a1"
   },
   "outputs": [
    {
     "name": "stdout",
     "output_type": "stream",
     "text": [
      "81 %\n"
     ]
    }
   ],
   "source": [
    "# узнаем процент по методу оплаты\n",
    "total_1 = df[df['PaymentMethod'] == 1].loc[:, 'PaymentMethod'].count()\n",
    "gone_1 = df[(df['PaymentMethod'] == 1) & (df['Churn']==0)].loc[:, 'PaymentMethod'].count() # количество ушедших\n",
    "procent_1 = round((int(gone_1) / int(total_1)) * 100)\n",
    "print(f'{procent_1} %')"
   ]
  },
  {
   "cell_type": "code",
   "execution_count": 79,
   "metadata": {
    "colab": {
     "base_uri": "https://localhost:8080/",
     "height": 34
    },
    "colab_type": "code",
    "id": "Ku937yJa3PYB",
    "outputId": "0401c207-fa6c-4e7f-851d-4dcc5204c909"
   },
   "outputs": [
    {
     "name": "stdout",
     "output_type": "stream",
     "text": [
      "83 %\n"
     ]
    }
   ],
   "source": [
    "# узнаем процент по методу оплаты\n",
    "total_2 = df[df['PaymentMethod'] == 2].loc[:, 'PaymentMethod'].count()\n",
    "gone_2 = df[(df['PaymentMethod'] == 2) & (df['Churn']==0)].loc[:, 'PaymentMethod'].count() # количество ушедших\n",
    "procent_2 = round((int(gone_2) / int(total_2)) * 100)\n",
    "print(f'{procent_2} %')"
   ]
  },
  {
   "cell_type": "code",
   "execution_count": 80,
   "metadata": {
    "colab": {
     "base_uri": "https://localhost:8080/",
     "height": 34
    },
    "colab_type": "code",
    "id": "gd1OwePB3PYE",
    "outputId": "c76bc8d5-9009-4e19-92d0-daa547ea78f8"
   },
   "outputs": [
    {
     "name": "stdout",
     "output_type": "stream",
     "text": [
      "85 %\n"
     ]
    }
   ],
   "source": [
    "# узнаем процент по методу оплаты\n",
    "total_3 = df[df['PaymentMethod'] == 3].loc[:, 'PaymentMethod'].count()\n",
    "gone_3 = df[(df['PaymentMethod'] == 3) & (df['Churn']==0)].loc[:, 'PaymentMethod'].count() # количество ушедших\n",
    "procent_3 = round((int(gone_3) / int(total_3)) * 100)\n",
    "print(f'{procent_3} %')"
   ]
  },
  {
   "cell_type": "markdown",
   "metadata": {
    "colab_type": "text",
    "id": "1RAOEXNN3PYF"
   },
   "source": [
    "Как видно из данных больше всего ушло пользующихся методами отплаты Mailed check, Bank transfer (automatic), Credit card (automatic)"
   ]
  },
  {
   "cell_type": "markdown",
   "metadata": {
    "colab_type": "text",
    "id": "YnZrI40dVYSZ"
   },
   "source": [
    "# 3. Построение моделей для прогнозирования оттока"
   ]
  },
  {
   "cell_type": "markdown",
   "metadata": {
    "colab_type": "text",
    "id": "Kb8gCEZBQSHh"
   },
   "source": [
    "Выберем признаки на которых будем обучать модели"
   ]
  },
  {
   "cell_type": "code",
   "execution_count": 82,
   "metadata": {
    "colab": {
     "base_uri": "https://localhost:8080/",
     "height": 204
    },
    "colab_type": "code",
    "id": "6vaOHylxQSHh",
    "outputId": "d24bed82-6286-4171-ce29-bdd36ddcc9ef"
   },
   "outputs": [
    {
     "data": {
      "text/html": [
       "<div>\n",
       "<style scoped>\n",
       "    .dataframe tbody tr th:only-of-type {\n",
       "        vertical-align: middle;\n",
       "    }\n",
       "\n",
       "    .dataframe tbody tr th {\n",
       "        vertical-align: top;\n",
       "    }\n",
       "\n",
       "    .dataframe thead th {\n",
       "        text-align: right;\n",
       "    }\n",
       "</style>\n",
       "<table border=\"1\" class=\"dataframe\">\n",
       "  <thead>\n",
       "    <tr style=\"text-align: right;\">\n",
       "      <th></th>\n",
       "      <th>SeniorCitizen</th>\n",
       "      <th>Partner</th>\n",
       "      <th>Dependents</th>\n",
       "      <th>tenure</th>\n",
       "      <th>InternetService</th>\n",
       "      <th>StreamingMovies</th>\n",
       "      <th>Contract</th>\n",
       "      <th>PaperlessBilling</th>\n",
       "      <th>PaymentMethod</th>\n",
       "      <th>MonthlyCharges</th>\n",
       "      <th>TotalCharges</th>\n",
       "    </tr>\n",
       "  </thead>\n",
       "  <tbody>\n",
       "    <tr>\n",
       "      <th>0</th>\n",
       "      <td>0</td>\n",
       "      <td>1</td>\n",
       "      <td>1</td>\n",
       "      <td>72</td>\n",
       "      <td>0</td>\n",
       "      <td>2</td>\n",
       "      <td>2</td>\n",
       "      <td>0</td>\n",
       "      <td>3</td>\n",
       "      <td>24.10</td>\n",
       "      <td>1734.65</td>\n",
       "    </tr>\n",
       "    <tr>\n",
       "      <th>1</th>\n",
       "      <td>0</td>\n",
       "      <td>0</td>\n",
       "      <td>0</td>\n",
       "      <td>44</td>\n",
       "      <td>2</td>\n",
       "      <td>0</td>\n",
       "      <td>0</td>\n",
       "      <td>1</td>\n",
       "      <td>3</td>\n",
       "      <td>88.15</td>\n",
       "      <td>3973.20</td>\n",
       "    </tr>\n",
       "    <tr>\n",
       "      <th>2</th>\n",
       "      <td>1</td>\n",
       "      <td>1</td>\n",
       "      <td>0</td>\n",
       "      <td>38</td>\n",
       "      <td>2</td>\n",
       "      <td>0</td>\n",
       "      <td>0</td>\n",
       "      <td>1</td>\n",
       "      <td>2</td>\n",
       "      <td>74.95</td>\n",
       "      <td>2869.85</td>\n",
       "    </tr>\n",
       "    <tr>\n",
       "      <th>3</th>\n",
       "      <td>0</td>\n",
       "      <td>0</td>\n",
       "      <td>0</td>\n",
       "      <td>4</td>\n",
       "      <td>1</td>\n",
       "      <td>1</td>\n",
       "      <td>0</td>\n",
       "      <td>1</td>\n",
       "      <td>0</td>\n",
       "      <td>55.90</td>\n",
       "      <td>238.50</td>\n",
       "    </tr>\n",
       "    <tr>\n",
       "      <th>4</th>\n",
       "      <td>0</td>\n",
       "      <td>0</td>\n",
       "      <td>0</td>\n",
       "      <td>2</td>\n",
       "      <td>1</td>\n",
       "      <td>0</td>\n",
       "      <td>0</td>\n",
       "      <td>0</td>\n",
       "      <td>0</td>\n",
       "      <td>53.45</td>\n",
       "      <td>119.50</td>\n",
       "    </tr>\n",
       "  </tbody>\n",
       "</table>\n",
       "</div>"
      ],
      "text/plain": [
       "   SeniorCitizen  Partner  Dependents  tenure  InternetService  \\\n",
       "0              0        1           1      72                0   \n",
       "1              0        0           0      44                2   \n",
       "2              1        1           0      38                2   \n",
       "3              0        0           0       4                1   \n",
       "4              0        0           0       2                1   \n",
       "\n",
       "   StreamingMovies  Contract  PaperlessBilling  PaymentMethod  MonthlyCharges  \\\n",
       "0                2         2                 0              3           24.10   \n",
       "1                0         0                 1              3           88.15   \n",
       "2                0         0                 1              2           74.95   \n",
       "3                1         0                 1              0           55.90   \n",
       "4                0         0                 0              0           53.45   \n",
       "\n",
       "   TotalCharges  \n",
       "0       1734.65  \n",
       "1       3973.20  \n",
       "2       2869.85  \n",
       "3        238.50  \n",
       "4        119.50  "
      ]
     },
     "execution_count": 82,
     "metadata": {},
     "output_type": "execute_result"
    }
   ],
   "source": [
    "targets = df.Churn\n",
    "drop_elements = ['gender', 'PhoneService', 'MultipleLines',  'Churn'] # убрал признаки в которых был одинаковый отток\n",
    "data = df.drop(drop_elements, axis=1)\n",
    "data.head()"
   ]
  },
  {
   "cell_type": "code",
   "execution_count": 83,
   "metadata": {
    "colab": {
     "base_uri": "https://localhost:8080/",
     "height": 85
    },
    "colab_type": "code",
    "id": "AP_3xHOPQSHj",
    "outputId": "e85271d5-fd97-48df-e6c5-0c2bb94f051e"
   },
   "outputs": [
    {
     "data": {
      "text/plain": [
       "Index(['SeniorCitizen', 'Partner', 'Dependents', 'tenure', 'InternetService',\n",
       "       'StreamingMovies', 'Contract', 'PaperlessBilling', 'PaymentMethod',\n",
       "       'MonthlyCharges', 'TotalCharges'],\n",
       "      dtype='object')"
      ]
     },
     "execution_count": 83,
     "metadata": {},
     "output_type": "execute_result"
    }
   ],
   "source": [
    "data.columns"
   ]
  },
  {
   "cell_type": "markdown",
   "metadata": {
    "colab_type": "text",
    "id": "xIyJHHFJQSHl"
   },
   "source": [
    "Приведу все колонки к одному типу"
   ]
  },
  {
   "cell_type": "code",
   "execution_count": 84,
   "metadata": {
    "colab": {},
    "colab_type": "code",
    "id": "TwkIqECZQSHm"
   },
   "outputs": [],
   "source": [
    "data = data.astype('float')"
   ]
  },
  {
   "cell_type": "code",
   "execution_count": 85,
   "metadata": {
    "colab": {
     "base_uri": "https://localhost:8080/",
     "height": 323
    },
    "colab_type": "code",
    "id": "B5YQkDAZQSHo",
    "outputId": "05934b65-fa7d-4816-c3b5-d4fb89f2f5ce"
   },
   "outputs": [
    {
     "name": "stdout",
     "output_type": "stream",
     "text": [
      "<class 'pandas.core.frame.DataFrame'>\n",
      "RangeIndex: 5986 entries, 0 to 5985\n",
      "Data columns (total 11 columns):\n",
      "SeniorCitizen       5986 non-null float64\n",
      "Partner             5986 non-null float64\n",
      "Dependents          5986 non-null float64\n",
      "tenure              5986 non-null float64\n",
      "InternetService     5986 non-null float64\n",
      "StreamingMovies     5986 non-null float64\n",
      "Contract            5986 non-null float64\n",
      "PaperlessBilling    5986 non-null float64\n",
      "PaymentMethod       5986 non-null float64\n",
      "MonthlyCharges      5986 non-null float64\n",
      "TotalCharges        5986 non-null float64\n",
      "dtypes: float64(11)\n",
      "memory usage: 514.5 KB\n"
     ]
    }
   ],
   "source": [
    "data.info()"
   ]
  },
  {
   "cell_type": "code",
   "execution_count": 86,
   "metadata": {
    "colab": {
     "base_uri": "https://localhost:8080/",
     "height": 71
    },
    "colab_type": "code",
    "id": "WBJYYWbqC_pz",
    "outputId": "86eb592f-f945-44ec-c239-31ae2c69b19e"
   },
   "outputs": [],
   "source": [
    "from sklearn.model_selection import (GridSearchCV,\n",
    "                                     train_test_split,\n",
    "                                     StratifiedKFold,\n",
    "                                     cross_val_predict)\n",
    "from sklearn.metrics import (accuracy_score,\n",
    "                             roc_auc_score)\n",
    "\n",
    "from sklearn.neighbors import KNeighborsClassifier\n",
    "from sklearn.naive_bayes import GaussianNB\n",
    "from sklearn.tree import DecisionTreeClassifier\n",
    "from sklearn.ensemble import GradientBoostingClassifier, RandomForestClassifier\n",
    "from sklearn.svm import SVC\n",
    "from sklearn.linear_model import LogisticRegression\n",
    "\n",
    "from xgboost import XGBClassifier\n",
    "\n",
    "# параметры базовых алгоритмов\n",
    "knn_params = {'n_neighbors': np.arange(1, 10, 1)}                                # KNeighborsClassifier()\n",
    "\n",
    "nb_params = {'var_smoothing': np.arange(1e-05, 1e-1, 1e-01)}                     # GaussianNB\n",
    "\n",
    "dtc_params = {'max_depth': range(1, 6), 'max_features': range(1, 10)}            # DecisionTreeClassifier()\n",
    "\n",
    "gbc_params = {'learning_rate': np.arange(0.1, 0.6, 0.1)}                         # GradientBoostingClassifier\n",
    "\n",
    "rfc_params = {'n_estimators': range(10, 100, 10),                                # RandomForestClassifier\n",
    "              'min_samples_leaf': range(1, 5)}\n",
    "\n",
    "lr_params = {'C': np.arange(0.5, 1, 0.1),                                        # LogisticRegression\n",
    "            'solver':['newton-cg', 'lbfgs', 'liblinear', 'sag', 'saga']}\n",
    "\n",
    "skf = StratifiedKFold(n_splits=5, random_state=17) "
   ]
  },
  {
   "cell_type": "code",
   "execution_count": 87,
   "metadata": {
    "colab": {},
    "colab_type": "code",
    "id": "EMSN55AGQSHr"
   },
   "outputs": [],
   "source": [
    "# test_size показывает, какой объем данных нужно выделить для тестового набора\n",
    "# random_state — просто сид для случайной генерации\n",
    "x_train, x_test, y_train, y_test = train_test_split(data.values, \n",
    "                                                    targets.values,\n",
    "                                                    test_size=0.3,\n",
    "                                                    random_state=17)"
   ]
  },
  {
   "cell_type": "markdown",
   "metadata": {
    "colab_type": "text",
    "id": "GkRUVj-l7PFy"
   },
   "source": [
    "В уроках по классификации мы разбирали модели KNeighborsClassifier (K ближайших соседей), GaussianNB (Наивный байесовский классификатор), DecisionTreeClassifier (Деревья решений), они хорошо подходят под предсказание Да (1) или Нет (0) такие бинарные классификаторы. Выше перечисленные методы эфективны, спора нет, но учитывая сколько у нас признаков я буду так же использовать алгоритм стекинга. В качестве базовых алгоритмов использую RandomForestClassifier, SVC, GradientBoostingClassifier и LinearRegression; в качестве мета-алгоритма - XGBoost."
   ]
  },
  {
   "cell_type": "markdown",
   "metadata": {
    "colab_type": "text",
    "id": "CatwGdkRBT7k"
   },
   "source": [
    "**Модели KNeighborsClassifier (K ближайших соседей), GaussianNB (Наивный байесовский классификатор), DecisionTreeClassifier (Деревья решений)**"
   ]
  },
  {
   "cell_type": "code",
   "execution_count": 88,
   "metadata": {
    "colab": {},
    "colab_type": "code",
    "id": "wwrrkx8pVYSa"
   },
   "outputs": [],
   "source": [
    "knn = KNeighborsClassifier()\n",
    "nb = GaussianNB()\n",
    "dtc = DecisionTreeClassifier(random_state=17)\n",
    "\n",
    "rfc = RandomForestClassifier(random_state=17)\n",
    "gbc = GradientBoostingClassifier(random_state=17)\n",
    "lr  = LogisticRegression(random_state=17)\n",
    "\n",
    "meta = XGBClassifier()"
   ]
  },
  {
   "cell_type": "markdown",
   "metadata": {
    "colab_type": "text",
    "id": "nRFLvwzXQSHu"
   },
   "source": [
    "С помощью GridSearchCV выведу лучшие сочетание параметров для каждого алгоритма"
   ]
  },
  {
   "cell_type": "code",
   "execution_count": 89,
   "metadata": {
    "colab": {},
    "colab_type": "code",
    "id": "C3VgbQ6hQSHv"
   },
   "outputs": [],
   "source": [
    "knn_model = GridSearchCV(knn, knn_params, cv=skf)\n",
    "nb_model = GridSearchCV(nb, nb_params, cv=skf)\n",
    "dtc_model = GridSearchCV(dtc, dtc_params, cv=skf)"
   ]
  },
  {
   "cell_type": "code",
   "execution_count": 90,
   "metadata": {
    "colab": {},
    "colab_type": "code",
    "id": "x5VdpVA3QSHx"
   },
   "outputs": [],
   "source": [
    "rfc_model = GridSearchCV(rfc, rfc_params, cv=skf)\n",
    "gbc_model = GridSearchCV(gbc, gbc_params, cv=skf)\n",
    "lr_model = GridSearchCV(lr, lr_params, cv=skf)"
   ]
  },
  {
   "cell_type": "code",
   "execution_count": 91,
   "metadata": {
    "colab": {
     "base_uri": "https://localhost:8080/",
     "height": 68
    },
    "colab_type": "code",
    "id": "Ip6SImuJC_uN",
    "outputId": "d69daaf7-ab53-4845-acb8-abff9069b4f8"
   },
   "outputs": [
    {
     "name": "stdout",
     "output_type": "stream",
     "text": [
      "Лучшее сочетание параметров для алгоритма KNeighborsClassifier = {'n_neighbors': 8}\n",
      "Лучшее сочетание параметров для алгоритма GaussianNB = {'var_smoothing': 1e-05}\n",
      "Лучшее сочетание параметров для алгоритма DecisionTreeClassifier = {'max_depth': 4, 'max_features': 9}\n"
     ]
    }
   ],
   "source": [
    "# Обучаю алгоритмы\n",
    "knn_model.fit(x_train, y_train)\n",
    "nb_model.fit(x_train, y_train)\n",
    "dtc_model.fit(x_train, y_train)\n",
    "\n",
    "# Выведу лучшее сочетание параметров для каждого из алгоритмов\n",
    "print(f'Лучшее сочетание параметров для алгоритма KNeighborsClassifier = {knn_model.best_params_}')\n",
    "print(f'Лучшее сочетание параметров для алгоритма GaussianNB = {nb_model.best_params_}')\n",
    "print(f'Лучшее сочетание параметров для алгоритма DecisionTreeClassifier = {dtc_model.best_params_}')"
   ]
  },
  {
   "cell_type": "code",
   "execution_count": 92,
   "metadata": {
    "colab": {
     "base_uri": "https://localhost:8080/",
     "height": 1000
    },
    "colab_type": "code",
    "id": "H_e4IydmQSH0",
    "outputId": "21738c10-1fbc-46e8-a18d-663319f6df6b"
   },
   "outputs": [
    {
     "name": "stderr",
     "output_type": "stream",
     "text": [
      "C:\\Anaconda\\lib\\site-packages\\sklearn\\linear_model\\logistic.py:947: ConvergenceWarning: lbfgs failed to converge. Increase the number of iterations.\n",
      "  \"of iterations.\", ConvergenceWarning)\n",
      "C:\\Anaconda\\lib\\site-packages\\sklearn\\linear_model\\logistic.py:947: ConvergenceWarning: lbfgs failed to converge. Increase the number of iterations.\n",
      "  \"of iterations.\", ConvergenceWarning)\n",
      "C:\\Anaconda\\lib\\site-packages\\sklearn\\linear_model\\logistic.py:947: ConvergenceWarning: lbfgs failed to converge. Increase the number of iterations.\n",
      "  \"of iterations.\", ConvergenceWarning)\n",
      "C:\\Anaconda\\lib\\site-packages\\sklearn\\linear_model\\logistic.py:947: ConvergenceWarning: lbfgs failed to converge. Increase the number of iterations.\n",
      "  \"of iterations.\", ConvergenceWarning)\n",
      "C:\\Anaconda\\lib\\site-packages\\sklearn\\linear_model\\logistic.py:947: ConvergenceWarning: lbfgs failed to converge. Increase the number of iterations.\n",
      "  \"of iterations.\", ConvergenceWarning)\n",
      "C:\\Anaconda\\lib\\site-packages\\sklearn\\linear_model\\sag.py:337: ConvergenceWarning: The max_iter was reached which means the coef_ did not converge\n",
      "  \"the coef_ did not converge\", ConvergenceWarning)\n",
      "C:\\Anaconda\\lib\\site-packages\\sklearn\\linear_model\\sag.py:337: ConvergenceWarning: The max_iter was reached which means the coef_ did not converge\n",
      "  \"the coef_ did not converge\", ConvergenceWarning)\n",
      "C:\\Anaconda\\lib\\site-packages\\sklearn\\linear_model\\sag.py:337: ConvergenceWarning: The max_iter was reached which means the coef_ did not converge\n",
      "  \"the coef_ did not converge\", ConvergenceWarning)\n",
      "C:\\Anaconda\\lib\\site-packages\\sklearn\\linear_model\\sag.py:337: ConvergenceWarning: The max_iter was reached which means the coef_ did not converge\n",
      "  \"the coef_ did not converge\", ConvergenceWarning)\n",
      "C:\\Anaconda\\lib\\site-packages\\sklearn\\linear_model\\sag.py:337: ConvergenceWarning: The max_iter was reached which means the coef_ did not converge\n",
      "  \"the coef_ did not converge\", ConvergenceWarning)\n",
      "C:\\Anaconda\\lib\\site-packages\\sklearn\\linear_model\\sag.py:337: ConvergenceWarning: The max_iter was reached which means the coef_ did not converge\n",
      "  \"the coef_ did not converge\", ConvergenceWarning)\n",
      "C:\\Anaconda\\lib\\site-packages\\sklearn\\linear_model\\sag.py:337: ConvergenceWarning: The max_iter was reached which means the coef_ did not converge\n",
      "  \"the coef_ did not converge\", ConvergenceWarning)\n",
      "C:\\Anaconda\\lib\\site-packages\\sklearn\\linear_model\\sag.py:337: ConvergenceWarning: The max_iter was reached which means the coef_ did not converge\n",
      "  \"the coef_ did not converge\", ConvergenceWarning)\n",
      "C:\\Anaconda\\lib\\site-packages\\sklearn\\linear_model\\sag.py:337: ConvergenceWarning: The max_iter was reached which means the coef_ did not converge\n",
      "  \"the coef_ did not converge\", ConvergenceWarning)\n",
      "C:\\Anaconda\\lib\\site-packages\\sklearn\\linear_model\\sag.py:337: ConvergenceWarning: The max_iter was reached which means the coef_ did not converge\n",
      "  \"the coef_ did not converge\", ConvergenceWarning)\n",
      "C:\\Anaconda\\lib\\site-packages\\sklearn\\linear_model\\logistic.py:947: ConvergenceWarning: lbfgs failed to converge. Increase the number of iterations.\n",
      "  \"of iterations.\", ConvergenceWarning)\n",
      "C:\\Anaconda\\lib\\site-packages\\sklearn\\linear_model\\logistic.py:947: ConvergenceWarning: lbfgs failed to converge. Increase the number of iterations.\n",
      "  \"of iterations.\", ConvergenceWarning)\n",
      "C:\\Anaconda\\lib\\site-packages\\sklearn\\linear_model\\logistic.py:947: ConvergenceWarning: lbfgs failed to converge. Increase the number of iterations.\n",
      "  \"of iterations.\", ConvergenceWarning)\n",
      "C:\\Anaconda\\lib\\site-packages\\sklearn\\linear_model\\logistic.py:947: ConvergenceWarning: lbfgs failed to converge. Increase the number of iterations.\n",
      "  \"of iterations.\", ConvergenceWarning)\n",
      "C:\\Anaconda\\lib\\site-packages\\sklearn\\linear_model\\sag.py:337: ConvergenceWarning: The max_iter was reached which means the coef_ did not converge\n",
      "  \"the coef_ did not converge\", ConvergenceWarning)\n",
      "C:\\Anaconda\\lib\\site-packages\\sklearn\\linear_model\\sag.py:337: ConvergenceWarning: The max_iter was reached which means the coef_ did not converge\n",
      "  \"the coef_ did not converge\", ConvergenceWarning)\n",
      "C:\\Anaconda\\lib\\site-packages\\sklearn\\linear_model\\sag.py:337: ConvergenceWarning: The max_iter was reached which means the coef_ did not converge\n",
      "  \"the coef_ did not converge\", ConvergenceWarning)\n",
      "C:\\Anaconda\\lib\\site-packages\\sklearn\\linear_model\\sag.py:337: ConvergenceWarning: The max_iter was reached which means the coef_ did not converge\n",
      "  \"the coef_ did not converge\", ConvergenceWarning)\n",
      "C:\\Anaconda\\lib\\site-packages\\sklearn\\linear_model\\sag.py:337: ConvergenceWarning: The max_iter was reached which means the coef_ did not converge\n",
      "  \"the coef_ did not converge\", ConvergenceWarning)\n",
      "C:\\Anaconda\\lib\\site-packages\\sklearn\\linear_model\\sag.py:337: ConvergenceWarning: The max_iter was reached which means the coef_ did not converge\n",
      "  \"the coef_ did not converge\", ConvergenceWarning)\n",
      "C:\\Anaconda\\lib\\site-packages\\sklearn\\linear_model\\sag.py:337: ConvergenceWarning: The max_iter was reached which means the coef_ did not converge\n",
      "  \"the coef_ did not converge\", ConvergenceWarning)\n",
      "C:\\Anaconda\\lib\\site-packages\\sklearn\\linear_model\\sag.py:337: ConvergenceWarning: The max_iter was reached which means the coef_ did not converge\n",
      "  \"the coef_ did not converge\", ConvergenceWarning)\n",
      "C:\\Anaconda\\lib\\site-packages\\sklearn\\linear_model\\sag.py:337: ConvergenceWarning: The max_iter was reached which means the coef_ did not converge\n",
      "  \"the coef_ did not converge\", ConvergenceWarning)\n",
      "C:\\Anaconda\\lib\\site-packages\\sklearn\\linear_model\\sag.py:337: ConvergenceWarning: The max_iter was reached which means the coef_ did not converge\n",
      "  \"the coef_ did not converge\", ConvergenceWarning)\n",
      "C:\\Anaconda\\lib\\site-packages\\sklearn\\linear_model\\logistic.py:947: ConvergenceWarning: lbfgs failed to converge. Increase the number of iterations.\n",
      "  \"of iterations.\", ConvergenceWarning)\n",
      "C:\\Anaconda\\lib\\site-packages\\sklearn\\linear_model\\logistic.py:947: ConvergenceWarning: lbfgs failed to converge. Increase the number of iterations.\n",
      "  \"of iterations.\", ConvergenceWarning)\n",
      "C:\\Anaconda\\lib\\site-packages\\sklearn\\linear_model\\logistic.py:947: ConvergenceWarning: lbfgs failed to converge. Increase the number of iterations.\n",
      "  \"of iterations.\", ConvergenceWarning)\n",
      "C:\\Anaconda\\lib\\site-packages\\sklearn\\linear_model\\logistic.py:947: ConvergenceWarning: lbfgs failed to converge. Increase the number of iterations.\n",
      "  \"of iterations.\", ConvergenceWarning)\n",
      "C:\\Anaconda\\lib\\site-packages\\sklearn\\linear_model\\sag.py:337: ConvergenceWarning: The max_iter was reached which means the coef_ did not converge\n",
      "  \"the coef_ did not converge\", ConvergenceWarning)\n",
      "C:\\Anaconda\\lib\\site-packages\\sklearn\\linear_model\\sag.py:337: ConvergenceWarning: The max_iter was reached which means the coef_ did not converge\n",
      "  \"the coef_ did not converge\", ConvergenceWarning)\n",
      "C:\\Anaconda\\lib\\site-packages\\sklearn\\linear_model\\sag.py:337: ConvergenceWarning: The max_iter was reached which means the coef_ did not converge\n",
      "  \"the coef_ did not converge\", ConvergenceWarning)\n",
      "C:\\Anaconda\\lib\\site-packages\\sklearn\\linear_model\\sag.py:337: ConvergenceWarning: The max_iter was reached which means the coef_ did not converge\n",
      "  \"the coef_ did not converge\", ConvergenceWarning)\n",
      "C:\\Anaconda\\lib\\site-packages\\sklearn\\linear_model\\sag.py:337: ConvergenceWarning: The max_iter was reached which means the coef_ did not converge\n",
      "  \"the coef_ did not converge\", ConvergenceWarning)\n",
      "C:\\Anaconda\\lib\\site-packages\\sklearn\\linear_model\\sag.py:337: ConvergenceWarning: The max_iter was reached which means the coef_ did not converge\n",
      "  \"the coef_ did not converge\", ConvergenceWarning)\n",
      "C:\\Anaconda\\lib\\site-packages\\sklearn\\linear_model\\sag.py:337: ConvergenceWarning: The max_iter was reached which means the coef_ did not converge\n",
      "  \"the coef_ did not converge\", ConvergenceWarning)\n",
      "C:\\Anaconda\\lib\\site-packages\\sklearn\\linear_model\\sag.py:337: ConvergenceWarning: The max_iter was reached which means the coef_ did not converge\n",
      "  \"the coef_ did not converge\", ConvergenceWarning)\n",
      "C:\\Anaconda\\lib\\site-packages\\sklearn\\linear_model\\sag.py:337: ConvergenceWarning: The max_iter was reached which means the coef_ did not converge\n",
      "  \"the coef_ did not converge\", ConvergenceWarning)\n",
      "C:\\Anaconda\\lib\\site-packages\\sklearn\\linear_model\\sag.py:337: ConvergenceWarning: The max_iter was reached which means the coef_ did not converge\n",
      "  \"the coef_ did not converge\", ConvergenceWarning)\n"
     ]
    },
    {
     "name": "stderr",
     "output_type": "stream",
     "text": [
      "C:\\Anaconda\\lib\\site-packages\\scipy\\optimize\\linesearch.py:422: LineSearchWarning: Rounding errors prevent the line search from converging\n",
      "  warn(msg, LineSearchWarning)\n",
      "C:\\Anaconda\\lib\\site-packages\\scipy\\optimize\\linesearch.py:313: LineSearchWarning: The line search algorithm did not converge\n",
      "  warn('The line search algorithm did not converge', LineSearchWarning)\n",
      "C:\\Anaconda\\lib\\site-packages\\sklearn\\utils\\optimize.py:195: UserWarning: Line Search failed\n",
      "  warnings.warn('Line Search failed')\n",
      "C:\\Anaconda\\lib\\site-packages\\sklearn\\linear_model\\logistic.py:947: ConvergenceWarning: lbfgs failed to converge. Increase the number of iterations.\n",
      "  \"of iterations.\", ConvergenceWarning)\n",
      "C:\\Anaconda\\lib\\site-packages\\sklearn\\linear_model\\logistic.py:947: ConvergenceWarning: lbfgs failed to converge. Increase the number of iterations.\n",
      "  \"of iterations.\", ConvergenceWarning)\n",
      "C:\\Anaconda\\lib\\site-packages\\sklearn\\linear_model\\logistic.py:947: ConvergenceWarning: lbfgs failed to converge. Increase the number of iterations.\n",
      "  \"of iterations.\", ConvergenceWarning)\n",
      "C:\\Anaconda\\lib\\site-packages\\sklearn\\linear_model\\logistic.py:947: ConvergenceWarning: lbfgs failed to converge. Increase the number of iterations.\n",
      "  \"of iterations.\", ConvergenceWarning)\n",
      "C:\\Anaconda\\lib\\site-packages\\sklearn\\linear_model\\logistic.py:947: ConvergenceWarning: lbfgs failed to converge. Increase the number of iterations.\n",
      "  \"of iterations.\", ConvergenceWarning)\n",
      "C:\\Anaconda\\lib\\site-packages\\sklearn\\linear_model\\sag.py:337: ConvergenceWarning: The max_iter was reached which means the coef_ did not converge\n",
      "  \"the coef_ did not converge\", ConvergenceWarning)\n",
      "C:\\Anaconda\\lib\\site-packages\\sklearn\\linear_model\\sag.py:337: ConvergenceWarning: The max_iter was reached which means the coef_ did not converge\n",
      "  \"the coef_ did not converge\", ConvergenceWarning)\n",
      "C:\\Anaconda\\lib\\site-packages\\sklearn\\linear_model\\sag.py:337: ConvergenceWarning: The max_iter was reached which means the coef_ did not converge\n",
      "  \"the coef_ did not converge\", ConvergenceWarning)\n",
      "C:\\Anaconda\\lib\\site-packages\\sklearn\\linear_model\\sag.py:337: ConvergenceWarning: The max_iter was reached which means the coef_ did not converge\n",
      "  \"the coef_ did not converge\", ConvergenceWarning)\n",
      "C:\\Anaconda\\lib\\site-packages\\sklearn\\linear_model\\sag.py:337: ConvergenceWarning: The max_iter was reached which means the coef_ did not converge\n",
      "  \"the coef_ did not converge\", ConvergenceWarning)\n",
      "C:\\Anaconda\\lib\\site-packages\\sklearn\\linear_model\\sag.py:337: ConvergenceWarning: The max_iter was reached which means the coef_ did not converge\n",
      "  \"the coef_ did not converge\", ConvergenceWarning)\n",
      "C:\\Anaconda\\lib\\site-packages\\sklearn\\linear_model\\sag.py:337: ConvergenceWarning: The max_iter was reached which means the coef_ did not converge\n",
      "  \"the coef_ did not converge\", ConvergenceWarning)\n",
      "C:\\Anaconda\\lib\\site-packages\\sklearn\\linear_model\\sag.py:337: ConvergenceWarning: The max_iter was reached which means the coef_ did not converge\n",
      "  \"the coef_ did not converge\", ConvergenceWarning)\n",
      "C:\\Anaconda\\lib\\site-packages\\sklearn\\linear_model\\sag.py:337: ConvergenceWarning: The max_iter was reached which means the coef_ did not converge\n",
      "  \"the coef_ did not converge\", ConvergenceWarning)\n",
      "C:\\Anaconda\\lib\\site-packages\\sklearn\\linear_model\\sag.py:337: ConvergenceWarning: The max_iter was reached which means the coef_ did not converge\n",
      "  \"the coef_ did not converge\", ConvergenceWarning)\n",
      "C:\\Anaconda\\lib\\site-packages\\sklearn\\linear_model\\logistic.py:947: ConvergenceWarning: lbfgs failed to converge. Increase the number of iterations.\n",
      "  \"of iterations.\", ConvergenceWarning)\n",
      "C:\\Anaconda\\lib\\site-packages\\sklearn\\linear_model\\logistic.py:947: ConvergenceWarning: lbfgs failed to converge. Increase the number of iterations.\n",
      "  \"of iterations.\", ConvergenceWarning)\n",
      "C:\\Anaconda\\lib\\site-packages\\sklearn\\linear_model\\logistic.py:947: ConvergenceWarning: lbfgs failed to converge. Increase the number of iterations.\n",
      "  \"of iterations.\", ConvergenceWarning)\n",
      "C:\\Anaconda\\lib\\site-packages\\sklearn\\linear_model\\logistic.py:947: ConvergenceWarning: lbfgs failed to converge. Increase the number of iterations.\n",
      "  \"of iterations.\", ConvergenceWarning)\n",
      "C:\\Anaconda\\lib\\site-packages\\sklearn\\linear_model\\logistic.py:947: ConvergenceWarning: lbfgs failed to converge. Increase the number of iterations.\n",
      "  \"of iterations.\", ConvergenceWarning)\n",
      "C:\\Anaconda\\lib\\site-packages\\sklearn\\linear_model\\sag.py:337: ConvergenceWarning: The max_iter was reached which means the coef_ did not converge\n",
      "  \"the coef_ did not converge\", ConvergenceWarning)\n",
      "C:\\Anaconda\\lib\\site-packages\\sklearn\\linear_model\\sag.py:337: ConvergenceWarning: The max_iter was reached which means the coef_ did not converge\n",
      "  \"the coef_ did not converge\", ConvergenceWarning)\n",
      "C:\\Anaconda\\lib\\site-packages\\sklearn\\linear_model\\sag.py:337: ConvergenceWarning: The max_iter was reached which means the coef_ did not converge\n",
      "  \"the coef_ did not converge\", ConvergenceWarning)\n",
      "C:\\Anaconda\\lib\\site-packages\\sklearn\\linear_model\\sag.py:337: ConvergenceWarning: The max_iter was reached which means the coef_ did not converge\n",
      "  \"the coef_ did not converge\", ConvergenceWarning)\n",
      "C:\\Anaconda\\lib\\site-packages\\sklearn\\linear_model\\sag.py:337: ConvergenceWarning: The max_iter was reached which means the coef_ did not converge\n",
      "  \"the coef_ did not converge\", ConvergenceWarning)\n",
      "C:\\Anaconda\\lib\\site-packages\\sklearn\\linear_model\\sag.py:337: ConvergenceWarning: The max_iter was reached which means the coef_ did not converge\n",
      "  \"the coef_ did not converge\", ConvergenceWarning)\n",
      "C:\\Anaconda\\lib\\site-packages\\sklearn\\linear_model\\sag.py:337: ConvergenceWarning: The max_iter was reached which means the coef_ did not converge\n",
      "  \"the coef_ did not converge\", ConvergenceWarning)\n",
      "C:\\Anaconda\\lib\\site-packages\\sklearn\\linear_model\\sag.py:337: ConvergenceWarning: The max_iter was reached which means the coef_ did not converge\n",
      "  \"the coef_ did not converge\", ConvergenceWarning)\n",
      "C:\\Anaconda\\lib\\site-packages\\sklearn\\linear_model\\sag.py:337: ConvergenceWarning: The max_iter was reached which means the coef_ did not converge\n",
      "  \"the coef_ did not converge\", ConvergenceWarning)\n"
     ]
    },
    {
     "name": "stdout",
     "output_type": "stream",
     "text": [
      "Лучшее сочетание параметров для алгоритма RandomForestClassifier = {'min_samples_leaf': 4, 'n_estimators': 60}\n",
      "Лучшее сочетание параметров для алгоритма GradientBoostingClassifier = {'learning_rate': 0.1}\n",
      "Лучшее сочетание параметров для алгоритма LogisticRegression = {'C': 0.7999999999999999, 'solver': 'newton-cg'}\n"
     ]
    },
    {
     "name": "stderr",
     "output_type": "stream",
     "text": [
      "C:\\Anaconda\\lib\\site-packages\\sklearn\\linear_model\\sag.py:337: ConvergenceWarning: The max_iter was reached which means the coef_ did not converge\n",
      "  \"the coef_ did not converge\", ConvergenceWarning)\n"
     ]
    }
   ],
   "source": [
    "# Обучаю алгоритмы\n",
    "rfc_model.fit(x_train, y_train)\n",
    "gbc_model.fit(x_train, y_train)\n",
    "lr_model.fit(x_train, y_train)\n",
    "\n",
    "# Выведу лучшее сочетание параметров для каждого из алгоритмов\n",
    "print(f'Лучшее сочетание параметров для алгоритма RandomForestClassifier = {rfc_model.best_params_}')\n",
    "print(f'Лучшее сочетание параметров для алгоритма GradientBoostingClassifier = {gbc_model.best_params_}')\n",
    "print(f'Лучшее сочетание параметров для алгоритма LogisticRegression = {lr_model.best_params_}')"
   ]
  },
  {
   "cell_type": "markdown",
   "metadata": {
    "colab_type": "text",
    "id": "ot7snYFDr56d"
   },
   "source": [
    "Для SVC, наилучшие параметры найду отдельно"
   ]
  },
  {
   "cell_type": "code",
   "execution_count": 93,
   "metadata": {
    "colab": {},
    "colab_type": "code",
    "id": "Qiejp7hKvmJl"
   },
   "outputs": [],
   "source": [
    "svc = SVC(kernel='rbf', random_state=17)"
   ]
  },
  {
   "cell_type": "code",
   "execution_count": 94,
   "metadata": {
    "colab": {
     "base_uri": "https://localhost:8080/",
     "height": 51
    },
    "colab_type": "code",
    "id": "qS2VbGS5Eq5c",
    "outputId": "0a5c49e7-3705-4c21-d9cb-caac0da6adee",
    "scrolled": true
   },
   "outputs": [
    {
     "name": "stderr",
     "output_type": "stream",
     "text": [
      "C:\\Anaconda\\lib\\site-packages\\sklearn\\svm\\base.py:193: FutureWarning: The default value of gamma will change from 'auto' to 'scale' in version 0.22 to account better for unscaled features. Set gamma explicitly to 'auto' or 'scale' to avoid this warning.\n",
      "  \"avoid this warning.\", FutureWarning)\n",
      "C:\\Anaconda\\lib\\site-packages\\sklearn\\svm\\base.py:193: FutureWarning: The default value of gamma will change from 'auto' to 'scale' in version 0.22 to account better for unscaled features. Set gamma explicitly to 'auto' or 'scale' to avoid this warning.\n",
      "  \"avoid this warning.\", FutureWarning)\n",
      "C:\\Anaconda\\lib\\site-packages\\sklearn\\svm\\base.py:193: FutureWarning: The default value of gamma will change from 'auto' to 'scale' in version 0.22 to account better for unscaled features. Set gamma explicitly to 'auto' or 'scale' to avoid this warning.\n",
      "  \"avoid this warning.\", FutureWarning)\n",
      "C:\\Anaconda\\lib\\site-packages\\sklearn\\svm\\base.py:193: FutureWarning: The default value of gamma will change from 'auto' to 'scale' in version 0.22 to account better for unscaled features. Set gamma explicitly to 'auto' or 'scale' to avoid this warning.\n",
      "  \"avoid this warning.\", FutureWarning)\n",
      "C:\\Anaconda\\lib\\site-packages\\sklearn\\svm\\base.py:193: FutureWarning: The default value of gamma will change from 'auto' to 'scale' in version 0.22 to account better for unscaled features. Set gamma explicitly to 'auto' or 'scale' to avoid this warning.\n",
      "  \"avoid this warning.\", FutureWarning)\n",
      "C:\\Anaconda\\lib\\site-packages\\sklearn\\svm\\base.py:193: FutureWarning: The default value of gamma will change from 'auto' to 'scale' in version 0.22 to account better for unscaled features. Set gamma explicitly to 'auto' or 'scale' to avoid this warning.\n",
      "  \"avoid this warning.\", FutureWarning)\n",
      "C:\\Anaconda\\lib\\site-packages\\sklearn\\svm\\base.py:193: FutureWarning: The default value of gamma will change from 'auto' to 'scale' in version 0.22 to account better for unscaled features. Set gamma explicitly to 'auto' or 'scale' to avoid this warning.\n",
      "  \"avoid this warning.\", FutureWarning)\n",
      "C:\\Anaconda\\lib\\site-packages\\sklearn\\svm\\base.py:193: FutureWarning: The default value of gamma will change from 'auto' to 'scale' in version 0.22 to account better for unscaled features. Set gamma explicitly to 'auto' or 'scale' to avoid this warning.\n",
      "  \"avoid this warning.\", FutureWarning)\n",
      "C:\\Anaconda\\lib\\site-packages\\sklearn\\svm\\base.py:193: FutureWarning: The default value of gamma will change from 'auto' to 'scale' in version 0.22 to account better for unscaled features. Set gamma explicitly to 'auto' or 'scale' to avoid this warning.\n",
      "  \"avoid this warning.\", FutureWarning)\n",
      "C:\\Anaconda\\lib\\site-packages\\sklearn\\svm\\base.py:193: FutureWarning: The default value of gamma will change from 'auto' to 'scale' in version 0.22 to account better for unscaled features. Set gamma explicitly to 'auto' or 'scale' to avoid this warning.\n",
      "  \"avoid this warning.\", FutureWarning)\n",
      "C:\\Anaconda\\lib\\site-packages\\sklearn\\svm\\base.py:193: FutureWarning: The default value of gamma will change from 'auto' to 'scale' in version 0.22 to account better for unscaled features. Set gamma explicitly to 'auto' or 'scale' to avoid this warning.\n",
      "  \"avoid this warning.\", FutureWarning)\n",
      "C:\\Anaconda\\lib\\site-packages\\sklearn\\svm\\base.py:193: FutureWarning: The default value of gamma will change from 'auto' to 'scale' in version 0.22 to account better for unscaled features. Set gamma explicitly to 'auto' or 'scale' to avoid this warning.\n",
      "  \"avoid this warning.\", FutureWarning)\n",
      "C:\\Anaconda\\lib\\site-packages\\sklearn\\svm\\base.py:193: FutureWarning: The default value of gamma will change from 'auto' to 'scale' in version 0.22 to account better for unscaled features. Set gamma explicitly to 'auto' or 'scale' to avoid this warning.\n",
      "  \"avoid this warning.\", FutureWarning)\n",
      "C:\\Anaconda\\lib\\site-packages\\sklearn\\svm\\base.py:193: FutureWarning: The default value of gamma will change from 'auto' to 'scale' in version 0.22 to account better for unscaled features. Set gamma explicitly to 'auto' or 'scale' to avoid this warning.\n",
      "  \"avoid this warning.\", FutureWarning)\n",
      "C:\\Anaconda\\lib\\site-packages\\sklearn\\svm\\base.py:193: FutureWarning: The default value of gamma will change from 'auto' to 'scale' in version 0.22 to account better for unscaled features. Set gamma explicitly to 'auto' or 'scale' to avoid this warning.\n",
      "  \"avoid this warning.\", FutureWarning)\n",
      "C:\\Anaconda\\lib\\site-packages\\sklearn\\svm\\base.py:193: FutureWarning: The default value of gamma will change from 'auto' to 'scale' in version 0.22 to account better for unscaled features. Set gamma explicitly to 'auto' or 'scale' to avoid this warning.\n",
      "  \"avoid this warning.\", FutureWarning)\n",
      "C:\\Anaconda\\lib\\site-packages\\sklearn\\svm\\base.py:193: FutureWarning: The default value of gamma will change from 'auto' to 'scale' in version 0.22 to account better for unscaled features. Set gamma explicitly to 'auto' or 'scale' to avoid this warning.\n",
      "  \"avoid this warning.\", FutureWarning)\n",
      "C:\\Anaconda\\lib\\site-packages\\sklearn\\svm\\base.py:193: FutureWarning: The default value of gamma will change from 'auto' to 'scale' in version 0.22 to account better for unscaled features. Set gamma explicitly to 'auto' or 'scale' to avoid this warning.\n",
      "  \"avoid this warning.\", FutureWarning)\n",
      "C:\\Anaconda\\lib\\site-packages\\sklearn\\svm\\base.py:193: FutureWarning: The default value of gamma will change from 'auto' to 'scale' in version 0.22 to account better for unscaled features. Set gamma explicitly to 'auto' or 'scale' to avoid this warning.\n",
      "  \"avoid this warning.\", FutureWarning)\n",
      "C:\\Anaconda\\lib\\site-packages\\sklearn\\svm\\base.py:193: FutureWarning: The default value of gamma will change from 'auto' to 'scale' in version 0.22 to account better for unscaled features. Set gamma explicitly to 'auto' or 'scale' to avoid this warning.\n",
      "  \"avoid this warning.\", FutureWarning)\n",
      "C:\\Anaconda\\lib\\site-packages\\sklearn\\svm\\base.py:193: FutureWarning: The default value of gamma will change from 'auto' to 'scale' in version 0.22 to account better for unscaled features. Set gamma explicitly to 'auto' or 'scale' to avoid this warning.\n",
      "  \"avoid this warning.\", FutureWarning)\n",
      "C:\\Anaconda\\lib\\site-packages\\sklearn\\svm\\base.py:193: FutureWarning: The default value of gamma will change from 'auto' to 'scale' in version 0.22 to account better for unscaled features. Set gamma explicitly to 'auto' or 'scale' to avoid this warning.\n",
      "  \"avoid this warning.\", FutureWarning)\n",
      "C:\\Anaconda\\lib\\site-packages\\sklearn\\svm\\base.py:193: FutureWarning: The default value of gamma will change from 'auto' to 'scale' in version 0.22 to account better for unscaled features. Set gamma explicitly to 'auto' or 'scale' to avoid this warning.\n",
      "  \"avoid this warning.\", FutureWarning)\n",
      "C:\\Anaconda\\lib\\site-packages\\sklearn\\svm\\base.py:193: FutureWarning: The default value of gamma will change from 'auto' to 'scale' in version 0.22 to account better for unscaled features. Set gamma explicitly to 'auto' or 'scale' to avoid this warning.\n",
      "  \"avoid this warning.\", FutureWarning)\n",
      "C:\\Anaconda\\lib\\site-packages\\sklearn\\svm\\base.py:193: FutureWarning: The default value of gamma will change from 'auto' to 'scale' in version 0.22 to account better for unscaled features. Set gamma explicitly to 'auto' or 'scale' to avoid this warning.\n",
      "  \"avoid this warning.\", FutureWarning)\n",
      "C:\\Anaconda\\lib\\site-packages\\sklearn\\svm\\base.py:193: FutureWarning: The default value of gamma will change from 'auto' to 'scale' in version 0.22 to account better for unscaled features. Set gamma explicitly to 'auto' or 'scale' to avoid this warning.\n",
      "  \"avoid this warning.\", FutureWarning)\n"
     ]
    },
    {
     "name": "stdout",
     "output_type": "stream",
     "text": [
      "Best score: 0.752983293556086\n",
      "Best parameters: {'C': 0.5000000000000001}\n"
     ]
    }
   ],
   "source": [
    "svc_params = {'C': np.arange(0.1, 1, 0.2)}\n",
    "\n",
    "svc_model = GridSearchCV(svc, param_grid=svc_params, cv=skf)\n",
    "svc_model.fit(x_train, y_train)\n",
    "print('Best score: {}'.format(svc_model.best_score_))\n",
    "print('Best parameters: {}'.format(svc_model.best_params_))"
   ]
  },
  {
   "cell_type": "code",
   "execution_count": 95,
   "metadata": {
    "colab": {
     "base_uri": "https://localhost:8080/",
     "height": 68
    },
    "colab_type": "code",
    "id": "X56hhFujIfjG",
    "outputId": "f9479c25-09ba-4c55-b44e-e6cbd85226b3"
   },
   "outputs": [
    {
     "name": "stdout",
     "output_type": "stream",
     "text": [
      "Best score: 0.7780429594272077\n",
      "Best parameters: {'gamma': 0.0001}\n"
     ]
    }
   ],
   "source": [
    "svc = SVC(kernel='rbf', C=0.5000000000000001, random_state=17)\n",
    "\n",
    "svc_params = {'gamma': np.logspace(-5, 2, num=8)}\n",
    "\n",
    "svc_model = GridSearchCV(svc, param_grid=svc_params, cv=skf)\n",
    "svc_model.fit(x_train, y_train)\n",
    "print('Best score: {}'.format(svc_model.best_score_))\n",
    "print('Best parameters: {}'.format(svc_model.best_params_))  "
   ]
  },
  {
   "cell_type": "code",
   "execution_count": 96,
   "metadata": {
    "colab": {
     "base_uri": "https://localhost:8080/",
     "height": 51
    },
    "colab_type": "code",
    "id": "UO8xzEUkNysc",
    "outputId": "14360834-e533-4df0-876b-68034ebd19ab"
   },
   "outputs": [
    {
     "name": "stdout",
     "output_type": "stream",
     "text": [
      "Best score: 0.7780429594272077\n",
      "Best parameters: {'degree': 1}\n"
     ]
    }
   ],
   "source": [
    "svc = SVC(kernel='rbf', C=0.5000000000000001, gamma=0.0001, random_state=17)\n",
    "\n",
    "svc_params = {'degree': np.arange(1, 10, 1)}\n",
    "\n",
    "svc_model = GridSearchCV(svc, param_grid=svc_params, cv=skf)\n",
    "svc_model.fit(x_train, y_train)\n",
    "print('Best score: {}'.format(svc_model.best_score_))\n",
    "print('Best parameters: {}'.format(svc_model.best_params_))              "
   ]
  },
  {
   "cell_type": "markdown",
   "metadata": {
    "colab_type": "text",
    "id": "X_SYWckZOYt6"
   },
   "source": [
    "После поиска наилучших параметров, картина выглядит следующим образом"
   ]
  },
  {
   "cell_type": "code",
   "execution_count": 97,
   "metadata": {
    "colab": {},
    "colab_type": "code",
    "id": "wxoyQlSIN0tr"
   },
   "outputs": [],
   "source": [
    "knn = KNeighborsClassifier(n_neighbors=8)\n",
    "nb = GaussianNB(var_smoothing=1e-05)\n",
    "dtc = DecisionTreeClassifier(max_depth=4, max_features=9, random_state=17)\n",
    "\n",
    "rfc = RandomForestClassifier(min_samples_leaf=4, n_estimators=60, random_state=17)\n",
    "gbc = GradientBoostingClassifier(learning_rate=0.1, random_state=17)\n",
    "lr  = LogisticRegression(C=0.7999999999999999, solver='newton-cg', random_state=17)\n",
    "svc = SVC(kernel='rbf', C=0.5000000000000001, gamma=0.0001, degree=1, random_state=17)"
   ]
  },
  {
   "cell_type": "markdown",
   "metadata": {
    "colab_type": "text",
    "id": "iQ1011miqxBZ"
   },
   "source": [
    "Сделаем предсказание и выясним долю правильных ответов"
   ]
  },
  {
   "cell_type": "code",
   "execution_count": 98,
   "metadata": {
    "colab": {
     "base_uri": "https://localhost:8080/",
     "height": 68
    },
    "colab_type": "code",
    "id": "WW7CKY-_qRl3",
    "outputId": "78b4600e-b7e3-4e23-e091-a8060697afed"
   },
   "outputs": [
    {
     "name": "stdout",
     "output_type": "stream",
     "text": [
      "Accuracy_knn: 0.7706013363028953\n",
      "Accuracy_nb: 0.7488864142538976\n",
      "Accuracy_dtc: 0.7873051224944321\n"
     ]
    }
   ],
   "source": [
    "knn_model = knn.fit(x_train, y_train)\n",
    "nb_model = nb.fit(x_train, y_train)\n",
    "dtc_model = dtc.fit(x_train, y_train)\n",
    "\n",
    "knn_pred = knn_model.predict(x_test)\n",
    "nb_pred = nb_model.predict(x_test)\n",
    "dtc_pred = dtc_model.predict(x_test)\n",
    "\n",
    "print(f'Accuracy_knn: {accuracy_score(y_test, knn_pred)}')\n",
    "print(f'Accuracy_nb: {accuracy_score(y_test, nb_pred)}')\n",
    "print(f'Accuracy_dtc: {accuracy_score(y_test, dtc_pred)}')"
   ]
  },
  {
   "cell_type": "code",
   "execution_count": 99,
   "metadata": {
    "colab": {},
    "colab_type": "code",
    "id": "ZeTmJgpIQEa8"
   },
   "outputs": [],
   "source": [
    "rfc_model = rfc.fit(x_train, y_train)\n",
    "svc_model = svc.fit(x_train, y_train)\n",
    "gbc_model = gbc.fit(x_train, y_train)\n",
    "lr_model = lr.fit(x_train, y_train)\n",
    "\n",
    "rfc_pred = rfc_model.predict(x_test)\n",
    "svc_pred = svc_model.predict(x_test)\n",
    "gbc_pred = gbc_model.predict(x_test)\n",
    "lr_pred = lr_model.predict(x_test)"
   ]
  },
  {
   "cell_type": "code",
   "execution_count": 100,
   "metadata": {
    "colab": {
     "base_uri": "https://localhost:8080/",
     "height": 85
    },
    "colab_type": "code",
    "id": "0w9R5HMTrn9Z",
    "outputId": "c3709a5d-983d-4558-cf3b-bc75e57c11db"
   },
   "outputs": [
    {
     "name": "stdout",
     "output_type": "stream",
     "text": [
      "Accuracy_rfc: 0.7878619153674833\n",
      "Accuracy_svc: 0.7800668151447662\n",
      "Accuracy_gbc: 0.7912026726057907\n",
      "Accuracy_lr: 0.7917594654788419\n"
     ]
    }
   ],
   "source": [
    "print(f'Accuracy_rfc: {accuracy_score(y_test, rfc_pred)}')\n",
    "print(f'Accuracy_svc: {accuracy_score(y_test, svc_pred)}')\n",
    "print(f'Accuracy_gbc: {accuracy_score(y_test, gbc_pred)}')\n",
    "print(f'Accuracy_lr: {accuracy_score(y_test, lr_pred)}')"
   ]
  },
  {
   "cell_type": "markdown",
   "metadata": {
    "colab_type": "text",
    "id": "kCvoQV_5cYvv"
   },
   "source": [
    "Теперь можем найти наилучшие параметры для XGBClassifier"
   ]
  },
  {
   "cell_type": "code",
   "execution_count": 101,
   "metadata": {
    "colab": {},
    "colab_type": "code",
    "id": "uB7OIQs3PpB2"
   },
   "outputs": [],
   "source": [
    "xgb_params = {'n_estimators': range(10, 100, 5),\n",
    "              'eta': np.arange(0.1, 1., .1),\n",
    "              'min_child_weight': range(1, 10, 1),\n",
    "              'subsample': np.arange(0.1, 1., 0.2)}\n",
    "    \n",
    "xgb_model = GridSearchCV(meta, xgb_params, cv=skf)"
   ]
  },
  {
   "cell_type": "code",
   "execution_count": 103,
   "metadata": {
    "colab": {
     "base_uri": "https://localhost:8080/",
     "height": 51
    },
    "colab_type": "code",
    "id": "HKizao4lQG2U",
    "outputId": "ff058af6-48a4-4f5a-d61c-7b0ed86a575e"
   },
   "outputs": [
    {
     "name": "stdout",
     "output_type": "stream",
     "text": [
      "Best score: 0.8006681514476615\n",
      "Best parameters: {'eta': 0.4, 'min_child_weight': 1, 'n_estimators': 50, 'subsample': 0.1}\n"
     ]
    }
   ],
   "source": [
    "models_pred = np.array([rfc_pred, svc_pred, gbc_pred, lr_pred])\n",
    "\n",
    "meta_mtrx = np.empty((y_test.shape[0], len(models_pred)))\n",
    "for n, model in enumerate(models_pred):\n",
    "    meta_mtrx[:, n] = model\n",
    "    \n",
    "xgb_model.fit(meta_mtrx, y_test)\n",
    "print('Best score: {}'.format(xgb_model.best_score_))\n",
    "print('Best parameters: {}'.format(xgb_model.best_params_))"
   ]
  },
  {
   "cell_type": "code",
   "execution_count": 104,
   "metadata": {
    "colab": {},
    "colab_type": "code",
    "id": "GeUSrIA9cTz4"
   },
   "outputs": [],
   "source": [
    "meta = XGBClassifier(eta=0.4, min_child_weight=1, n_estimators=50, subsample=0.1)"
   ]
  },
  {
   "cell_type": "markdown",
   "metadata": {
    "colab_type": "text",
    "id": "l_qcT6FEY5mg"
   },
   "source": [
    "Получим модель стекинга"
   ]
  },
  {
   "cell_type": "code",
   "execution_count": 105,
   "metadata": {
    "colab": {},
    "colab_type": "code",
    "id": "5Iu-FGj3Za_J"
   },
   "outputs": [],
   "source": [
    "def stacking(models, meta_alg, data_train, targets_train, data_test, targets_test=None, random_state=None, test_size=None, cv=5):\n",
    "    \n",
    "    if test_size is None:\n",
    "        \n",
    "        meta_mtrx = np.empty((data_train.shape[0], len(models)))\n",
    "\n",
    "        for n, model in enumerate(models):\n",
    "            meta_mtrx[:, n] = cross_val_predict(model, data_train, targets_train, cv=cv, method='predict')\n",
    "            model.fit(data_train, targets_train)\n",
    "\n",
    "        meta_alg.fit(meta_mtrx, targets_train)\n",
    "\n",
    "        meta_mtrx_test = np.empty((data_test.shape[0], len(models)))\n",
    "\n",
    "        for n, model in enumerate(models):\n",
    "            meta_mtrx_test[:, n] = model.predict(data_test)\n",
    "\n",
    "    elif test_size > 0 and test_size < 1:\n",
    "        \n",
    "        x_train, x_test, y_train, y_test = train_test_split(data_train, targets_train, test_size=test_size, random_state=random_state)\n",
    "        \n",
    "        meta_mtrx = np.empty((x_test.shape[0], len(models)))\n",
    "\n",
    "        for n, model in enumerate(models):\n",
    "            model.fit(x_train, y_train)\n",
    "            meta_mtrx[:, n] = model.predict(x_test)\n",
    "\n",
    "        meta_mtrx_pred = meta_alg.fit(meta_mtrx, y_test)\n",
    "\n",
    "        meta_mtrx_test = np.empty((data_test.shape[0], len(models)))\n",
    "\n",
    "        for n, model in enumerate(models):\n",
    "            meta_mtrx_test[:, n] = model.predict(data_test)\n",
    "\n",
    "    else:\n",
    "        raise ValueError(\"test_size must be between 0 and 1\")\n",
    "        \n",
    "    return meta_alg, meta_mtrx_test"
   ]
  },
  {
   "cell_type": "code",
   "execution_count": 106,
   "metadata": {
    "colab": {},
    "colab_type": "code",
    "id": "qSsajBnuPpO2"
   },
   "outputs": [],
   "source": [
    "models = [rfc, lr, svc, gbc] \n",
    "\n",
    "meta_alg, meta_mtrx_test = stacking(models = models, \n",
    "                                    meta_alg = meta, \n",
    "                                    data_train = x_train,\n",
    "                                    targets_train = y_train,\n",
    "                                    data_test = x_test,\n",
    "                                    targets_test = y_test,\n",
    "                                    random_state=17, \n",
    "                                    test_size = 0.9\n",
    "                                    )"
   ]
  },
  {
   "cell_type": "code",
   "execution_count": 107,
   "metadata": {
    "colab": {
     "base_uri": "https://localhost:8080/",
     "height": 34
    },
    "colab_type": "code",
    "id": "-uHXa84pZjlh",
    "outputId": "2ba39b4b-2bf3-48b8-df41-c2c7aeac73aa"
   },
   "outputs": [
    {
     "name": "stdout",
     "output_type": "stream",
     "text": [
      "Accuracy_Stacking: 0.7928730512249443\n"
     ]
    }
   ],
   "source": [
    "meta_alg_predict = meta_alg.predict(meta_mtrx_test)\n",
    "print(f'Accuracy_Stacking: {accuracy_score(y_test, meta_alg_predict)}')"
   ]
  },
  {
   "cell_type": "markdown",
   "metadata": {
    "colab_type": "text",
    "id": "uyDpeHkTVYSf"
   },
   "source": [
    "# 4. Сравнение качества моделей "
   ]
  },
  {
   "cell_type": "markdown",
   "metadata": {
    "colab_type": "text",
    "id": "T7R0Qa2Nu6I7"
   },
   "source": [
    "Посмотрим производительность по accuracy"
   ]
  },
  {
   "cell_type": "code",
   "execution_count": 108,
   "metadata": {
    "colab": {
     "base_uri": "https://localhost:8080/",
     "height": 68
    },
    "colab_type": "code",
    "id": "-dofXm0puAGv",
    "outputId": "a5f7b9e2-b3bf-4afe-e04f-77e5a7e7a7df"
   },
   "outputs": [
    {
     "name": "stdout",
     "output_type": "stream",
     "text": [
      "Accuracy_knn: 0.773985707719496\n",
      "Accuracy_nb: 0.7653901066013782\n",
      "Accuracy_dtc: 0.7916448326910155\n"
     ]
    }
   ],
   "source": [
    "from sklearn.model_selection import cross_val_score\n",
    "\n",
    "print(f'Accuracy_knn: {cross_val_score(knn, x_train, y_train, cv=skf, scoring=\"accuracy\").mean()}')\n",
    "print(f'Accuracy_nb: {cross_val_score(nb, x_train, y_train, cv=skf, scoring=\"accuracy\").mean()}')\n",
    "print(f'Accuracy_dtc: {cross_val_score(dtc, x_train, y_train, cv=skf, scoring=\"accuracy\").mean()}')"
   ]
  },
  {
   "cell_type": "markdown",
   "metadata": {
    "colab_type": "text",
    "id": "fU0vHTmdtcjn"
   },
   "source": [
    "НО, когда мы работаем с асиметричными данными, т.е. одни классы встречаются намного чаще других, то \"accuracy\" не считается предпочтительным показателем производительности классификаторов. Гораздо лучший способ производительности предусматривает просмотр матрицы неточностей"
   ]
  },
  {
   "cell_type": "code",
   "execution_count": 109,
   "metadata": {
    "colab": {},
    "colab_type": "code",
    "id": "Mt34HTxfNV-G"
   },
   "outputs": [],
   "source": [
    "from sklearn.metrics import (confusion_matrix, recall_score, precision_score, f1_score)"
   ]
  },
  {
   "cell_type": "code",
   "execution_count": 110,
   "metadata": {
    "colab": {
     "base_uri": "https://localhost:8080/",
     "height": 51
    },
    "colab_type": "code",
    "id": "C90ql34UNWEw",
    "outputId": "9f669d02-e9ea-4f98-f450-40669c7a9753"
   },
   "outputs": [
    {
     "data": {
      "text/plain": [
       "array([[1233,   99],\n",
       "       [ 313,  151]], dtype=int64)"
      ]
     },
     "execution_count": 110,
     "metadata": {},
     "output_type": "execute_result"
    }
   ],
   "source": [
    "confusion_matrix(y_test, knn_pred)"
   ]
  },
  {
   "cell_type": "markdown",
   "metadata": {
    "colab_type": "text",
    "id": "yVc5IDO83Xbt"
   },
   "source": [
    "Смотря на матрицу confusion_matrix, то как то не информативно, а потому матрицы по остальным моделям классификаторов я выводить тут не буду"
   ]
  },
  {
   "cell_type": "markdown",
   "metadata": {
    "colab_type": "text",
    "id": "UqNKnyTwv61S"
   },
   "source": [
    "Смотрим точность и полноту"
   ]
  },
  {
   "cell_type": "markdown",
   "metadata": {
    "colab_type": "text",
    "id": "F0IMM6Zo36Er"
   },
   "source": [
    "**Точность**"
   ]
  },
  {
   "cell_type": "code",
   "execution_count": 111,
   "metadata": {
    "colab": {
     "base_uri": "https://localhost:8080/",
     "height": 153
    },
    "colab_type": "code",
    "id": "m22z4uWHNWCN",
    "outputId": "a77cf6d8-2644-42b5-c45c-785cfcd592ad"
   },
   "outputs": [
    {
     "name": "stdout",
     "output_type": "stream",
     "text": [
      "knn : 0.3254310344827586\n",
      "nb : 0.5193965517241379\n",
      "dtc : 0.3728448275862069\n",
      "rfc : 0.4547413793103448\n",
      "svc : 0.36853448275862066\n",
      "gbc : 0.4892241379310345\n",
      "lr : 0.4892241379310345\n",
      "Stacking : 0.45905172413793105\n"
     ]
    }
   ],
   "source": [
    "print(f'knn : {recall_score(y_test, knn_pred)}')   # точность\n",
    "print(f'nb : {recall_score(y_test, nb_pred)}')\n",
    "print(f'dtc : {recall_score(y_test, dtc_pred)}')\n",
    "\n",
    "print(f'rfc : {recall_score(y_test, rfc_pred)}')\n",
    "print(f'svc : {recall_score(y_test, svc_pred)}')\n",
    "print(f'gbc : {recall_score(y_test, gbc_pred)}')\n",
    "print(f'lr : {recall_score(y_test, lr_pred)}')\n",
    "\n",
    "print(f'Stacking : {recall_score(y_test, meta_alg_predict)}')"
   ]
  },
  {
   "cell_type": "markdown",
   "metadata": {
    "colab_type": "text",
    "id": "0stYwyVl4-b7"
   },
   "source": [
    "**Полнота**"
   ]
  },
  {
   "cell_type": "code",
   "execution_count": 112,
   "metadata": {
    "colab": {
     "base_uri": "https://localhost:8080/",
     "height": 153
    },
    "colab_type": "code",
    "id": "HUiBIOlWwvJ_",
    "outputId": "361d1e48-0593-4b70-b6c7-33d1bc745a6f"
   },
   "outputs": [
    {
     "name": "stdout",
     "output_type": "stream",
     "text": [
      "knn : 0.604\n",
      "nb : 0.5138592750533049\n",
      "dtc : 0.6553030303030303\n",
      "rfc : 0.6224188790560472\n",
      "svc : 0.6263736263736264\n",
      "gbc : 0.6219178082191781\n",
      "lr : 0.6236263736263736\n",
      "Stacking : 0.6377245508982036\n"
     ]
    }
   ],
   "source": [
    "print(f'knn : {precision_score(y_test, knn_pred)}')   # полнота\n",
    "print(f'nb : {precision_score(y_test, nb_pred)}')\n",
    "print(f'dtc : {precision_score(y_test, dtc_pred)}')\n",
    "\n",
    "print(f'rfc : {precision_score(y_test, rfc_pred)}')\n",
    "print(f'svc : {precision_score(y_test, svc_pred)}')\n",
    "print(f'gbc : {precision_score(y_test, gbc_pred)}')\n",
    "print(f'lr : {precision_score(y_test, lr_pred)}')\n",
    "\n",
    "print(f'Stacking : {precision_score(y_test, meta_alg_predict)}')"
   ]
  },
  {
   "cell_type": "markdown",
   "metadata": {
    "colab_type": "text",
    "id": "p92RxDT15hmD"
   },
   "source": [
    "В случае с предсказанием клиента, нам нужна полнота и в этом лидирует метод классификатора \"DecisionTreeClassifier\" показавший процент полноты от 65 %. Думаю на этом можно и завершить, т.к. в этой задаче F-мера тут не нужна, она показывает точность и полноту в целом, а нам нужна только полнота. AUC-ROC тут тоже не нужен т.к. у нас конкретно определено либо ушел либо нет то есть это либо 1 либо 0, а AUC-ROC нужен для случаев когда значения в пределах [0, 1] что уже не наш случай."
   ]
  },
  {
   "cell_type": "markdown",
   "metadata": {
    "colab": {},
    "colab_type": "code",
    "id": "0QJxoBywzy1g"
   },
   "source": [
    "Но для успокоения души и дабы показать проверяющему что мои слова не пустой звук, сделаю визуализацию с выводом значения"
   ]
  },
  {
   "cell_type": "code",
   "execution_count": 113,
   "metadata": {
    "colab": {},
    "colab_type": "code",
    "id": "jLjy4cE7zy7z"
   },
   "outputs": [],
   "source": [
    "from sklearn.metrics import roc_curve\n",
    "\n",
    "fpr, tpr, thresholds = roc_curve(y_test, dtc_pred)"
   ]
  },
  {
   "cell_type": "markdown",
   "metadata": {
    "colab": {},
    "colab_type": "code",
    "id": "2pt-ylm4zy_0"
   },
   "source": [
    "def plot_roc_curve(fpr, tpr, label=None):\n",
    "  plt.plot(fpr, tpr, linewidth=2, label=label)\n",
    "  plt.plot([0, 1], [0, 1], 'k--')\n",
    "  plt.axis([0, 1, 0, 1])\n",
    "  plt.xlabel('False Positive Rate')\n",
    "  plt.ylabel('True Positive Rate')\n",
    "\n",
    "plot_roc_curve(fpr, tpr)\n",
    "plt.show()"
   ]
  },
  {
   "cell_type": "markdown",
   "metadata": {},
   "source": [
    "Расчитаю площадь под кривой до пунктирной, она же кривая ROC"
   ]
  },
  {
   "cell_type": "code",
   "execution_count": 115,
   "metadata": {
    "colab": {},
    "colab_type": "code",
    "id": "GiNWB4tezy6T"
   },
   "outputs": [
    {
     "data": {
      "text/plain": [
       "0.6522632546339442"
      ]
     },
     "execution_count": 115,
     "metadata": {},
     "output_type": "execute_result"
    }
   ],
   "source": [
    "from sklearn.metrics import roc_auc_score\n",
    "\n",
    "roc_auc_score(y_test, dtc_pred)"
   ]
  },
  {
   "cell_type": "markdown",
   "metadata": {},
   "source": [
    "**Вывод** победило дерево решений"
   ]
  },
  {
   "cell_type": "markdown",
   "metadata": {},
   "source": [
    "# P.S. +"
   ]
  },
  {
   "cell_type": "markdown",
   "metadata": {},
   "source": [
    "Что то как не спокойно на душе, как будто что то пропустил, я же расчитывал что сейчас как применю все знания полученные в пройденных модулях и получу модель от 90 %, а на деле 65 %. Что в итоге разочарование и бросать изучение data science? А может преподаватели намеренно что то умолчали, так давайте я обращусь к моделям которые преподаватели не упоминали и которые хорошо работают с двоичными данными"
   ]
  },
  {
   "cell_type": "markdown",
   "metadata": {},
   "source": [
    "План:\n",
    " Сделать все что делал выше только на модели случайные леса (RandomForestClassifier), но с небольшими поправками в действиях"
   ]
  },
  {
   "cell_type": "code",
   "execution_count": 117,
   "metadata": {},
   "outputs": [],
   "source": [
    "from sklearn.ensemble import RandomForestClassifier\n",
    "\n",
    "from sklearn.model_selection import (GridSearchCV,\n",
    "                                     train_test_split,\n",
    "                                     StratifiedKFold,\n",
    "                                     cross_val_predict)\n",
    "from sklearn.metrics import (accuracy_score,\n",
    "                             roc_auc_score,\n",
    "                             roc_curve)"
   ]
  },
  {
   "cell_type": "code",
   "execution_count": 119,
   "metadata": {},
   "outputs": [],
   "source": [
    "# test_size показывает, какой объем данных нужно выделить для тестового набора\n",
    "# random_state — просто сид для случайной генерации\n",
    "X_train, X_test, y_train, y_test = train_test_split(data.values, \n",
    "                                                    targets.values,\n",
    "                                                    test_size=0.3,\n",
    "                                                    random_state=42)"
   ]
  },
  {
   "cell_type": "code",
   "execution_count": 126,
   "metadata": {},
   "outputs": [
    {
     "name": "stdout",
     "output_type": "stream",
     "text": [
      "Best score: 0.7873508353221957\n",
      "Best parameters: {'criterion': 'entropy', 'max_features': 'auto', 'n_estimators': 200}\n"
     ]
    }
   ],
   "source": [
    "forest = RandomForestClassifier(random_state=42)\n",
    "\n",
    "parameter_grid = {'n_estimators' : [15, 100, 200],\n",
    "                  'criterion' : ['gini', 'entropy'],\n",
    "                  'max_features' : ['auto', 'sqrt', 'log2', None]\n",
    "                 }\n",
    "\n",
    "grid_search = GridSearchCV(forest, param_grid=parameter_grid, cv=skf)\n",
    "grid_search.fit(X_train, y_train)\n",
    "print('Best score: {}'.format(grid_search.best_score_))\n",
    "print('Best parameters: {}'.format(grid_search.best_params_))"
   ]
  },
  {
   "cell_type": "code",
   "execution_count": 128,
   "metadata": {},
   "outputs": [
    {
     "name": "stdout",
     "output_type": "stream",
     "text": [
      "Best score: 0.7926014319809069\n",
      "Best parameters: {'max_depth': 50, 'max_leaf_nodes': 20, 'min_samples_split': 7, 'min_weight_fraction_leaf': 0.0}\n"
     ]
    }
   ],
   "source": [
    "forest = RandomForestClassifier(n_estimators = 200,\n",
    "                                criterion = 'entropy',\n",
    "                                max_features = 'auto')\n",
    "parameter_grid = {\n",
    "                  'max_depth' : [None, 50],\n",
    "                  'min_samples_split' : [7, 11],\n",
    "                  'min_weight_fraction_leaf' : [0.0, 0.2],\n",
    "                  'max_leaf_nodes' : [18, 20],\n",
    "                 }\n",
    "\n",
    "grid_search = GridSearchCV(forest, param_grid=parameter_grid, cv=skf)\n",
    "grid_search.fit(X_train, y_train)\n",
    "print('Best score: {}'.format(grid_search.best_score_))\n",
    "print('Best parameters: {}'.format(grid_search.best_params_))"
   ]
  },
  {
   "cell_type": "code",
   "execution_count": 129,
   "metadata": {},
   "outputs": [],
   "source": [
    "forest_clf = RandomForestClassifier(n_estimators = 200,\n",
    "                                criterion = 'entropy',\n",
    "                                max_features = 'auto',\n",
    "                                max_depth = 50,                                \n",
    "                                min_samples_split =7,\n",
    "                                min_weight_fraction_leaf = 0.0,\n",
    "                                max_leaf_nodes = 20)"
   ]
  },
  {
   "cell_type": "code",
   "execution_count": 130,
   "metadata": {},
   "outputs": [],
   "source": [
    "y_proba_forest = cross_val_predict(forest_clf, X_train, y_train, cv=3, method=\"predict_proba\")"
   ]
  },
  {
   "cell_type": "code",
   "execution_count": 131,
   "metadata": {},
   "outputs": [],
   "source": [
    "y_scores_forest = y_proba_forest[:, 1] # показатель = вероятность положительного класса (TPR)\n",
    "\n",
    "fpr_forest, tpr_forest, thresholds_forest = roc_curve(y_train, y_scores_forest)"
   ]
  },
  {
   "cell_type": "code",
   "execution_count": 132,
   "metadata": {},
   "outputs": [
    {
     "data": {
      "image/png": "[encoded data removed]",
      "text/plain": [
       "<Figure size 432x288 with 1 Axes>"
      ]
     },
     "metadata": {},
     "output_type": "display_data"
    }
   ],
   "source": [
    "plt.plot(fpr, tpr, \"b:\", label=\"DTC\")\n",
    "plot_roc_curve(fpr_forest, tpr_forest, 'Случайный лес')\n",
    "plt.legend(loc=\"lower right\")\n",
    "plt.show()"
   ]
  },
  {
   "cell_type": "code",
   "execution_count": 133,
   "metadata": {},
   "outputs": [
    {
     "data": {
      "text/plain": [
       "0.8404657151214213"
      ]
     },
     "execution_count": 133,
     "metadata": {},
     "output_type": "execute_result"
    }
   ],
   "source": [
    "roc_auc_score(y_train, y_scores_forest)"
   ]
  },
  {
   "cell_type": "markdown",
   "metadata": {},
   "source": [
    "Теперь нужно проверить на валидационных данных"
   ]
  },
  {
   "cell_type": "code",
   "execution_count": 137,
   "metadata": {},
   "outputs": [
    {
     "data": {
      "text/plain": [
       "0.8023385300668151"
      ]
     },
     "execution_count": 137,
     "metadata": {},
     "output_type": "execute_result"
    }
   ],
   "source": [
    "forest_clf.fit(X_train, y_train)\n",
    "forest_clf.predict(X_test)\n",
    "\n",
    "forest_clf.score(X_test, y_test)"
   ]
  },
  {
   "cell_type": "markdown",
   "metadata": {},
   "source": [
    "Здорово, получилось добиться точности предсказания от 80 %, прямо гора с плеч упала, значит что то в голове отложилось. На этом заканчиваю курсовую."
   ]
  }
 ],
 "metadata": {
  "accelerator": "TPU",
  "colab": {
   "collapsed_sections": [],
   "name": "Coursework_ML_20200404.ipynb",
   "provenance": []
  },
  "kernelspec": {
   "display_name": "Python 3",
   "language": "python",
   "name": "python3"
  },
  "language_info": {
   "codemirror_mode": {
    "name": "ipython",
    "version": 3
   },
   "file_extension": ".py",
   "mimetype": "text/x-python",
   "name": "python",
   "nbconvert_exporter": "python",
   "pygments_lexer": "ipython3",
   "version": "3.7.3"
  }
 },
 "nbformat": 4,
 "nbformat_minor": 1
}
